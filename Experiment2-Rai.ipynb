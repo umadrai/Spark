{
 "cells": [
  {
   "cell_type": "markdown",
   "metadata": {},
   "source": [
    "# Name: Umad ul hassan Rai\n",
    "# Exercise Sheet 2"
   ]
  },
  {
   "cell_type": "code",
   "execution_count": 9,
   "metadata": {},
   "outputs": [],
   "source": [
    "from pyspark.sql import SparkSession\n",
    "from pyspark.sql import SQLContext\n",
    "from pyspark.sql.types import *\n",
    "from pyspark.sql.types import StringType, StructType, StructField, Row\n",
    "from pyspark.sql import Row\n",
    "from pyspark.sql.functions import concat, col, lit, split, udf, size, lit\n",
    "from pyspark.sql import functions as sf\n",
    "from operator import add\n",
    "import pandas as pd\n",
    "import pyspark\n",
    "import time\n",
    "import csv\n"
   ]
  },
  {
   "cell_type": "code",
   "execution_count": 10,
   "metadata": {},
   "outputs": [],
   "source": [
    "# initialise Spark Session\n",
    "sparkSession = SparkSession.builder.appName(\"Exercise1\").getOrCreate()\n",
    "sc = sparkSession.sparkContext\n",
    "sqlC = SQLContext(sc)"
   ]
  },
  {
   "cell_type": "markdown",
   "metadata": {},
   "source": [
    "# Exercise 2.1 Advanced Analysis"
   ]
  },
  {
   "cell_type": "code",
   "execution_count": 11,
   "metadata": {},
   "outputs": [
    {
     "name": "stdout",
     "output_type": "stream",
     "text": [
      "root\n",
      " |-- User: string (nullable = true)\n",
      " |-- Papers_ID: string (nullable = true)\n",
      "\n"
     ]
    }
   ],
   "source": [
    "# Using the same Dataframes as created in previous exercise.\n",
    "# Using two columns as StringType (Later will assign second column (Papers_ID) to array.)\n",
    "schema = StructType([\n",
    "    StructField(\"User\", StringType(), False),\n",
    "    StructField(\"Papers_ID\", StringType(), True)\n",
    "])\n",
    "\n",
    "# Creating DataFrame df for users_libraries\n",
    "userDF = sqlC.read.schema(schema)\\\n",
    "        .option(\"header\", 'False').option(\"delimiter\", \";\").csv(\"users_libraries.txt\")\n",
    "\n",
    "\n",
    "#userDF.show(10, False)\n",
    "userDF.printSchema()\n",
    "#userDF.show(20, False)\n"
   ]
  },
  {
   "cell_type": "code",
   "execution_count": 12,
   "metadata": {},
   "outputs": [
    {
     "name": "stdout",
     "output_type": "stream",
     "text": [
      "root\n",
      " |-- paper_id: string (nullable = true)\n",
      " |-- type: string (nullable = true)\n",
      " |-- journal: string (nullable = true)\n",
      " |-- bookـtitle: string (nullable = true)\n",
      " |-- series: string (nullable = true)\n",
      " |-- publisher: string (nullable = true)\n",
      " |-- pages: string (nullable = true)\n",
      "\n"
     ]
    }
   ],
   "source": [
    "# Creating Papers.csv DataFrame\n",
    "# I didnt create schema for this DF, because at the end i needed two columns and wanted to change\n",
    "# type of only paper_id column to IntegerType()\n",
    "paperDF = sqlC.read.csv(\"papers.csv\")\n",
    "columns= [\"paper_id\", \"type\", \"journal\", \"bookـtitle\", \"series\", \"publisher\", \"pages\", \"volume\", \"number\", \"year\", \"month\", \"postedat\",\"address\",\"title\", \"abstract\"]\n",
    "oldCols = paperDF.schema.names\n",
    "for i, x in enumerate(oldCols):\n",
    "    paperDF = paperDF.withColumnRenamed(x, columns[i])\n",
    "#paperDF.show(2)\n",
    "paperDF.printSchema()"
   ]
  },
  {
   "cell_type": "code",
   "execution_count": 13,
   "metadata": {},
   "outputs": [
    {
     "name": "stdout",
     "output_type": "stream",
     "text": [
      "root\n",
      " |-- User: string (nullable = true)\n",
      " |-- PapersID: array (nullable = true)\n",
      " |    |-- element: string (containsNull = true)\n",
      "\n",
      "+--------------------+--------------------+\n",
      "|                User|            PapersID|\n",
      "+--------------------+--------------------+\n",
      "|f05bcffe7951de9e5...|[1158654, 478707,...|\n",
      "|28d3f81251d94b097...|[3929762, 503574,...|\n",
      "+--------------------+--------------------+\n",
      "only showing top 2 rows\n",
      "\n",
      "root\n",
      " |-- User: string (nullable = true)\n",
      " |-- PapersID: array (nullable = true)\n",
      " |    |-- element: string (containsNull = true)\n",
      "\n"
     ]
    }
   ],
   "source": [
    "#Type casting from str to array so i can apply explode function on papers_id column.\n",
    "def str_to_arr(my_list):\n",
    "    my_list = my_list.split(\",\")\n",
    "    return [x for x in my_list]\n",
    "\n",
    "str_to_arr_udf = udf(str_to_arr,ArrayType(StringType()))\n",
    "\n",
    "userDF = userDF.withColumn('PapersID',str_to_arr_udf(userDF[\"Papers_ID\"]))\n",
    "userDF = userDF.drop(\"Papers_ID\")\n",
    "userDF.printSchema()\n",
    "userDF.show(2)\n",
    "userDF.printSchema()"
   ]
  },
  {
   "cell_type": "code",
   "execution_count": 14,
   "metadata": {},
   "outputs": [
    {
     "name": "stdout",
     "output_type": "stream",
     "text": [
      "root\n",
      " |-- User: string (nullable = true)\n",
      " |-- PapersID: array (nullable = true)\n",
      " |    |-- element: string (containsNull = true)\n",
      "\n"
     ]
    }
   ],
   "source": [
    "# Checking if explode function is working properly\n",
    "userDF2 = userDF.select(userDF.User, sf.explode(userDF.PapersID))\n",
    "userDF2 = userDF2.withColumn(\"Paper_ID\", userDF2[\"col\"])\n",
    "userDF2 = userDF2.drop(\"col\")\n",
    "#testDF = userDF2.select(userDF2.User, userDF2.Paper_ID)\n",
    "#userDF2.show(50, False)\n",
    "userDF.printSchema()"
   ]
  },
  {
   "cell_type": "markdown",
   "metadata": {},
   "source": [
    "# 2.1 a) Sparsity"
   ]
  },
  {
   "cell_type": "code",
   "execution_count": 15,
   "metadata": {},
   "outputs": [
    {
     "name": "stdout",
     "output_type": "stream",
     "text": [
      "Total Ratings:  828481\n",
      "Total Users:  28416\n",
      "Total Papers:  172082\n",
      "Total Users * Papers:  4889882112\n",
      "Sparsity:  99.98305723980612\n"
     ]
    }
   ],
   "source": [
    "# Total Number of Ratings.\n",
    "numerator = userDF2.select(userDF2.Paper_ID).count()\n",
    "print(\"Total Ratings: \",numerator)\n",
    "\n",
    "# Total Users\n",
    "num_users = userDF.select(userDF.User).count()\n",
    "print(\"Total Users: \", num_users)\n",
    "\n",
    "# Total Papers\n",
    "num_papers = paperDF.select(paperDF.paper_id).count()\n",
    "print(\"Total Papers: \", num_papers)\n",
    "\n",
    "# Total User * Total Papers\n",
    "denom = num_users * num_papers\n",
    "print(\"Total Users * Papers: \", denom)\n",
    "\n",
    "# Sparsity\n",
    "sparsity = (1.0 - (numerator/denom) ) *100\n",
    "print(\"Sparsity: \", sparsity)"
   ]
  },
  {
   "cell_type": "markdown",
   "metadata": {},
   "source": [
    "# 2.1 b) User, Ratings Rank Frequency"
   ]
  },
  {
   "cell_type": "code",
   "execution_count": 16,
   "metadata": {},
   "outputs": [
    {
     "data": {
      "text/plain": [
       "[Text(0, 0.5, 'No. of Ratings'), Text(0.5, 0, 'No. of Users')]"
      ]
     },
     "execution_count": 16,
     "metadata": {},
     "output_type": "execute_result"
    },
    {
     "data": {
      "image/png": "[encoded data removed]",
      "text/plain": [
       "<Figure size 432x288 with 1 Axes>"
      ]
     },
     "metadata": {
      "needs_background": "light"
     },
     "output_type": "display_data"
    }
   ],
   "source": [
    "#### Number of user and number of ratings for each user\n",
    "count1 = userDF2.groupBy(userDF.User).count()\n",
    "count1 = count1 = count1.orderBy(count1[\"count\"].desc())\n",
    "\n",
    "pdf = count1.toPandas()\n",
    "\n",
    "pdf = pdf.rename(columns = {\"count\": \"Frequency\"})\n",
    "pdf.index.name = \"No. of Users\"\n",
    "ax = pdf.plot(y = \"Frequency\", title = \"Rank-Frequency for Users and Ratings\")\n",
    "ax.set(xlabel = \"No. of Users\", ylabel = \"No. of Ratings\")"
   ]
  },
  {
   "cell_type": "markdown",
   "metadata": {},
   "source": [
    "# 2.1 c) Items, Ratings Rank Frequency Distribution"
   ]
  },
  {
   "cell_type": "code",
   "execution_count": 17,
   "metadata": {},
   "outputs": [
    {
     "data": {
      "text/plain": [
       "[Text(0, 0.5, 'No. of Ratings'), Text(0.5, 0, 'No. of Items')]"
      ]
     },
     "execution_count": 17,
     "metadata": {},
     "output_type": "execute_result"
    },
    {
     "data": {
      "image/png": "[encoded data removed]",
      "text/plain": [
       "<Figure size 432x288 with 1 Axes>"
      ]
     },
     "metadata": {
      "needs_background": "light"
     },
     "output_type": "display_data"
    }
   ],
   "source": [
    "# number of Items and number of ratings of each item received\n",
    "only_pap = userDF2.select(\"Paper_ID\")\n",
    "only_pap = only_pap.groupBy(only_pap.Paper_ID).count()\n",
    "only_pap = only_pap.orderBy(only_pap[\"count\"].desc())\n",
    "\n",
    "pdf = only_pap.toPandas()\n",
    "\n",
    "pdf = pdf.rename(columns = {\"count\": \"Frequency\"})\n",
    "#pdf.index.name = \"No. of Items\"\n",
    "ax = pdf.plot(y = \"Frequency\", title = \"Rank-Frequency for Items and Ratings\")\n",
    "ax.set(xlabel = \"No. of Items\", ylabel = \"No. of Ratings\")"
   ]
  },
  {
   "cell_type": "markdown",
   "metadata": {},
   "source": [
    "Yes, it does seems like power law and it has the long tail. (Items rank frequency has longer tail than users one.)"
   ]
  },
  {
   "cell_type": "markdown",
   "metadata": {},
   "source": [
    "# Exercise 2.2 Ratings Matrix Preparation"
   ]
  },
  {
   "cell_type": "code",
   "execution_count": 18,
   "metadata": {},
   "outputs": [
    {
     "name": "stdout",
     "output_type": "stream",
     "text": [
      "+---+--------------------+\n",
      "| id|              papers|\n",
      "+---+--------------------+\n",
      "|  1|[1158654, 478707,...|\n",
      "|  2|[3929762, 503574,...|\n",
      "+---+--------------------+\n",
      "only showing top 2 rows\n",
      "\n",
      "+---+--------------------+\n",
      "| id|           user_hash|\n",
      "+---+--------------------+\n",
      "|  1|f05bcffe7951de9e5...|\n",
      "|  2|28d3f81251d94b097...|\n",
      "+---+--------------------+\n",
      "only showing top 2 rows\n",
      "\n"
     ]
    }
   ],
   "source": [
    "# Using zipWithIndex() to give positive integers id to user_hash\n",
    "# Creating Two RDDs 1: \n",
    "testrdd = userDF\n",
    "id_papers = testrdd.rdd.zipWithIndex().map(lambda x: (x[1]+1, x[0][1]))\n",
    "id_hash = testrdd.rdd.zipWithIndex().map(lambda x: (x[1]+1, x[0][0]))\n",
    "id_hash.take(1)\n",
    "id_papersDF = id_papers.toDF()\n",
    "id_papersDF = id_papersDF.withColumn(\"id\", id_papersDF._1).withColumn(\"papers\", id_papersDF._2).drop(\"_1\", \"_2\")\n",
    "#testDF = testDF.select(testDF._1, sf.explode(testDF._2))\n",
    "id_papersDF.show(2)\n",
    "\n",
    "# Creating ID_UserHash DF so can mappen recommendations\n",
    "\n",
    "id_hash = id_hash.toDF()\n",
    "id_hash = id_hash.withColumn(\"id\", id_hash._1).withColumn(\"user_hash\", id_hash._2).drop(\"_1\", \"_2\")\n",
    "id_hash.show(2)"
   ]
  },
  {
   "cell_type": "code",
   "execution_count": 19,
   "metadata": {},
   "outputs": [],
   "source": [
    " \n",
    "#userDF2 = userDF2.withColumn(\"Rating\", lit(1))\n",
    "#userDF2.show()\n",
    "#userDF2.printSchema()"
   ]
  },
  {
   "cell_type": "code",
   "execution_count": 20,
   "metadata": {},
   "outputs": [],
   "source": [
    "# Creating Set of papers.\n",
    "# Using userDF2 because it already contains exploded papers column\n",
    "sett = (userDF2.select(\"Paper_ID\").distinct().collect())"
   ]
  },
  {
   "cell_type": "code",
   "execution_count": 21,
   "metadata": {},
   "outputs": [],
   "source": [
    "mvv_array = [(row.Paper_ID) for row in sett]\n",
    "\n",
    "#len(mvv_array)\n",
    "\n",
    "paper_set = set(mvv_array)\n",
    "\n",
    "#len(sett1)"
   ]
  },
  {
   "cell_type": "code",
   "execution_count": 22,
   "metadata": {},
   "outputs": [
    {
     "name": "stdout",
     "output_type": "stream",
     "text": [
      "+---+--------------------+-------+\n",
      "| id|              papers|Ratings|\n",
      "+---+--------------------+-------+\n",
      "|  1|[1158654, 478707,...|      1|\n",
      "|  2|[3929762, 503574,...|      1|\n",
      "+---+--------------------+-------+\n",
      "only showing top 2 rows\n",
      "\n"
     ]
    }
   ],
   "source": [
    "# df_rated1 contains array of papers for each id along with ratings column.\n",
    "df_rated1 = id_papersDF.withColumn(\"Ratings\", lit(1))\n",
    "df_rated1.show(2)"
   ]
  },
  {
   "cell_type": "code",
   "execution_count": 23,
   "metadata": {},
   "outputs": [],
   "source": [
    "# Converting spark DF to Pandas DF to process further by iterating rows.\n",
    "df_pd = df_rated1.toPandas()"
   ]
  },
  {
   "cell_type": "code",
   "execution_count": 24,
   "metadata": {},
   "outputs": [
    {
     "data": {
      "text/html": [
       "<div>\n",
       "<style scoped>\n",
       "    .dataframe tbody tr th:only-of-type {\n",
       "        vertical-align: middle;\n",
       "    }\n",
       "\n",
       "    .dataframe tbody tr th {\n",
       "        vertical-align: top;\n",
       "    }\n",
       "\n",
       "    .dataframe thead th {\n",
       "        text-align: right;\n",
       "    }\n",
       "</style>\n",
       "<table border=\"1\" class=\"dataframe\">\n",
       "  <thead>\n",
       "    <tr style=\"text-align: right;\">\n",
       "      <th></th>\n",
       "      <th>id</th>\n",
       "      <th>papers</th>\n",
       "      <th>Ratings</th>\n",
       "    </tr>\n",
       "  </thead>\n",
       "  <tbody>\n",
       "    <tr>\n",
       "      <th>0</th>\n",
       "      <td>1</td>\n",
       "      <td>[1158654, 478707, 12054725, 6670515, 781057, 1...</td>\n",
       "      <td>1</td>\n",
       "    </tr>\n",
       "    <tr>\n",
       "      <th>1</th>\n",
       "      <td>2</td>\n",
       "      <td>[3929762, 503574, 5819422, 4238883, 5788061, 4...</td>\n",
       "      <td>1</td>\n",
       "    </tr>\n",
       "    <tr>\n",
       "      <th>2</th>\n",
       "      <td>3</td>\n",
       "      <td>[2080631, 6343346, 5184704, 7756088, 2653863, ...</td>\n",
       "      <td>1</td>\n",
       "    </tr>\n",
       "    <tr>\n",
       "      <th>3</th>\n",
       "      <td>4</td>\n",
       "      <td>[278019]</td>\n",
       "      <td>1</td>\n",
       "    </tr>\n",
       "    <tr>\n",
       "      <th>4</th>\n",
       "      <td>5</td>\n",
       "      <td>[6610569, 6493797, 6609079, 7469737, 7469738, ...</td>\n",
       "      <td>1</td>\n",
       "    </tr>\n",
       "    <tr>\n",
       "      <th>...</th>\n",
       "      <td>...</td>\n",
       "      <td>...</td>\n",
       "      <td>...</td>\n",
       "    </tr>\n",
       "    <tr>\n",
       "      <th>28411</th>\n",
       "      <td>28412</td>\n",
       "      <td>[7124210, 7691478, 5360268]</td>\n",
       "      <td>1</td>\n",
       "    </tr>\n",
       "    <tr>\n",
       "      <th>28412</th>\n",
       "      <td>28413</td>\n",
       "      <td>[4061926, 4987472, 5142298, 7156686, 4651203, ...</td>\n",
       "      <td>1</td>\n",
       "    </tr>\n",
       "    <tr>\n",
       "      <th>28413</th>\n",
       "      <td>28414</td>\n",
       "      <td>[5307378, 2659281, 7346434, 7179048, 408112, 5...</td>\n",
       "      <td>1</td>\n",
       "    </tr>\n",
       "    <tr>\n",
       "      <th>28414</th>\n",
       "      <td>28415</td>\n",
       "      <td>[1392620, 1392141, 1208448, 1306455, 553429, 2...</td>\n",
       "      <td>1</td>\n",
       "    </tr>\n",
       "    <tr>\n",
       "      <th>28415</th>\n",
       "      <td>28416</td>\n",
       "      <td>[1188144, 5858277, 2281034, 4191714, 3923099, ...</td>\n",
       "      <td>1</td>\n",
       "    </tr>\n",
       "  </tbody>\n",
       "</table>\n",
       "<p>28416 rows × 3 columns</p>\n",
       "</div>"
      ],
      "text/plain": [
       "          id                                             papers  Ratings\n",
       "0          1  [1158654, 478707, 12054725, 6670515, 781057, 1...        1\n",
       "1          2  [3929762, 503574, 5819422, 4238883, 5788061, 4...        1\n",
       "2          3  [2080631, 6343346, 5184704, 7756088, 2653863, ...        1\n",
       "3          4                                           [278019]        1\n",
       "4          5  [6610569, 6493797, 6609079, 7469737, 7469738, ...        1\n",
       "...      ...                                                ...      ...\n",
       "28411  28412                        [7124210, 7691478, 5360268]        1\n",
       "28412  28413  [4061926, 4987472, 5142298, 7156686, 4651203, ...        1\n",
       "28413  28414  [5307378, 2659281, 7346434, 7179048, 408112, 5...        1\n",
       "28414  28415  [1392620, 1392141, 1208448, 1306455, 553429, 2...        1\n",
       "28415  28416  [1188144, 5858277, 2281034, 4191714, 3923099, ...        1\n",
       "\n",
       "[28416 rows x 3 columns]"
      ]
     },
     "execution_count": 24,
     "metadata": {},
     "output_type": "execute_result"
    }
   ],
   "source": [
    "df_pd"
   ]
  },
  {
   "cell_type": "code",
   "execution_count": 25,
   "metadata": {},
   "outputs": [
    {
     "data": {
      "text/html": [
       "<div>\n",
       "<style scoped>\n",
       "    .dataframe tbody tr th:only-of-type {\n",
       "        vertical-align: middle;\n",
       "    }\n",
       "\n",
       "    .dataframe tbody tr th {\n",
       "        vertical-align: top;\n",
       "    }\n",
       "\n",
       "    .dataframe thead th {\n",
       "        text-align: right;\n",
       "    }\n",
       "</style>\n",
       "<table border=\"1\" class=\"dataframe\">\n",
       "  <thead>\n",
       "    <tr style=\"text-align: right;\">\n",
       "      <th></th>\n",
       "      <th>id</th>\n",
       "      <th>paper_Set</th>\n",
       "    </tr>\n",
       "  </thead>\n",
       "  <tbody>\n",
       "  </tbody>\n",
       "</table>\n",
       "</div>"
      ],
      "text/plain": [
       "Empty DataFrame\n",
       "Columns: [id, paper_Set]\n",
       "Index: []"
      ]
     },
     "execution_count": 25,
     "metadata": {},
     "output_type": "execute_result"
    }
   ],
   "source": [
    "# Creating Empty Pandas DataFrame\n",
    "df_copy = pd.DataFrame([], columns = [\"id\", \"paper_Set\"])\n",
    "df_copy"
   ]
  },
  {
   "cell_type": "code",
   "execution_count": 26,
   "metadata": {},
   "outputs": [
    {
     "name": "stdout",
     "output_type": "stream",
     "text": [
      "480.4392669200897\n"
     ]
    }
   ],
   "source": [
    "# Iterating over row and selecting random sample from not rated paper for each user\n",
    "start = time.time()\n",
    "import random\n",
    "for index, row in df_pd.iterrows():\n",
    "    #print(row[\"id\"], len(row[\"paper_Set\"]))\n",
    "    rated = set(row[\"papers\"])\n",
    "    not_rated = paper_set - rated\n",
    "    selected = random.sample(not_rated, len(rated))\n",
    "    idd = row[\"id\"]\n",
    "    count = len(selected)\n",
    "    new_row = {\"id\" : idd, \"paper_Set\": selected}\n",
    "    df_copy = df_copy.append(new_row, ignore_index=True)\n",
    "end = time.time()\n",
    "print(end - start)\n",
    "#, \"paper_count\": len(selected)"
   ]
  },
  {
   "cell_type": "code",
   "execution_count": 27,
   "metadata": {},
   "outputs": [],
   "source": [
    "# Back to spark DF.\n",
    "df_rat0 = sqlC.createDataFrame(df_copy)"
   ]
  },
  {
   "cell_type": "code",
   "execution_count": 28,
   "metadata": {},
   "outputs": [
    {
     "name": "stdout",
     "output_type": "stream",
     "text": [
      "+---+--------------------+\n",
      "| id|           paper_Set|\n",
      "+---+--------------------+\n",
      "|  1|[8464677, 9778345...|\n",
      "|  2|[5840780, 3503101...|\n",
      "+---+--------------------+\n",
      "only showing top 2 rows\n",
      "\n"
     ]
    }
   ],
   "source": [
    "df_rat0.show(2)"
   ]
  },
  {
   "cell_type": "code",
   "execution_count": 29,
   "metadata": {},
   "outputs": [],
   "source": [
    "# Exploding paper_Set so we get 1 paper per row.\n",
    "df_rat0 = df_rat0.select(df_rat0.id, sf.explode(df_rat0.paper_Set))\n",
    "# Adding 0 Rating for every user.\n",
    "df_rat0 = df_rat0.withColumn(\"Paper_id\", df_rat0[\"col\"]).withColumn(\"Rating\", lit(0))"
   ]
  },
  {
   "cell_type": "code",
   "execution_count": 30,
   "metadata": {},
   "outputs": [
    {
     "data": {
      "text/plain": [
       "828481"
      ]
     },
     "execution_count": 30,
     "metadata": {},
     "output_type": "execute_result"
    }
   ],
   "source": [
    "df_rat0 = df_rat0.drop(\"col\")\n",
    "df_rat0.count()"
   ]
  },
  {
   "cell_type": "code",
   "execution_count": 31,
   "metadata": {},
   "outputs": [
    {
     "name": "stdout",
     "output_type": "stream",
     "text": [
      "+---+-------+-------+\n",
      "| id|  paper|Ratings|\n",
      "+---+-------+-------+\n",
      "|  1|1158654|      1|\n",
      "|  1| 478707|      1|\n",
      "+---+-------+-------+\n",
      "only showing top 2 rows\n",
      "\n"
     ]
    }
   ],
   "source": [
    "#Exploding df_rated1 DF. df_rat1 contains exploded papers column\n",
    "df_rat1 = df_rated1.select(df_rated1.id, sf.explode(df_rated1.papers), df_rated1.Ratings)\n",
    "df_rat1 = df_rat1.withColumn(\"paper\", df_rat1[\"col\"])\n",
    "df_rat1 = df_rat1.drop(\"col\").select(df_rat1.id, df_rat1.paper, df_rat1.Ratings)\n",
    "df_rat1.show(2)"
   ]
  },
  {
   "cell_type": "code",
   "execution_count": 32,
   "metadata": {},
   "outputs": [
    {
     "name": "stdout",
     "output_type": "stream",
     "text": [
      "+---+--------+------+\n",
      "| id|paper_id|rating|\n",
      "+---+--------+------+\n",
      "|  1| 8464677|     0|\n",
      "|  1| 9778345|     0|\n",
      "+---+--------+------+\n",
      "only showing top 2 rows\n",
      "\n"
     ]
    }
   ],
   "source": [
    "# mixed DF contains both rated and unrated items for each user. \n",
    "# Number of rated items is equal to number of unrated items for every user.\n",
    "\n",
    "mixed = df_rat0.union(df_rat1)\n",
    "mixed = mixed.withColumn(\"paper_id\", col(\"Paper_id\").cast(IntegerType())).withColumn(\"rating\", col(\"Rating\").cast(IntegerType()))\n",
    "#alles.count()\n",
    "#mixed.printSchema()\n",
    "mixed = mixed.orderBy(mixed.id)\n",
    "mixed.show(2)"
   ]
  },
  {
   "cell_type": "markdown",
   "metadata": {},
   "source": [
    "# Exercise 2.3 ALS Algorithm"
   ]
  },
  {
   "cell_type": "code",
   "execution_count": 33,
   "metadata": {},
   "outputs": [],
   "source": [
    "from pyspark.ml.recommendation import ALS\n",
    "\n",
    "\n",
    "#Splitting Dataset into training(0.7) and testing(0.3)\n",
    "(training, test) = mixed.randomSplit([0.7, 0.3])\n",
    "\n",
    "# Building the recommendation model using ALS on the training data\n",
    "als = ALS(maxIter=10, regParam=0.1, userCol=\"id\", itemCol=\"paper_id\", ratingCol=\"rating\",\\\n",
    "          coldStartStrategy=\"drop\")\n",
    "model = als.fit(training)\n",
    "\n",
    "# Generate top 10 movie recommendations for each user\n",
    "userRecs = model.recommendForAllUsers(10)"
   ]
  },
  {
   "cell_type": "code",
   "execution_count": 34,
   "metadata": {},
   "outputs": [
    {
     "name": "stdout",
     "output_type": "stream",
     "text": [
      "+---+---------------------------------------------------------------------------------------------------------------------------------------------------------------------------------------------------------------------------+\n",
      "|id |recommendations                                                                                                                                                                                                            |\n",
      "+---+---------------------------------------------------------------------------------------------------------------------------------------------------------------------------------------------------------------------------+\n",
      "|148|[[2391598, 0.9396941], [409021, 0.9240873], [276674, 0.91328865], [5836064, 0.9112915], [181433, 0.9106967], [8251943, 0.9057868], [4134071, 0.9054943], [550553, 0.90317327], [2639510, 0.9009899], [4149348, 0.89890575]]|\n",
      "+---+---------------------------------------------------------------------------------------------------------------------------------------------------------------------------------------------------------------------------+\n",
      "only showing top 1 row\n",
      "\n"
     ]
    }
   ],
   "source": [
    "recs = userRecs\n",
    "\n",
    "recs.show(1, False)"
   ]
  },
  {
   "cell_type": "code",
   "execution_count": 35,
   "metadata": {},
   "outputs": [],
   "source": [
    "# Joining id_recommendations table with id_hash table to get hash_recommendations.\n",
    "hash_rec = id_hash.join(recs, \"id\").select(\"user_hash\", \"recommendations\")\n"
   ]
  },
  {
   "cell_type": "code",
   "execution_count": 36,
   "metadata": {
    "scrolled": false
   },
   "outputs": [
    {
     "name": "stdout",
     "output_type": "stream",
     "text": [
      "+--------------------+--------------------+\n",
      "|           user_hash|     recommendations|\n",
      "+--------------------+--------------------+\n",
      "|38fe6373389d12b5b...|[[4085212, 0.8478...|\n",
      "|ed571b13a83199c9c...|[[1108380, 0.9594...|\n",
      "+--------------------+--------------------+\n",
      "only showing top 2 rows\n",
      "\n"
     ]
    }
   ],
   "source": [
    "hash_rec.show(2)"
   ]
  },
  {
   "cell_type": "code",
   "execution_count": 37,
   "metadata": {},
   "outputs": [],
   "source": [
    "# Cleaning Recommendations as user_hash, paper_id and prediction for each user with it's 10 recommendations.\n",
    "# For that registering Temporary Table.\n",
    "hash_rec.registerTempTable(\"Paper_Rec\")\n",
    "clean = sqlC.sql(\"Select user_hash, recommendations1.paper_id as paper_id,recommendations1.rating as prediction FROM\\\n",
    "        Paper_Rec Lateral VIEW explode(recommendations) exploded_table as recommendations1 \")"
   ]
  },
  {
   "cell_type": "code",
   "execution_count": 38,
   "metadata": {},
   "outputs": [
    {
     "name": "stdout",
     "output_type": "stream",
     "text": [
      "+--------------------+--------+----------+\n",
      "|           user_hash|paper_id|prediction|\n",
      "+--------------------+--------+----------+\n",
      "|38fe6373389d12b5b...| 4085212|0.84789664|\n",
      "|38fe6373389d12b5b...| 8879965| 0.8412125|\n",
      "|38fe6373389d12b5b...|12827448| 0.8337314|\n",
      "|38fe6373389d12b5b...|12818217| 0.8333125|\n",
      "|38fe6373389d12b5b...|12818248| 0.8322606|\n",
      "|38fe6373389d12b5b...|  694910| 0.8304798|\n",
      "|38fe6373389d12b5b...|13048613| 0.8244438|\n",
      "|38fe6373389d12b5b...|12818244|0.82308084|\n",
      "|38fe6373389d12b5b...| 7405186|0.82155067|\n",
      "|38fe6373389d12b5b...|  771830| 0.8208304|\n",
      "|ed571b13a83199c9c...| 1108380|  0.959422|\n",
      "|ed571b13a83199c9c...| 6419204| 0.9123838|\n",
      "|ed571b13a83199c9c...| 1539525| 0.9053011|\n",
      "|ed571b13a83199c9c...|  150388|0.90338224|\n",
      "|ed571b13a83199c9c...| 4665784|  0.900236|\n",
      "|ed571b13a83199c9c...|  967051| 0.8974236|\n",
      "|ed571b13a83199c9c...|  635281| 0.8949845|\n",
      "|ed571b13a83199c9c...| 9362483|0.89184487|\n",
      "|ed571b13a83199c9c...| 3733066| 0.8902151|\n",
      "|ed571b13a83199c9c...|  844476|0.88813305|\n",
      "+--------------------+--------+----------+\n",
      "only showing top 20 rows\n",
      "\n"
     ]
    }
   ],
   "source": [
    "clean.show()"
   ]
  },
  {
   "cell_type": "markdown",
   "metadata": {},
   "source": [
    "# Exercise 2.4 Evaluate ALS model"
   ]
  },
  {
   "cell_type": "code",
   "execution_count": 39,
   "metadata": {},
   "outputs": [
    {
     "name": "stdout",
     "output_type": "stream",
     "text": [
      "Root-mean-square error = 0.3853716749541774\n"
     ]
    }
   ],
   "source": [
    "# Evaluate the model by computing the RMSE on the test data\n",
    "from pyspark.ml.evaluation import  RegressionEvaluator\n",
    "\n",
    "predictions = model.transform(test)\n",
    "evaluator = RegressionEvaluator(metricName=\"rmse\", labelCol=\"rating\",\n",
    "                                predictionCol=\"prediction\")\n",
    "rmse = evaluator.evaluate(predictions)\n",
    "print(\"Root-mean-square error = \" + str(rmse))\n",
    "# First Try reg = 0.1, iter 5: 0.48\n",
    "# Second Try reg = 0.1, iter 10: 0.384\n",
    "# Third Try reg = 0.1, iter 10: 0.360"
   ]
  },
  {
   "cell_type": "markdown",
   "metadata": {},
   "source": [
    "# Exercise 2.5 Tuning HyperParameters Cross Validator"
   ]
  },
  {
   "cell_type": "code",
   "execution_count": 40,
   "metadata": {},
   "outputs": [],
   "source": [
    "from pyspark.ml.tuning import CrossValidator, ParamGridBuilder\n",
    "\n",
    "# Creating paramGrid and adding parameters\n",
    "paramGrid = ParamGridBuilder() \\\n",
    "    .addGrid(als.rank, [10,15,25])\\\n",
    "    .addGrid(als.regParam, [0.1]) \\\n",
    "    .addGrid(als.maxIter, [20]) \\\n",
    "    .build()\n",
    "\n",
    "#Creating Evaluator\n",
    "evaluator = RegressionEvaluator(labelCol=\"rating\",\n",
    "                                predictionCol=\"prediction\",\n",
    "                                metricName=\"rmse\")\n",
    "\n",
    "# Create CrossValidator and to perform cross validation using als\n",
    "crossval = CrossValidator(estimator=als,\n",
    "                          estimatorParamMaps=paramGrid,\n",
    "                          evaluator= evaluator,\n",
    "                          numFolds=3)\n",
    "\n",
    "# Fitting model using Cross Validation\n",
    "cvModel = crossval.fit(training)\n",
    "\n",
    "# Generate Predictions and use rmse to evaluate\n",
    "prediction = cvModel.transform(test)\n",
    "rmse = evaluator.evaluate(prediction)\n",
    "\n",
    "\n",
    "# TRY 1: maxIter = 10\n",
    "# Root Mean Squared Error (RMSE) on test data = 0.360828, Rank = 25\n",
    "\n",
    "# TRY 2: maxIter = 15\n",
    "# Root Mean Squared Error (RMSE) on test data = 0.353864 Rank = 25\n",
    "\n",
    "# TRY 3: maxIter = 20\n",
    "# Root Mean Squared Error (RMSE) on test data = 0.0.349647 Rank = 25\n",
    "\n",
    "# Observation \n",
    "# By increasing the number of maxIter the rmse has decreased.\n",
    "# Lower the rmse the better results/recommendations we will get.\n",
    "# In general, lowest value of rmse is considered to be the best case for predictions.\n"
   ]
  },
  {
   "cell_type": "code",
   "execution_count": 41,
   "metadata": {},
   "outputs": [
    {
     "name": "stdout",
     "output_type": "stream",
     "text": [
      "Root Mean Squared Error (RMSE) on test data = 0.351073\n",
      "25\n"
     ]
    }
   ],
   "source": [
    "print(\"Root Mean Squared Error (RMSE) on test data = %g\" % rmse)\n",
    "print(cvModel.bestModel.rank)\n"
   ]
  }
 ],
 "metadata": {
  "kernelspec": {
   "display_name": "Python 3",
   "language": "python",
   "name": "python3"
  },
  "language_info": {
   "codemirror_mode": {
    "name": "ipython",
    "version": 3
   },
   "file_extension": ".py",
   "mimetype": "text/x-python",
   "name": "python",
   "nbconvert_exporter": "python",
   "pygments_lexer": "ipython3",
   "version": "3.8.3"
  }
 },
 "nbformat": 4,
 "nbformat_minor": 4
}
