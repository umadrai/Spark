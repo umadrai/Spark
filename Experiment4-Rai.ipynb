{
 "cells": [
  {
   "cell_type": "markdown",
   "metadata": {},
   "source": [
    "# Name: Umad ul hassan Rai\n",
    "\n",
    "# Experiment 4\n",
    "\n",
    "Note: This task is done considering all the papers but later on selecting 20000 tf_idf vectors and 20000 LDA vectors so i could run it on my laptop. As i was unable to do it on cluster due to nltk error."
   ]
  },
  {
   "cell_type": "code",
   "execution_count": 6,
   "metadata": {},
   "outputs": [],
   "source": [
    "from pyspark.sql import SparkSession\n",
    "from pyspark.sql import SQLContext\n",
    "from pyspark.sql.types import *\n",
    "from pyspark.sql.types import StringType\n",
    "from pyspark.sql.types import StructType\n",
    "from pyspark.sql.types import StructField\n",
    "from pyspark.sql import Row\n",
    "from pyspark.sql.functions import concat, col, lit, split, udf, size, lit, avg\n",
    "from pyspark.sql import functions as sf\n",
    "from operator import add\n",
    "import pandas as pd\n",
    "import pyspark\n",
    "import time\n",
    "import csv\n",
    "import re\n",
    "\n"
   ]
  },
  {
   "cell_type": "code",
   "execution_count": 7,
   "metadata": {},
   "outputs": [],
   "source": [
    "# initialise Spark Session, setting broadcast Timeout to 36000. \n",
    "sparkSession = SparkSession.builder.appName(\"Exercise1\").config(\"spark.sql.broadcastTimeout\", \"36000\").getOrCreate()\n",
    "sc = sparkSession.sparkContext\n",
    "sqlC = SQLContext(sc)"
   ]
  },
  {
   "cell_type": "markdown",
   "metadata": {},
   "source": [
    "# Vectors Representation"
   ]
  },
  {
   "cell_type": "code",
   "execution_count": 8,
   "metadata": {},
   "outputs": [
    {
     "data": {
      "text/plain": [
       "[('80546',\n",
       "  \"the arbitrariness of the genetic code the genetic code has been regarded as arbitrary in the sense that the codon-amino acid assignments could be different than they actually are. this general idea has been spelled out differently by previous, often rather implicit accounts of arbitrariness. they have drawn on the frozen accident theory, on evolutionary contingency, on alternative causal pathways, and on the absence of direct stereochemical interactions between codons and amino acids. it has also been suggested that the arbitrariness of the genetic code justifies attributing semantic information to macromolecules, notably to {dna}. i argue that these accounts of arbitrariness are unsatisfactory. i propose that the code is arbitrary in the sense of jacques monod's concept of chemical arbitrariness: the genetic code is arbitrary in that any codon requires certain chemical and structural properties to specify a particular amino acid, but these properties are not required in virtue of a principle of chemistry. this notion of arbitrariness is compatible with several recent hypotheses about code evolution. i maintain that the code's chemical arbitrariness is neither sufficient nor necessary for attributing semantic information to nucleic acids.\")]"
      ]
     },
     "execution_count": 8,
     "metadata": {},
     "output_type": "execute_result"
    }
   ],
   "source": [
    "# Using csv to parse the papers.CSV file to map paper id and abstract as Key/Value\n",
    "# Also allows to replace null bytes in csv file.\n",
    "# Creating paperTermsRDD\n",
    "# Concatenating the title and abstract fields[13] + \" \" + fields[14]\n",
    "rdd2 = sparkSession.sparkContext.textFile(\"papers.csv\")\n",
    "paperTermsRDD = rdd2.map(lambda line: next(csv.reader(x.replace(\"\\x00\", \"\") for x in [line]))) \\\n",
    "                    .map(lambda fields: (fields[0], fields[13] + \" \" + fields[14]))\n",
    "paperTermsRDD.take(1)"
   ]
  },
  {
   "cell_type": "code",
   "execution_count": 9,
   "metadata": {},
   "outputs": [
    {
     "name": "stdout",
     "output_type": "stream",
     "text": [
      "+--------+--------------------+\n",
      "|Paper_Id|                Text|\n",
      "+--------+--------------------+\n",
      "|   80546|the arbitrariness...|\n",
      "+--------+--------------------+\n",
      "only showing top 1 row\n",
      "\n"
     ]
    }
   ],
   "source": [
    "# Converting RDD to DF.\n",
    "sentenceDataFrame = paperTermsRDD.toDF()\n",
    "sentenceDataFrame = sentenceDataFrame.withColumnRenamed(\"_1\", \"Paper_Id\").withColumnRenamed(\"_2\", \"Text\")\n",
    "sentenceDataFrame.show(1)"
   ]
  },
  {
   "cell_type": "code",
   "execution_count": 10,
   "metadata": {},
   "outputs": [
    {
     "data": {
      "text/plain": [
       "172079"
      ]
     },
     "execution_count": 10,
     "metadata": {},
     "output_type": "execute_result"
    }
   ],
   "source": [
    "# For the sake of processing quickly in took small dataset \n",
    "# Remvove this cell when running for final results.\n",
    "#sentenceDataFrame = sentenceDataFrame.select(\"*\").limit(10000)\n",
    "sentenceDataFrame.count()"
   ]
  },
  {
   "cell_type": "code",
   "execution_count": 11,
   "metadata": {
    "collapsed": true
   },
   "outputs": [
    {
     "name": "stdout",
     "output_type": "stream",
     "text": [
      "+--------+--------------------------------------------------------------------------------------------------------------------------------------------------------------------------------------------------------------------------------------------------------------------------------------------------------------------------------------------------------------------------------------------------------------------------------------------------------------------------------------------------------------------------------------------------------------------------------------------------------------------------------------------------------------------------------------------------------------------------------------------------------------------------------------------------------------------------------------------------------------------------------------------------------------------------------------------------------------------------------------------------------------------------------------------------------------------------------------------------------------------------------------------------------------------------------------------------------------------------------------------------------------------------------------------------------------------------------------------------------------------------------------------------------------------------------------------------------------------------------------+------+\n",
      "|Paper_Id|Words                                                                                                                                                                                                                                                                                                                                                                                                                                                                                                                                                                                                                                                                                                                                                                                                                                                                                                                                                                                                                                                                                                                                                                                                                                                                                                                                                                                                                                                                                 |tokens|\n",
      "+--------+--------------------------------------------------------------------------------------------------------------------------------------------------------------------------------------------------------------------------------------------------------------------------------------------------------------------------------------------------------------------------------------------------------------------------------------------------------------------------------------------------------------------------------------------------------------------------------------------------------------------------------------------------------------------------------------------------------------------------------------------------------------------------------------------------------------------------------------------------------------------------------------------------------------------------------------------------------------------------------------------------------------------------------------------------------------------------------------------------------------------------------------------------------------------------------------------------------------------------------------------------------------------------------------------------------------------------------------------------------------------------------------------------------------------------------------------------------------------------------------+------+\n",
      "|80546   |[the, arbitrariness, of, the, genetic, code, the, genetic, code, has, been, regarded, as, arbitrary, in, the, sense, that, the, codon-amino, acid, assignments, could, be, different, than, they, actually, are, this, general, idea, has, been, spelled, out, differently, by, previous, often, rather, implicit, accounts, of, arbitrariness, they, have, drawn, on, the, frozen, accident, theory, on, evolutionary, contingency, on, alternative, causal, pathways, and, on, the, absence, of, direct, stereochemical, interactions, between, codons, and, amino, acids, it, has, also, been, suggested, that, the, arbitrariness, of, the, genetic, code, justifies, attributing, semantic, information, to, macromolecules, notably, to, dna, i, argue, that, these, accounts, of, arbitrariness, are, unsatisfactory, i, propose, that, the, code, is, arbitrary, in, the, sense, of, jacques, monod, s, concept, of, chemical, arbitrariness, the, genetic, code, is, arbitrary, in, that, any, codon, requires, certain, chemical, and, structural, properties, to, specify, a, particular, amino, acid, but, these, properties, are, not, required, in, virtue, of, a, principle, of, chemistry, this, notion, of, arbitrariness, is, compatible, with, several, recent, hypotheses, about, code, evolution, i, maintain, that, the, code, s, chemical, arbitrariness, is, neither, sufficient, nor, necessary, for, attributing, semantic, information, to, nucleic, acids]|188   |\n",
      "+--------+--------------------------------------------------------------------------------------------------------------------------------------------------------------------------------------------------------------------------------------------------------------------------------------------------------------------------------------------------------------------------------------------------------------------------------------------------------------------------------------------------------------------------------------------------------------------------------------------------------------------------------------------------------------------------------------------------------------------------------------------------------------------------------------------------------------------------------------------------------------------------------------------------------------------------------------------------------------------------------------------------------------------------------------------------------------------------------------------------------------------------------------------------------------------------------------------------------------------------------------------------------------------------------------------------------------------------------------------------------------------------------------------------------------------------------------------------------------------------------------+------+\n",
      "only showing top 1 row\n",
      "\n"
     ]
    }
   ],
   "source": [
    "from pyspark.ml.feature import Tokenizer, RegexTokenizer\n",
    "from pyspark.sql.functions import col, udf\n",
    "from pyspark.sql.types import IntegerType\n",
    "\n",
    "# Using regex tokenizer to remove all non-word english characters except (-) and (_)\n",
    "regexTokenizer = RegexTokenizer(inputCol=\"Text\", outputCol=\"Words\", pattern=\"[^a-z\\_\\-A-Z]\")\n",
    "\n",
    "# Counting tokens just for sake of seeing length of papers.\n",
    "countTokens = udf(lambda words: len(words), IntegerType())\n",
    "\n",
    "regexTokenized = regexTokenizer.transform(sentenceDataFrame)\n",
    "regexTokenized = regexTokenized.select(\"Paper_Id\", \"Words\") \\\n",
    "    .withColumn(\"tokens\", countTokens(col(\"Words\")))\n",
    "regexTokenized.show(1, False)"
   ]
  },
  {
   "cell_type": "code",
   "execution_count": 12,
   "metadata": {},
   "outputs": [],
   "source": [
    "# Creating function to remove (-) and (_) from words\n",
    "def remove_hyp_uscore(x):\n",
    "    final = []\n",
    "    for word in x:\n",
    "        removed = word.replace(\"-\",\"\").replace(\"_\",\"\")\n",
    "        final.append(removed)\n",
    "    return final\n",
    "\n",
    "# Creating function to remove words with length smaller than 3 to be used with udf\n",
    "def rem_2len(x):\n",
    "    final = []\n",
    "    for word in x:\n",
    "        if len(word)>2:\n",
    "            final.append(word)\n",
    "    return final"
   ]
  },
  {
   "cell_type": "code",
   "execution_count": 13,
   "metadata": {},
   "outputs": [],
   "source": [
    "# Creating udf for removing (-) and (_), applying it on respective df\n",
    "rem_hyp_udf = udf(remove_hyp_uscore, ArrayType(StringType()))\n",
    "\n",
    "removed_hyp_df = regexTokenized.withColumn(\"Removed_Hyp\", rem_hyp_udf(regexTokenized[\"words\"])).\\\n",
    "                    select(\"Paper_Id\",\"Removed_Hyp\")\n",
    "\n",
    "# Creating udf for removing words less than length 3 and applying it on respective df\n",
    "rem_2len_words = udf(rem_2len, ArrayType(StringType()))\n",
    "\n",
    "removed_2len_df = removed_hyp_df.withColumn(\"Rem_2len\", rem_2len_words(removed_hyp_df[\"Removed_Hyp\"])).\\\n",
    "                    select(\"Paper_Id\", \"Rem_2len\")\n"
   ]
  },
  {
   "cell_type": "code",
   "execution_count": 14,
   "metadata": {
    "collapsed": true
   },
   "outputs": [
    {
     "name": "stdout",
     "output_type": "stream",
     "text": [
      "+--------+-------------------------------------------------------------------------------------------------------------------------------------------------------------------------------------------------------------------------------------------------------------------------------------------------------------------------------------------------------------------------------------------------------------------------------------------------------------------------------------------------------------------------------------------------------------------------------------------------------------------------------------------------------------------------------------------------------------------------------------------------------------------------------------------------------------------------------------------------------------------------------------------------------------------------------------------------------------------------------------------------------------------------------------------------------------------------------------------------------------------------------------------------------------------------------------------------------------------------------------------------------------------------------------------------------------------------------------------------------------------------------------------------------------------------------------------------------------------------------------+\n",
      "|Paper_Id|Removed_Hyp                                                                                                                                                                                                                                                                                                                                                                                                                                                                                                                                                                                                                                                                                                                                                                                                                                                                                                                                                                                                                                                                                                                                                                                                                                                                                                                                                                                                                                                                          |\n",
      "+--------+-------------------------------------------------------------------------------------------------------------------------------------------------------------------------------------------------------------------------------------------------------------------------------------------------------------------------------------------------------------------------------------------------------------------------------------------------------------------------------------------------------------------------------------------------------------------------------------------------------------------------------------------------------------------------------------------------------------------------------------------------------------------------------------------------------------------------------------------------------------------------------------------------------------------------------------------------------------------------------------------------------------------------------------------------------------------------------------------------------------------------------------------------------------------------------------------------------------------------------------------------------------------------------------------------------------------------------------------------------------------------------------------------------------------------------------------------------------------------------------+\n",
      "|80546   |[the, arbitrariness, of, the, genetic, code, the, genetic, code, has, been, regarded, as, arbitrary, in, the, sense, that, the, codonamino, acid, assignments, could, be, different, than, they, actually, are, this, general, idea, has, been, spelled, out, differently, by, previous, often, rather, implicit, accounts, of, arbitrariness, they, have, drawn, on, the, frozen, accident, theory, on, evolutionary, contingency, on, alternative, causal, pathways, and, on, the, absence, of, direct, stereochemical, interactions, between, codons, and, amino, acids, it, has, also, been, suggested, that, the, arbitrariness, of, the, genetic, code, justifies, attributing, semantic, information, to, macromolecules, notably, to, dna, i, argue, that, these, accounts, of, arbitrariness, are, unsatisfactory, i, propose, that, the, code, is, arbitrary, in, the, sense, of, jacques, monod, s, concept, of, chemical, arbitrariness, the, genetic, code, is, arbitrary, in, that, any, codon, requires, certain, chemical, and, structural, properties, to, specify, a, particular, amino, acid, but, these, properties, are, not, required, in, virtue, of, a, principle, of, chemistry, this, notion, of, arbitrariness, is, compatible, with, several, recent, hypotheses, about, code, evolution, i, maintain, that, the, code, s, chemical, arbitrariness, is, neither, sufficient, nor, necessary, for, attributing, semantic, information, to, nucleic, acids]|\n",
      "+--------+-------------------------------------------------------------------------------------------------------------------------------------------------------------------------------------------------------------------------------------------------------------------------------------------------------------------------------------------------------------------------------------------------------------------------------------------------------------------------------------------------------------------------------------------------------------------------------------------------------------------------------------------------------------------------------------------------------------------------------------------------------------------------------------------------------------------------------------------------------------------------------------------------------------------------------------------------------------------------------------------------------------------------------------------------------------------------------------------------------------------------------------------------------------------------------------------------------------------------------------------------------------------------------------------------------------------------------------------------------------------------------------------------------------------------------------------------------------------------------------+\n",
      "only showing top 1 row\n",
      "\n",
      "+--------+----------------------------------------------------------------------------------------------------------------------------------------------------------------------------------------------------------------------------------------------------------------------------------------------------------------------------------------------------------------------------------------------------------------------------------------------------------------------------------------------------------------------------------------------------------------------------------------------------------------------------------------------------------------------------------------------------------------------------------------------------------------------------------------------------------------------------------------------------------------------------------------------------------------------------------------------------------------------------------------------------------------------------------------------------------------------------------------------------------------------------------------------------------------------------------------------------------------------------------------------------------------------------------------------------------------------------------------+\n",
      "|Paper_Id|Rem_2len                                                                                                                                                                                                                                                                                                                                                                                                                                                                                                                                                                                                                                                                                                                                                                                                                                                                                                                                                                                                                                                                                                                                                                                                                                                                                                                                |\n",
      "+--------+----------------------------------------------------------------------------------------------------------------------------------------------------------------------------------------------------------------------------------------------------------------------------------------------------------------------------------------------------------------------------------------------------------------------------------------------------------------------------------------------------------------------------------------------------------------------------------------------------------------------------------------------------------------------------------------------------------------------------------------------------------------------------------------------------------------------------------------------------------------------------------------------------------------------------------------------------------------------------------------------------------------------------------------------------------------------------------------------------------------------------------------------------------------------------------------------------------------------------------------------------------------------------------------------------------------------------------------+\n",
      "|80546   |[the, arbitrariness, the, genetic, code, the, genetic, code, has, been, regarded, arbitrary, the, sense, that, the, codonamino, acid, assignments, could, different, than, they, actually, are, this, general, idea, has, been, spelled, out, differently, previous, often, rather, implicit, accounts, arbitrariness, they, have, drawn, the, frozen, accident, theory, evolutionary, contingency, alternative, causal, pathways, and, the, absence, direct, stereochemical, interactions, between, codons, and, amino, acids, has, also, been, suggested, that, the, arbitrariness, the, genetic, code, justifies, attributing, semantic, information, macromolecules, notably, dna, argue, that, these, accounts, arbitrariness, are, unsatisfactory, propose, that, the, code, arbitrary, the, sense, jacques, monod, concept, chemical, arbitrariness, the, genetic, code, arbitrary, that, any, codon, requires, certain, chemical, and, structural, properties, specify, particular, amino, acid, but, these, properties, are, not, required, virtue, principle, chemistry, this, notion, arbitrariness, compatible, with, several, recent, hypotheses, about, code, evolution, maintain, that, the, code, chemical, arbitrariness, neither, sufficient, nor, necessary, for, attributing, semantic, information, nucleic, acids]|\n",
      "+--------+----------------------------------------------------------------------------------------------------------------------------------------------------------------------------------------------------------------------------------------------------------------------------------------------------------------------------------------------------------------------------------------------------------------------------------------------------------------------------------------------------------------------------------------------------------------------------------------------------------------------------------------------------------------------------------------------------------------------------------------------------------------------------------------------------------------------------------------------------------------------------------------------------------------------------------------------------------------------------------------------------------------------------------------------------------------------------------------------------------------------------------------------------------------------------------------------------------------------------------------------------------------------------------------------------------------------------------------+\n",
      "only showing top 1 row\n",
      "\n"
     ]
    }
   ],
   "source": [
    "removed_hyp_df.show(1,False)\n",
    "removed_2len_df.show(1,False)"
   ]
  },
  {
   "cell_type": "code",
   "execution_count": 15,
   "metadata": {},
   "outputs": [],
   "source": [
    "# Removing stopwords using Spark Stopwords remover.\n",
    "from pyspark.ml.feature import StopWordsRemover\n",
    "\n",
    "remover = StopWordsRemover(inputCol=\"Rem_2len\", outputCol=\"Filtered\")\n",
    "stopwords_removed = remover.transform(removed_2len_df).select(\"Paper_Id\", \"Filtered\")"
   ]
  },
  {
   "cell_type": "code",
   "execution_count": 16,
   "metadata": {
    "collapsed": true
   },
   "outputs": [
    {
     "name": "stdout",
     "output_type": "stream",
     "text": [
      "+--------+-------------------------------------------------------------------------------------------------------------------------------------------------------------------------------------------------------------------------------------------------------------------------------------------------------------------------------------------------------------------------------------------------------------------------------------------------------------------------------------------------------------------------------------------------------------------------------------------------------------------------------------------------------------------------------------------------------------------------------------------------------------------------------------------------------------------------------------------------------------------------------------------------------------------------------------------------------------------------------------------------------------------------------------------------------+\n",
      "|Paper_Id|Filtered                                                                                                                                                                                                                                                                                                                                                                                                                                                                                                                                                                                                                                                                                                                                                                                                                                                                                                                                                                                                                                               |\n",
      "+--------+-------------------------------------------------------------------------------------------------------------------------------------------------------------------------------------------------------------------------------------------------------------------------------------------------------------------------------------------------------------------------------------------------------------------------------------------------------------------------------------------------------------------------------------------------------------------------------------------------------------------------------------------------------------------------------------------------------------------------------------------------------------------------------------------------------------------------------------------------------------------------------------------------------------------------------------------------------------------------------------------------------------------------------------------------------+\n",
      "|80546   |[arbitrariness, genetic, code, genetic, code, regarded, arbitrary, sense, codonamino, acid, assignments, different, actually, general, idea, spelled, differently, previous, often, rather, implicit, accounts, arbitrariness, drawn, frozen, accident, theory, evolutionary, contingency, alternative, causal, pathways, absence, direct, stereochemical, interactions, codons, amino, acids, also, suggested, arbitrariness, genetic, code, justifies, attributing, semantic, information, macromolecules, notably, dna, argue, accounts, arbitrariness, unsatisfactory, propose, code, arbitrary, sense, jacques, monod, concept, chemical, arbitrariness, genetic, code, arbitrary, codon, requires, certain, chemical, structural, properties, specify, particular, amino, acid, properties, required, virtue, principle, chemistry, notion, arbitrariness, compatible, several, recent, hypotheses, code, evolution, maintain, code, chemical, arbitrariness, neither, sufficient, necessary, attributing, semantic, information, nucleic, acids]|\n",
      "+--------+-------------------------------------------------------------------------------------------------------------------------------------------------------------------------------------------------------------------------------------------------------------------------------------------------------------------------------------------------------------------------------------------------------------------------------------------------------------------------------------------------------------------------------------------------------------------------------------------------------------------------------------------------------------------------------------------------------------------------------------------------------------------------------------------------------------------------------------------------------------------------------------------------------------------------------------------------------------------------------------------------------------------------------------------------------+\n",
      "only showing top 1 row\n",
      "\n"
     ]
    }
   ],
   "source": [
    "stopwords_removed.show(1,False)"
   ]
  },
  {
   "cell_type": "code",
   "execution_count": 17,
   "metadata": {},
   "outputs": [],
   "source": [
    "# Performing stemming by using PorterStemmer() from nltk\n",
    "from nltk.stem import PorterStemmer\n",
    "\n",
    "#creatig object of PorterStemmer()\n",
    "porter = PorterStemmer()\n",
    "\n",
    "# Function for performing stemming of words by iterating over list of each paper\n",
    "def stemming(x):\n",
    "    porter = PorterStemmer()\n",
    "    final = []\n",
    "    for word in x:\n",
    "        stemmed = porter.stem(word)\n",
    "        final.append(stemmed)\n",
    "    return final\n",
    "\n",
    "# Stemming udf\n",
    "stem_udf = udf(stemming, ArrayType(StringType()))\n",
    "\n",
    "# Stemming the DF which i got after removing stopwords.\n",
    "stemmedDF = stopwords_removed.withColumn(\"Stemmed\", stem_udf(stopwords_removed[\"Filtered\"])).select(\"Paper_Id\", \"Stemmed\")\n"
   ]
  },
  {
   "cell_type": "code",
   "execution_count": 18,
   "metadata": {
    "collapsed": true
   },
   "outputs": [
    {
     "name": "stdout",
     "output_type": "stream",
     "text": [
      "+--------+-------------------------------------------------------------------------------------------------------------------------------------------------------------------------------------------------------------------------------------------------------------------------------------------------------------------------------------------------------------------------------------------------------------------------------------------------------------------------------------------------------------------------------------------------------------------------------------------------------------------------------------------------------------------------------------------------------------------------------------------------------------------------------------------------------------------------------------------------------------------------------------------------+\n",
      "|Paper_Id|Stemmed                                                                                                                                                                                                                                                                                                                                                                                                                                                                                                                                                                                                                                                                                                                                                                                                                                                                                          |\n",
      "+--------+-------------------------------------------------------------------------------------------------------------------------------------------------------------------------------------------------------------------------------------------------------------------------------------------------------------------------------------------------------------------------------------------------------------------------------------------------------------------------------------------------------------------------------------------------------------------------------------------------------------------------------------------------------------------------------------------------------------------------------------------------------------------------------------------------------------------------------------------------------------------------------------------------+\n",
      "|80546   |[arbitrari, genet, code, genet, code, regard, arbitrari, sens, codonamino, acid, assign, differ, actual, gener, idea, spell, differ, previou, often, rather, implicit, account, arbitrari, drawn, frozen, accid, theori, evolutionari, conting, altern, causal, pathway, absenc, direct, stereochem, interact, codon, amino, acid, also, suggest, arbitrari, genet, code, justifi, attribut, semant, inform, macromolecul, notabl, dna, argu, account, arbitrari, unsatisfactori, propos, code, arbitrari, sens, jacqu, monod, concept, chemic, arbitrari, genet, code, arbitrari, codon, requir, certain, chemic, structur, properti, specifi, particular, amino, acid, properti, requir, virtu, principl, chemistri, notion, arbitrari, compat, sever, recent, hypothes, code, evolut, maintain, code, chemic, arbitrari, neither, suffici, necessari, attribut, semant, inform, nucleic, acid]|\n",
      "+--------+-------------------------------------------------------------------------------------------------------------------------------------------------------------------------------------------------------------------------------------------------------------------------------------------------------------------------------------------------------------------------------------------------------------------------------------------------------------------------------------------------------------------------------------------------------------------------------------------------------------------------------------------------------------------------------------------------------------------------------------------------------------------------------------------------------------------------------------------------------------------------------------------------+\n",
      "only showing top 1 row\n",
      "\n"
     ]
    }
   ],
   "source": [
    "stemmedDF.show(1,False)"
   ]
  },
  {
   "cell_type": "code",
   "execution_count": 19,
   "metadata": {},
   "outputs": [
    {
     "data": {
      "text/plain": [
       "0"
      ]
     },
     "execution_count": 19,
     "metadata": {},
     "output_type": "execute_result"
    }
   ],
   "source": [
    "stemmedDF.where(col('Stemmed').isNull()).count()"
   ]
  },
  {
   "cell_type": "code",
   "execution_count": 20,
   "metadata": {},
   "outputs": [
    {
     "data": {
      "text/plain": [
       "172079"
      ]
     },
     "execution_count": 20,
     "metadata": {},
     "output_type": "execute_result"
    }
   ],
   "source": [
    "stemmedDF.count()"
   ]
  },
  {
   "cell_type": "code",
   "execution_count": 21,
   "metadata": {},
   "outputs": [],
   "source": [
    "# Trying to write df in csv so i can read from file instead of running porterstemmer on cluster\n",
    "# Because i cannot update due to \"index out of range error\" due to nltk 3.2.2 version\n",
    "# def array_to_string(my_list):\n",
    "#     return '[' + ','.join([str(elem) for elem in my_list]) + ']'\n",
    "\n",
    "# array_to_string_udf = udf(array_to_string, StringType())\n",
    "\n",
    "# test = stemmedDF.withColumn('column_as_str', array_to_string_udf(stemmedDF[\"Stemmed\"]))\n",
    "\n",
    "# test.drop('Stemmed').write.csv('stemmed.csv', sep='|')\n"
   ]
  },
  {
   "cell_type": "code",
   "execution_count": 22,
   "metadata": {},
   "outputs": [],
   "source": [
    "# #Creating Stemmed words DF to use with cluster\n",
    "# schema = StructType([\n",
    "#     StructField(\"Paper_Id\", StringType(), False),\n",
    "#     StructField(\"Stemmed\", StringType(), True)\n",
    "# ])\n",
    "\n",
    "# # Creating DataFrame df for users_libraries\n",
    "# stem_test = sqlC.read.schema(schema)\\\n",
    "#         .option(\"header\", 'False').option(\"delimiter\", \"|\").csv(\"test1.csv\")\n",
    "\n",
    "# stem_test.printSchema()\n",
    "# stem_test.show(2, False)\n"
   ]
  },
  {
   "cell_type": "code",
   "execution_count": 23,
   "metadata": {},
   "outputs": [],
   "source": [
    "#Converting string to array of stem_test Df\n",
    "#Type casting from str to array so i can apply explode function on papers_id column.\n",
    "# def str_to_arr(my_list):\n",
    "#     my_list = my_list.strip('[]').split(\",\")\n",
    "#     return [x for x in my_list]\n",
    "\n",
    "# # String to array udf\n",
    "# str_to_arr_udf = udf(str_to_arr,ArrayType(StringType()))\n",
    "\n",
    "# stem_array = stem_test.withColumn('Stemmed_array',str_to_arr_udf(stem_test[\"Stemmed\"]))"
   ]
  },
  {
   "cell_type": "code",
   "execution_count": 24,
   "metadata": {
    "collapsed": true
   },
   "outputs": [
    {
     "name": "stdout",
     "output_type": "stream",
     "text": [
      "+--------+--------------------+\n",
      "|Paper_Id|             Stemmed|\n",
      "+--------+--------------------+\n",
      "|   80546|[arbitrari, genet...|\n",
      "+--------+--------------------+\n",
      "only showing top 1 row\n",
      "\n"
     ]
    }
   ],
   "source": [
    "# stemmedDF = stem_array.drop('Stemmed').withColumnRenamed('Stemmed_array', 'Stemmed')\n",
    "stemmedDF.show(1)"
   ]
  },
  {
   "cell_type": "code",
   "execution_count": 25,
   "metadata": {
    "collapsed": true
   },
   "outputs": [
    {
     "name": "stdout",
     "output_type": "stream",
     "text": [
      "+--------+---------+\n",
      "|Paper_Id|Word     |\n",
      "+--------+---------+\n",
      "|80546   |arbitrari|\n",
      "|80546   |genet    |\n",
      "|80546   |code     |\n",
      "|80546   |genet    |\n",
      "|80546   |code     |\n",
      "+--------+---------+\n",
      "only showing top 5 rows\n",
      "\n"
     ]
    }
   ],
   "source": [
    "# Exploding stemmed column to get paper_id|word df and can perform groupBy and other agg functions.\n",
    "exploded_stems = stemmedDF.select(stemmedDF.Paper_Id, sf.explode(stemmedDF.Stemmed)).withColumnRenamed(\"col\", \"Word\")\n",
    "exploded_stems.show(5, False)"
   ]
  },
  {
   "cell_type": "code",
   "execution_count": 26,
   "metadata": {
    "collapsed": true
   },
   "outputs": [
    {
     "name": "stdout",
     "output_type": "stream",
     "text": [
      "+-------+---------+----------+\n",
      "|Word   |Papers   |Papers_set|\n",
      "+-------+---------+----------+\n",
      "|aaomega|[1270054]|[1270054] |\n",
      "|abbrev |[758630] |[758630]  |\n",
      "+-------+---------+----------+\n",
      "only showing top 2 rows\n",
      "\n"
     ]
    }
   ],
   "source": [
    "# groupBy on Word, and then collect list and as set so we can perform filtering\n",
    "# of words occuring in more than 10% papers and atleast 20 Papers.\n",
    "grouped = exploded_stems.groupBy(\"Word\").agg(sf.collect_list(\"Paper_Id\"), sf.collect_set(\"Paper_Id\")).\\\n",
    "            withColumnRenamed(\"collect_list(Paper_Id)\", \"Papers\").withColumnRenamed(\"collect_set(Paper_Id)\", \"Papers_set\")\n",
    "grouped.show(2, False)"
   ]
  },
  {
   "cell_type": "code",
   "execution_count": 27,
   "metadata": {},
   "outputs": [],
   "source": [
    "# Counting the size of each paper set so we know in how many papers every word appeared.\n",
    "grouped_withCount = grouped.withColumn(\"Count\", size((\"Papers_set\")))"
   ]
  },
  {
   "cell_type": "code",
   "execution_count": 28,
   "metadata": {
    "collapsed": true
   },
   "outputs": [
    {
     "name": "stdout",
     "output_type": "stream",
     "text": [
      "+-------+---------+----------+-----+\n",
      "|Word   |Papers   |Papers_set|Count|\n",
      "+-------+---------+----------+-----+\n",
      "|aaomega|[1270054]|[1270054] |1    |\n",
      "+-------+---------+----------+-----+\n",
      "only showing top 1 row\n",
      "\n"
     ]
    }
   ],
   "source": [
    "# We take size of set collected in previous step as it help us in filtering the words which are in more than \n",
    "# 10% of the paper and also easily filter for words which are atleast in 20 papers later on sorting helps to get top 1000 Words.\n",
    "# Keeping list for now as it can help in preparing the Paper-Term Vector...\n",
    "grouped_withCount.show(1,False)"
   ]
  },
  {
   "cell_type": "code",
   "execution_count": 29,
   "metadata": {},
   "outputs": [],
   "source": [
    "# Removing the words more than 10%, As we know total papers are 172079.\n",
    "# Simply filtering data frame size column which contains the count of \n",
    "# papers each word has appeared in. Instead of sorting i am using filter\n",
    "# Also, Selecting the words which appeared in atleast 20 papers. as we know count\n",
    "# of Papers for each word. We can simply use filters on count.\n",
    "\n",
    "final_words = grouped_withCount.filter(grouped_withCount.Count <= (0.1 * 172079) ).filter(grouped_withCount.Count >= 20)"
   ]
  },
  {
   "cell_type": "code",
   "execution_count": 30,
   "metadata": {
    "collapsed": true
   },
   "outputs": [
    {
     "name": "stdout",
     "output_type": "stream",
     "text": [
      "+------------+----------------------------------------------------------------------------------------------------------------------------------------------------------------------------------------------------------------------------------------------------------------------------------------------------------------------------------------------------------------------------------------------------------------------------------------------------------------------------------------------------------------------------------------------------------------------------------------------------------------------------------------------------------------------------------------------------------------------------------------------------------------------------------------------------------------------------------------------------------------------------------------------------------------------------------------------------------------------------------------------------------------------------------------------------------------------------------------------------------------------------------------------------------------------------------------------------------------------------------------------------------------------------------------------------------------------------------------------------------------------------------------------------------------------------------------------------------------------------------------------------------------------------------------------------------------------------------------------------------------------------------------------------------------------------------------------------------------------------------------------------------------------------------------------------------------------------------------------------------------------------------------------------------------------------------------------------------------------------------------------------------------------------------------------------------------------------------------------------------------------------------------------------------------------------------------------------------------------------------------------------------------------------------------------------------------------------------------------------------------------------------------------------------------------------------------------------------------------------------------------------------------------------------------------------------------------------------------------------------------------------------------------------------------------------------------------------------------------------------------------------------------------------------------------------------------------------------------------------------------------------------------------------------------------------------------------------------------------------------------------------------------------------------------------------------------------------------------------------------------------------------------------------------------------------------------------------------------------------------------------------------------------------------------------------------------------------------------------------------------------------------------------------------------------------------------------------------------------------------------------------------------------------------------------------------------------------------------------------------------------------------------------------------------------------------------------------------------------------------------------------------------------------------------------------------------------------------------------------------------------------------------------------------------------------------------------------------------------------------------------------------------------------------------------------------------------------------------------------------------------------------------------------------------------------------------------------------------------------------------------------------------------------------------------------------------------------------------------+-------------------------------------------------------------------------------------------------------------------------------------------------------------------------------------------------------------------------------------------------------------------------------------------------------------------------------------------------------------------------------------------------------------------------------------------------------------------------------------------------------------------------------------------------------------------------------------------------------------------------------------------------------------------------------------------------------------------------------------------------------------------------------------------------------------------------------------------------------------------------------------------------------------------------------------------------------------------------------------------------------------------------------------------------------------------------------------------------------------------------------------------------------------------------------------------------------------------------------------------------------------------------------------------------------------------------------------------------------------------------------------------------------------------------------------------------------------------------------------------------------------------------------------------------------------------------------------------------------------------------------------------------------------------------------------------------------------------------------------------------------------------------------------------------------------------------------------------------------------------------------------------------------------------------------------------------------------------------------------------------------------------------------------------------------------------------------------------------------------------------------------------------------------------------------------------------------------------------------------------------------------------------------------------------------------------------------------------------------------------------------------------------------------------------------------------------------------------------------------------------------------------------+-----+\n",
      "|Word        |Papers                                                                                                                                                                                                                                                                                                                                                                                                                                                                                                                                                                                                                                                                                                                                                                                                                                                                                                                                                                                                                                                                                                                                                                                                                                                                                                                                                                                                                                                                                                                                                                                                                                                                                                                                                                                                                                                                                                                                                                                                                                                                                                                                                                                                                                                                                                                                                                                                                                                                                                                                                                                                                                                                                                                                                                                                                                                                                                                                                                                                                                                                                                                                                                                                                                                                                                                                                                                                                                                                                                                                                                                                                                                                                                                                                                                                                                                                                                                                                                                                                                                                                                                                                                                                                                                                                                                                        |Papers_set                                                                                                                                                                                                                                                                                                                                                                                                                                                                                                                                                                                                                                                                                                                                                                                                                                                                                                                                                                                                                                                                                                                                                                                                                                                                                                                                                                                                                                                                                                                                                                                                                                                                                                                                                                                                                                                                                                                                                                                                                                                                                                                                                                                                                                                                                                                                                                                                                                                                                                               |Count|\n",
      "+------------+----------------------------------------------------------------------------------------------------------------------------------------------------------------------------------------------------------------------------------------------------------------------------------------------------------------------------------------------------------------------------------------------------------------------------------------------------------------------------------------------------------------------------------------------------------------------------------------------------------------------------------------------------------------------------------------------------------------------------------------------------------------------------------------------------------------------------------------------------------------------------------------------------------------------------------------------------------------------------------------------------------------------------------------------------------------------------------------------------------------------------------------------------------------------------------------------------------------------------------------------------------------------------------------------------------------------------------------------------------------------------------------------------------------------------------------------------------------------------------------------------------------------------------------------------------------------------------------------------------------------------------------------------------------------------------------------------------------------------------------------------------------------------------------------------------------------------------------------------------------------------------------------------------------------------------------------------------------------------------------------------------------------------------------------------------------------------------------------------------------------------------------------------------------------------------------------------------------------------------------------------------------------------------------------------------------------------------------------------------------------------------------------------------------------------------------------------------------------------------------------------------------------------------------------------------------------------------------------------------------------------------------------------------------------------------------------------------------------------------------------------------------------------------------------------------------------------------------------------------------------------------------------------------------------------------------------------------------------------------------------------------------------------------------------------------------------------------------------------------------------------------------------------------------------------------------------------------------------------------------------------------------------------------------------------------------------------------------------------------------------------------------------------------------------------------------------------------------------------------------------------------------------------------------------------------------------------------------------------------------------------------------------------------------------------------------------------------------------------------------------------------------------------------------------------------------------------------------------------------------------------------------------------------------------------------------------------------------------------------------------------------------------------------------------------------------------------------------------------------------------------------------------------------------------------------------------------------------------------------------------------------------------------------------------------------------------------------------------+-------------------------------------------------------------------------------------------------------------------------------------------------------------------------------------------------------------------------------------------------------------------------------------------------------------------------------------------------------------------------------------------------------------------------------------------------------------------------------------------------------------------------------------------------------------------------------------------------------------------------------------------------------------------------------------------------------------------------------------------------------------------------------------------------------------------------------------------------------------------------------------------------------------------------------------------------------------------------------------------------------------------------------------------------------------------------------------------------------------------------------------------------------------------------------------------------------------------------------------------------------------------------------------------------------------------------------------------------------------------------------------------------------------------------------------------------------------------------------------------------------------------------------------------------------------------------------------------------------------------------------------------------------------------------------------------------------------------------------------------------------------------------------------------------------------------------------------------------------------------------------------------------------------------------------------------------------------------------------------------------------------------------------------------------------------------------------------------------------------------------------------------------------------------------------------------------------------------------------------------------------------------------------------------------------------------------------------------------------------------------------------------------------------------------------------------------------------------------------------------------------------------------+-----+\n",
      "|anaerob     |[2630306, 1557365, 2658578, 1557365, 3346745, 1557365, 3346745, 6901649, 2646699, 6901649, 2646699, 6901649, 2646699, 2658542, 2646699, 2658542, 2646699, 2658542, 111943, 2658542, 111943, 2658542, 111943, 2658542, 111943, 1531649, 111943, 398875, 1557157, 8636860, 2658536, 2295498, 1556326, 3766837, 1556326, 4254665, 3372808, 1061338, 1557264, 3097182, 1473534, 2261056, 10430797, 360, 3121247, 240473, 3121247, 240473, 3121247, 1557371, 3121247, 1557371, 3837869, 1557371, 3837869, 1557371, 1557189, 2644098, 3244207, 2644098, 3244212, 1556299, 3244212, 2043666, 3244212, 4092260, 3244212, 6572150, 1557211, 2814752, 9456003, 2814752, 1556351, 2814752, 1556351, 581095, 10743743, 3344324, 1557366, 3344324, 1557366, 3344324, 3440532, 9976791, 3440532, 936620, 3440532, 936620, 1557218, 406, 4022127, 406, 833550, 5401158, 833550, 2859678, 1557317, 3123142, 2630279, 3123142, 2630279, 3123142, 1557214, 3123144, 2646667, 3123144, 2646667, 5800836, 5800836, 5800836, 2324232, 11241404, 2289532, 2289532, 2630299, 2630299, 2630299, 8606305, 11809867, 1302011, 6144822, 2658519, 1059052, 2658519, 5721842, 7709407, 5721842, 7709407, 3097081, 1714973, 9038115, 1714973, 9495440, 1714973, 7843599, 1714973, 2658523, 2646665, 2658523, 2646665, 2658523, 2646665, 5401254, 2646665, 5401254, 2646665, 5401254, 4239408, 5401254, 9278390, 1557276, 1557335, 1557276, 1557335, 1557276, 1557335, 9049821, 1557335, 1557203, 1557335, 1557331, 1557367, 1218352, 1557367, 2859673, 1557367, 2786454, 1557367, 2786454, 1557367, 2646664, 8304389, 3123183, 1557195, 1756558, 1557195, 1756558, 1557280, 1756558, 1557280, 1756558, 7112821, 1756558, 7112821, 1756558, 1785480, 1756558, 1557351, 2858829, 3209872, 1557221, 3209872, 1557221, 3344078, 2646703, 1557282, 5709842, 1123346, 12533307, 10054521, 1557170, 6659078, 1557170, 1557198, 1557170, 2858824, 1557220, 1557356, 1557220, 1557356, 1557220, 399208, 2658510, 4079985, 7536463, 4079985, 1557277, 11856490, 1666047, 4459073, 1666047, 4459073, 3082205, 4459073, 2658552, 4459073, 1557265, 4459073, 12701194, 4459073, 13116696, 4459073, 86557, 4459073, 1557327, 4459073, 1557327, 2858830, 1557327, 2858830, 3702730, 2858830, 1378496, 2858830, 1557197, 1557266, 1557197, 1557266, 2310543, 1557284, 2310543, 1557284, 2310543, 1557284, 2310543, 1556318, 1556318, 1557320, 1557320, 2859696, 1572716, 1572716, 1911977, 12072416, 8972513, 142338, 825270, 825270, 825270, 341, 1556292, 1556292, 1557219, 1557219, 1557219, 1557207, 1557207, 2023254, 9316978, 2023254, 1167706, 1557334, 2191304, 1557334, 2191304, 5781606, 2191304, 12460531, 2191304, 825011, 1234094, 3718468, 1414954, 3718468, 4720186, 2658505, 1597743, 2658505, 6141433, 6713565, 3751565, 6713565, 5201809, 241628, 5201809, 1557171, 2783256, 1560976, 1511985, 1560976, 5446761, 1557273, 781897, 401, 101987, 12314317, 1103170, 12314317, 3372807, 1557370, 3372807, 1557370, 3372807, 7530459, 3125334, 1557343, 2952314, 1557343, 2952314, 1557343, 6905897, 1557343, 6905897, 1557343, 553055, 1557343, 6406781, 5721866, 4532820, 5721866, 4532820, 5721866, 4532820, 5721866, 4532820, 5629208, 9923242, 1557279, 1557279, 1557279, 1557164, 1557281, 9312453, 8831658, 8831658, 5400579, 5400579, 3404140, 1832034, 1832034, 1832034, 6530446, 6530446, 6097364, 392305, 3255157, 5400593, 8996369, 6209971, 6209971, 6209971, 8019925, 3991739, 3991739, 6171978, 1556346, 8427287, 1556313, 8219536, 1556335, 5811118, 7603682, 7603682, 6713551, 1167743, 1167743, 1167743, 3393256, 3393256, 6198006, 460546, 7021056, 7021056, 7021056, 7021056, 7021056, 7021056, 8302387, 7209723, 1556349, 1556349, 4968750, 4304558, 4304558, 3424573, 6474020, 2201274, 6961310, 1557148, 1557148, 1557148, 6444675, 6444675, 7249561, 7249561, 7249561, 1624461, 5843191, 5843191, 5843191, 4229619, 2535448, 1557215, 500934, 1557215, 1557291, 1557215, 1557291, 1543407, 1557291, 6071174, 822701, 3244210, 3477483, 966414, 1219662, 966414, 1219662, 11338654, 1219662, 11338654, 1219662, 833322, 584551, 1066636, 584551, 1431683, 584551, 1431683, 584551, 3808769, 1205895, 2630303, 790955, 2630303, 2834093, 275498, 2834093, 577592, 1556347, 9396471, 1556347, 7155607, 217758, 582292, 1939967, 4141638, 6963421, 568228]|[4239408, 3424573, 582292, 4304558, 3808769, 1234094, 3123142, 6071174, 1557189, 825270, 1167743, 1560976, 12072416, 1205895, 6901649, 7843599, 2859673, 1103170, 1557219, 6905897, 1557277, 4720186, 5401158, 2834093, 1557280, 6572150, 1939967, 1378496, 3372807, 5400579, 2630303, 2201274, 2630306, 3751565, 2859696, 5781606, 399208, 9396471, 1557211, 3837869, 1531649, 3244210, 2858830, 2023254, 5201809, 1556326, 8304389, 9923242, 4141638, 1556347, 1756558, 822701, 401, 966414, 9038115, 5800836, 8606305, 584551, 9976791, 1414954, 1556335, 2644098, 12460531, 2952314, 3477483, 833322, 1557282, 6198006, 1572716, 1557197, 2646699, 4092260, 3244212, 8019925, 1556292, 3440532, 1556318, 5400593, 1557291, 11338654, 1511985, 12533307, 1557265, 460546, 1543407, 1557195, 1557164, 7709407, 3121247, 1218352, 217758, 9312453, 553055, 2658523, 1624461, 2858829, 5811118, 3125334, 5843191, 1167706, 360, 11241404, 5709842, 1066636, 1557148, 86557, 1557220, 2191304, 1302011, 1557320, 12314317, 568228, 9456003, 10054521, 1557371, 2630279, 577592, 1557218, 341, 241628, 1556313, 2535448, 1557370, 1557327, 3404140, 6141433, 2658505, 1911977, 8219536, 2324232, 8427287, 2658578, 3344078, 7603682, 4254665, 1557203, 1061338, 1557334, 1557171, 1557221, 392305, 7249561, 10430797, 4079985, 2658552, 1557215, 1557367, 2786454, 1557170, 6713565, 4968750, 8831658, 2859678, 1557343, 8636860, 4459073, 1714973, 1557281, 7209723, 2783256, 790955, 7530459, 5401254, 2043666, 581095, 6961310, 2814752, 1557317, 8302387, 1557198, 3082205, 7155607, 1557351, 1557356, 5721842, 3766837, 1666047, 275498, 7112821, 2658519, 2295498, 3123183, 1123346, 2658542, 11809867, 12701194, 1556349, 3123144, 9495440, 4022127, 6171978, 13116696, 11856490, 781897, 936620, 2646667, 1473534, 3718468, 1557273, 240473, 5721866, 3097081, 1557284, 9049821, 5446761, 6474020, 3372808, 6144822, 3255157, 406, 2289532, 8972513, 9278390, 4532820, 1219662, 6713551, 9316978, 6406781, 3097182, 1557331, 1557279, 1431683, 6659078, 2646664, 2658510, 111943, 101987, 2646665, 142338, 833550, 2658536, 6963421, 1556346, 6097364, 1557157, 2646703, 3702730, 3393256, 6530446, 1556351, 8996369, 7021056, 2310543, 825011, 7536463, 398875, 5629208, 3344324, 1556299, 1557207, 1785480, 6209971, 4229619, 2858824, 1557276, 1557335, 1597743, 3991739, 1059052, 3346745, 2261056, 1557366, 6444675, 1557214, 1557365, 10743743, 2630299, 3209872, 1557266, 3244207, 1832034, 1557264, 500934]|273  |\n",
      "|anthropometr|[3391369, 4510093, 3391369, 3391369, 5227967, 7165086, 12256139, 7165086, 5297693, 4445558, 6089293, 11750181, 8337123, 11750181, 8337123, 11750181, 8337123, 1750920, 6463069, 1335384, 785001, 3424742, 3424742, 4519750, 6643554, 1136010, 9886951, 6236902, 712254, 13548353, 3144051, 4235663]                                                                                                                                                                                                                                                                                                                                                                                                                                                                                                                                                                                                                                                                                                                                                                                                                                                                                                                                                                                                                                                                                                                                                                                                                                                                                                                                                                                                                                                                                                                                                                                                                                                                                                                                                                                                                                                                                                                                                                                                                                                                                                                                                                                                                                                                                                                                                                                                                                                                                                                                                                                                                                                                                                                                                                                                                                                                                                                                                                                                                                                                                                                                                                                                                                                                                                                                                                                                                                                                                                                                                                                                                                                                                                                                                                                                                                                                                                                                                                                                                                           |[5227967, 6089293, 1750920, 3424742, 4510093, 13548353, 5297693, 712254, 3144051, 3391369, 1335384, 4445558, 4519750, 9886951, 6236902, 11750181, 12256139, 4235663, 8337123, 1136010, 785001, 6643554, 7165086, 6463069]                                                                                                                                                                                                                                                                                                                                                                                                                                                                                                                                                                                                                                                                                                                                                                                                                                                                                                                                                                                                                                                                                                                                                                                                                                                                                                                                                                                                                                                                                                                                                                                                                                                                                                                                                                                                                                                                                                                                                                                                                                                                                                                                                                                                                                                                                                |24   |\n",
      "+------------+----------------------------------------------------------------------------------------------------------------------------------------------------------------------------------------------------------------------------------------------------------------------------------------------------------------------------------------------------------------------------------------------------------------------------------------------------------------------------------------------------------------------------------------------------------------------------------------------------------------------------------------------------------------------------------------------------------------------------------------------------------------------------------------------------------------------------------------------------------------------------------------------------------------------------------------------------------------------------------------------------------------------------------------------------------------------------------------------------------------------------------------------------------------------------------------------------------------------------------------------------------------------------------------------------------------------------------------------------------------------------------------------------------------------------------------------------------------------------------------------------------------------------------------------------------------------------------------------------------------------------------------------------------------------------------------------------------------------------------------------------------------------------------------------------------------------------------------------------------------------------------------------------------------------------------------------------------------------------------------------------------------------------------------------------------------------------------------------------------------------------------------------------------------------------------------------------------------------------------------------------------------------------------------------------------------------------------------------------------------------------------------------------------------------------------------------------------------------------------------------------------------------------------------------------------------------------------------------------------------------------------------------------------------------------------------------------------------------------------------------------------------------------------------------------------------------------------------------------------------------------------------------------------------------------------------------------------------------------------------------------------------------------------------------------------------------------------------------------------------------------------------------------------------------------------------------------------------------------------------------------------------------------------------------------------------------------------------------------------------------------------------------------------------------------------------------------------------------------------------------------------------------------------------------------------------------------------------------------------------------------------------------------------------------------------------------------------------------------------------------------------------------------------------------------------------------------------------------------------------------------------------------------------------------------------------------------------------------------------------------------------------------------------------------------------------------------------------------------------------------------------------------------------------------------------------------------------------------------------------------------------------------------------------------------------------------------------------------+-------------------------------------------------------------------------------------------------------------------------------------------------------------------------------------------------------------------------------------------------------------------------------------------------------------------------------------------------------------------------------------------------------------------------------------------------------------------------------------------------------------------------------------------------------------------------------------------------------------------------------------------------------------------------------------------------------------------------------------------------------------------------------------------------------------------------------------------------------------------------------------------------------------------------------------------------------------------------------------------------------------------------------------------------------------------------------------------------------------------------------------------------------------------------------------------------------------------------------------------------------------------------------------------------------------------------------------------------------------------------------------------------------------------------------------------------------------------------------------------------------------------------------------------------------------------------------------------------------------------------------------------------------------------------------------------------------------------------------------------------------------------------------------------------------------------------------------------------------------------------------------------------------------------------------------------------------------------------------------------------------------------------------------------------------------------------------------------------------------------------------------------------------------------------------------------------------------------------------------------------------------------------------------------------------------------------------------------------------------------------------------------------------------------------------------------------------------------------------------------------------------------------+-----+\n",
      "only showing top 2 rows\n",
      "\n"
     ]
    }
   ],
   "source": [
    "final_words.show(2,False)"
   ]
  },
  {
   "cell_type": "code",
   "execution_count": 31,
   "metadata": {},
   "outputs": [],
   "source": [
    "final_1000 = final_words.orderBy(final_words.Count.desc()).select(\"*\").limit(1000)"
   ]
  },
  {
   "cell_type": "code",
   "execution_count": 32,
   "metadata": {
    "collapsed": true
   },
   "outputs": [
    {
     "name": "stdout",
     "output_type": "stream",
     "text": [
      "root\n",
      " |-- Word: string (nullable = true)\n",
      " |-- Papers: array (nullable = true)\n",
      " |    |-- element: string (containsNull = false)\n",
      " |-- Papers_set: array (nullable = true)\n",
      " |    |-- element: string (containsNull = false)\n",
      " |-- Count: integer (nullable = false)\n",
      "\n"
     ]
    },
    {
     "data": {
      "text/plain": [
       "14026"
      ]
     },
     "execution_count": 32,
     "metadata": {},
     "output_type": "execute_result"
    }
   ],
   "source": [
    "final_1000.printSchema()\n",
    "# Remove below line\n",
    "final_words.count()"
   ]
  },
  {
   "cell_type": "code",
   "execution_count": 33,
   "metadata": {},
   "outputs": [],
   "source": [
    "# Trying to Use stemmed DF to create paper Term Vector. Dropping paper_set and Count column \n",
    "# Will use it to create TermVectors by converting it to the df as paper_id| list of words in paper\n",
    "paper_term = final_1000.select(\"Word\", \"Papers\")"
   ]
  },
  {
   "cell_type": "code",
   "execution_count": null,
   "metadata": {
    "scrolled": false
   },
   "outputs": [],
   "source": [
    "paper_term.printSchema()\n",
    "paper_term.show(2,False)"
   ]
  },
  {
   "cell_type": "code",
   "execution_count": 35,
   "metadata": {},
   "outputs": [],
   "source": [
    "# Exploding the Papers columm so we get 1 on 1 word-paper df\n",
    "exploded_paperTerm = paper_term.select(\"Word\", sf.explode(\"Papers\")).withColumnRenamed(\"col\", \"Papers\")"
   ]
  },
  {
   "cell_type": "code",
   "execution_count": 36,
   "metadata": {
    "scrolled": true
   },
   "outputs": [
    {
     "name": "stdout",
     "output_type": "stream",
     "text": [
      "+-----+-------+\n",
      "| Word| Papers|\n",
      "+-----+-------+\n",
      "|activ|8823677|\n",
      "|activ| 138401|\n",
      "+-----+-------+\n",
      "only showing top 2 rows\n",
      "\n"
     ]
    }
   ],
   "source": [
    "# Contains repititive words as we exploded list of papers colleted above because it will\n",
    "# Further help us in counting number of appearance of specific term.\n",
    "exploded_paperTerm.show(2)"
   ]
  },
  {
   "cell_type": "code",
   "execution_count": 37,
   "metadata": {},
   "outputs": [],
   "source": [
    "# Grouping the exploded_paperTerm by \"Papers\" column and collect all words as list. this will\n",
    "# Give us dataframe as \"Paper\": \"List of words\" appearing in that paper.\n",
    "grouped_paperTerm = exploded_paperTerm.groupBy(\"Papers\").agg(sf.collect_list(\"Word\")).withColumnRenamed(\"collect_list(Word)\", \"Words\")"
   ]
  },
  {
   "cell_type": "code",
   "execution_count": 38,
   "metadata": {
    "scrolled": true
   },
   "outputs": [
    {
     "name": "stdout",
     "output_type": "stream",
     "text": [
      "+------+-----------------------------------------------------------------------------------------------------------------------------------------------------------------------------------------------------------------------------------------------------------------------------------------------+\n",
      "|Papers|Words                                                                                                                                                                                                                                                                                          |\n",
      "+------+-----------------------------------------------------------------------------------------------------------------------------------------------------------------------------------------------------------------------------------------------------------------------------------------------+\n",
      "|100   |[network, evolv, network, block, network, motif, design, complex, simpl, scienc, build]                                                                                                                                                                                                        |\n",
      "|100001|[identif, set, identif, set, separ, network, neural, sequenc, train, sequenc, lower, predict, precis, predict, scheme, predict, genomewid, avail, easili, appli, discrimin, possibl, eukaryot, signal, eukaryot, signal, www, signal, though, site, site, significantli, better, made, previou]|\n",
      "+------+-----------------------------------------------------------------------------------------------------------------------------------------------------------------------------------------------------------------------------------------------------------------------------------------------+\n",
      "only showing top 2 rows\n",
      "\n"
     ]
    }
   ],
   "source": [
    "grouped_paperTerm.show(2,False)"
   ]
  },
  {
   "cell_type": "code",
   "execution_count": 39,
   "metadata": {
    "collapsed": true
   },
   "outputs": [
    {
     "name": "stdout",
     "output_type": "stream",
     "text": [
      "+------+-----------------------------------------------------------------------------------------------------------------------------------------------------------------------------------------------------------------------------------------------------------------------------------------------+----------------------------------------------------------------------------------------------------------------------------------------------------------------------------------------------------------------+\n",
      "|Papers|Words                                                                                                                                                                                                                                                                                          |features                                                                                                                                                                                                        |\n",
      "+------+-----------------------------------------------------------------------------------------------------------------------------------------------------------------------------------------------------------------------------------------------------------------------------------------------+----------------------------------------------------------------------------------------------------------------------------------------------------------------------------------------------------------------+\n",
      "|100   |[network, evolv, network, block, network, motif, design, complex, simpl, scienc, build]                                                                                                                                                                                                        |(1000,[2,6,17,184,226,406,499,546,790],[3.0,1.0,1.0,1.0,1.0,1.0,1.0,1.0,1.0])                                                                                                                                   |\n",
      "|100001|[identif, set, identif, set, separ, network, neural, sequenc, train, sequenc, lower, predict, precis, predict, scheme, predict, genomewid, avail, easili, appli, discrimin, possibl, eukaryot, signal, eukaryot, signal, www, signal, though, site, site, significantli, better, made, previou]|(1000,[2,5,9,14,70,81,88,122,139,262,302,338,342,405,409,414,462,535,550,560,749,805,808,954,961,997],[1.0,2.0,3.0,2.0,1.0,2.0,3.0,1.0,1.0,1.0,1.0,1.0,1.0,2.0,1.0,1.0,1.0,1.0,1.0,1.0,1.0,1.0,2.0,1.0,1.0,1.0])|\n",
      "+------+-----------------------------------------------------------------------------------------------------------------------------------------------------------------------------------------------------------------------------------------------------------------------------------------------+----------------------------------------------------------------------------------------------------------------------------------------------------------------------------------------------------------------+\n",
      "only showing top 2 rows\n",
      "\n"
     ]
    }
   ],
   "source": [
    "# Using count vectorizer to create sparsevector for frequency of each term in a paper.\n",
    "from pyspark.ml.feature import CountVectorizer\n",
    "\n",
    "cv = CountVectorizer(inputCol=\"Words\", outputCol=\"features\")\n",
    "model = cv.fit(grouped_paperTerm)\n",
    "\n",
    "result = model.transform(grouped_paperTerm)\n",
    "result.show(2,truncate=False)"
   ]
  },
  {
   "cell_type": "code",
   "execution_count": 40,
   "metadata": {},
   "outputs": [],
   "source": [
    "finalModel = result.select(\"Papers\", \"features\").\\\n",
    "            withColumnRenamed(\"features\", \"TermFrequencyVector\").withColumnRenamed(\"Papers\", \"paper_id\")"
   ]
  },
  {
   "cell_type": "code",
   "execution_count": 41,
   "metadata": {
    "scrolled": true
   },
   "outputs": [
    {
     "name": "stdout",
     "output_type": "stream",
     "text": [
      "+--------+----------------------------------------------------------------------------------------------------------------------------------------------------------------------------------------------------------------+\n",
      "|paper_id|TermFrequencyVector                                                                                                                                                                                             |\n",
      "+--------+----------------------------------------------------------------------------------------------------------------------------------------------------------------------------------------------------------------+\n",
      "|100     |(1000,[2,6,17,184,226,406,499,546,790],[3.0,1.0,1.0,1.0,1.0,1.0,1.0,1.0,1.0])                                                                                                                                   |\n",
      "|100001  |(1000,[2,5,9,14,70,81,88,122,139,262,302,338,342,405,409,414,462,535,550,560,749,805,808,954,961,997],[1.0,2.0,3.0,2.0,1.0,2.0,3.0,1.0,1.0,1.0,1.0,1.0,1.0,2.0,1.0,1.0,1.0,1.0,1.0,1.0,1.0,1.0,2.0,1.0,1.0,1.0])|\n",
      "+--------+----------------------------------------------------------------------------------------------------------------------------------------------------------------------------------------------------------------+\n",
      "only showing top 2 rows\n",
      "\n"
     ]
    }
   ],
   "source": [
    "finalModel.show(2,truncate = False)"
   ]
  },
  {
   "cell_type": "code",
   "execution_count": 42,
   "metadata": {},
   "outputs": [
    {
     "data": {
      "text/plain": [
       "166796"
      ]
     },
     "execution_count": 42,
     "metadata": {},
     "output_type": "execute_result"
    }
   ],
   "source": [
    "#finalModel.count()"
   ]
  },
  {
   "cell_type": "markdown",
   "metadata": {},
   "source": [
    "# TF-IDF"
   ]
  },
  {
   "cell_type": "code",
   "execution_count": 43,
   "metadata": {
    "scrolled": true
   },
   "outputs": [
    {
     "name": "stdout",
     "output_type": "stream",
     "text": [
      "+--------+------------------------------------------------------------------------------------------------------------------------------------------------------------------------------------------------------------------------------------------------------------------------------------------------------------------------------------------------------------------------------------------------------------------------------------------------------------------------------------------------------------------------------------------------------------------------------------------------+\n",
      "|paper_id|features                                                                                                                                                                                                                                                                                                                                                                                                                                                                                                                                                                                        |\n",
      "+--------+------------------------------------------------------------------------------------------------------------------------------------------------------------------------------------------------------------------------------------------------------------------------------------------------------------------------------------------------------------------------------------------------------------------------------------------------------------------------------------------------------------------------------------------------------------------------------------------------+\n",
      "|100     |(1000,[2,6,17,184,226,406,499,546,790],[6.930449219064565,2.3267173009996065,2.384034690458811,3.222912811986184,3.077116832483401,3.5224532295273403,4.491909164344742,3.8408562005128726,4.375792994177287])                                                                                                                                                                                                                                                                                                                                                                                  |\n",
      "|100001  |(1000,[2,5,9,14,70,81,88,122,139,262,302,338,342,405,409,414,462,535,550,560,749,805,808,954,961,997],[2.3101497396881885,4.990895626507497,7.505380008506187,4.572901350030087,2.582921972631529,6.205082745193663,9.26746713360406,2.6930372896008796,2.732704594311079,3.1928208653119516,3.7575974355230737,3.305378819670989,3.7294836426984186,7.169305389639924,3.4244701138949973,3.446244492357481,3.642014495043894,3.7931567375595607,3.841694072367504,4.053792393126434,4.26193673459346,4.455637119726534,8.918515002469197,4.461332190775459,4.385371611474357,4.57155045366807])|\n",
      "+--------+------------------------------------------------------------------------------------------------------------------------------------------------------------------------------------------------------------------------------------------------------------------------------------------------------------------------------------------------------------------------------------------------------------------------------------------------------------------------------------------------------------------------------------------------------------------------------------------------+\n",
      "only showing top 2 rows\n",
      "\n"
     ]
    }
   ],
   "source": [
    "# Creating TF-IDF dataframe.\n",
    "from pyspark.ml.feature import IDF, Tokenizer\n",
    "\n",
    "idf = IDF(inputCol=\"TermFrequencyVector\", outputCol=\"features\")\n",
    "idfModel = idf.fit(finalModel)\n",
    "rescaledData = idfModel.transform(finalModel)\n",
    "\n",
    "rescaledData.select(\"paper_id\", \"features\").show(2,truncate = False)"
   ]
  },
  {
   "cell_type": "code",
   "execution_count": 44,
   "metadata": {},
   "outputs": [],
   "source": [
    "# Creating tf_idf dataframe and renaming features column to ptf_idf\n",
    "tf_idf = rescaledData.select(\"paper_id\", \"features\").withColumnRenamed(\"features\", \"ptf_idf\")"
   ]
  },
  {
   "cell_type": "code",
   "execution_count": 45,
   "metadata": {
    "scrolled": true
   },
   "outputs": [
    {
     "name": "stdout",
     "output_type": "stream",
     "text": [
      "+--------+------------------------------------------------------------------------------------------------------------------------------------------------------------------------------------------------------------------------------------------------------------------------------------------------------------------------------------------------------------------------------------------------------------------------------------------------------------------------------------------------------------------------------------------------------------------------------------------------+\n",
      "|paper_id|ptf_idf                                                                                                                                                                                                                                                                                                                                                                                                                                                                                                                                                                                         |\n",
      "+--------+------------------------------------------------------------------------------------------------------------------------------------------------------------------------------------------------------------------------------------------------------------------------------------------------------------------------------------------------------------------------------------------------------------------------------------------------------------------------------------------------------------------------------------------------------------------------------------------------+\n",
      "|100     |(1000,[2,6,17,184,226,406,499,546,790],[6.930449219064565,2.3267173009996065,2.384034690458811,3.222912811986184,3.077116832483401,3.5224532295273403,4.491909164344742,3.8408562005128726,4.375792994177287])                                                                                                                                                                                                                                                                                                                                                                                  |\n",
      "|100001  |(1000,[2,5,9,14,70,81,88,122,139,262,302,338,342,405,409,414,462,535,550,560,749,805,808,954,961,997],[2.3101497396881885,4.990895626507497,7.505380008506187,4.572901350030087,2.582921972631529,6.205082745193663,9.26746713360406,2.6930372896008796,2.732704594311079,3.1928208653119516,3.7575974355230737,3.305378819670989,3.7294836426984186,7.169305389639924,3.4244701138949973,3.446244492357481,3.642014495043894,3.7931567375595607,3.841694072367504,4.053792393126434,4.26193673459346,4.455637119726534,8.918515002469197,4.461332190775459,4.385371611474357,4.57155045366807])|\n",
      "+--------+------------------------------------------------------------------------------------------------------------------------------------------------------------------------------------------------------------------------------------------------------------------------------------------------------------------------------------------------------------------------------------------------------------------------------------------------------------------------------------------------------------------------------------------------------------------------------------------------+\n",
      "only showing top 2 rows\n",
      "\n"
     ]
    }
   ],
   "source": [
    "tf_idf.show(2, False)"
   ]
  },
  {
   "cell_type": "code",
   "execution_count": null,
   "metadata": {
    "scrolled": true
   },
   "outputs": [],
   "source": [
    "#Selecting Subset of 20000 paper vectors.\n",
    "tf_idf = tf_idf.select('*').limit(20000)\n",
    "#tf_idf.count()"
   ]
  },
  {
   "cell_type": "markdown",
   "metadata": {},
   "source": [
    "# LDA"
   ]
  },
  {
   "cell_type": "code",
   "execution_count": 48,
   "metadata": {},
   "outputs": [],
   "source": [
    "# LDA\n",
    "from pyspark.ml.clustering import LDA\n",
    "\n",
    "# Trains a LDA model.\n",
    "lda = LDA(k=40, maxIter=10, featuresCol=\"TermFrequencyVector\")\n",
    "model = lda.fit(finalModel)\n",
    "\n",
    "# Describe topics.\n",
    "topics = model.describeTopics(5)\n",
    "\n",
    "\n",
    "# Shows the result\n",
    "transformed = model.transform(finalModel)\n"
   ]
  },
  {
   "cell_type": "code",
   "execution_count": 49,
   "metadata": {
    "collapsed": true
   },
   "outputs": [
    {
     "name": "stdout",
     "output_type": "stream",
     "text": [
      "+-----+-------------------------+-------------------------------------------------------------------------------------------------------------+\n",
      "|topic|termIndices              |termWeights                                                                                                  |\n",
      "+-----+-------------------------+-------------------------------------------------------------------------------------------------------------+\n",
      "|0    |[283, 56, 297, 12, 470]  |[0.027895802667851813, 0.019167510377243725, 0.01899309527737269, 0.015175380480696126, 0.01369718699147568] |\n",
      "|1    |[94, 1, 91, 92, 17]      |[0.0310701560095516, 0.030700210636843753, 0.023722260844310162, 0.02002468628135826, 0.018382978624044814]  |\n",
      "|2    |[20, 9, 58, 955, 12]     |[0.01929833408705472, 0.016211025498438413, 0.013396872858057119, 0.012891429148514915, 0.00792607392030447] |\n",
      "|3    |[287, 375, 365, 688, 962]|[0.09742876874785035, 0.09128346913908153, 0.0354628065160916, 0.027340198578862787, 0.020023216684436167]   |\n",
      "|4    |[0, 11, 90, 5, 8]        |[0.06095293348559933, 0.024217316044991277, 0.015102858752720095, 0.014852870982472807, 0.012744605334290997]|\n",
      "+-----+-------------------------+-------------------------------------------------------------------------------------------------------------+\n",
      "only showing top 5 rows\n",
      "\n",
      "+--------+--------------------------------------------------------------------------------------------------------------------------------------------------------------------------------------------------------------------------------------------------------------------------------------------------------------------------------------------------------------------------------------------------------------------------------------------------------------------------------------------------------------------------------------------------------------------------------------------------------------------------------------------------------------------------------------------------------------------------------------------------+----------------------------------------------------------------------------------------------------------------------------------------------------------------------------------------------------------------------------------------------------------------------------------------------------------------------------------------------------------------------------------------------------------------------------------------------------------------------------------------------------------------------------------------------------------------------------------------------------------------------------------------------------------------------------------------------------------------------------------------------------------------------------------------------------------------------------------------------------------------------------------------------------+\n",
      "|paper_id|TermFrequencyVector                                                                                                                                                                                                                                                                                                                                                                                                                                                                                                                                                                                                                                                                                                                               |topicDistribution                                                                                                                                                                                                                                                                                                                                                                                                                                                                                                                                                                                                                                                                                                                                                                                                                                                                                   |\n",
      "+--------+--------------------------------------------------------------------------------------------------------------------------------------------------------------------------------------------------------------------------------------------------------------------------------------------------------------------------------------------------------------------------------------------------------------------------------------------------------------------------------------------------------------------------------------------------------------------------------------------------------------------------------------------------------------------------------------------------------------------------------------------------+----------------------------------------------------------------------------------------------------------------------------------------------------------------------------------------------------------------------------------------------------------------------------------------------------------------------------------------------------------------------------------------------------------------------------------------------------------------------------------------------------------------------------------------------------------------------------------------------------------------------------------------------------------------------------------------------------------------------------------------------------------------------------------------------------------------------------------------------------------------------------------------------------+\n",
      "|100     |(1000,[2,6,17,184,226,406,499,546,790],[3.0,1.0,1.0,1.0,1.0,1.0,1.0,1.0,1.0])                                                                                                                                                                                                                                                                                                                                                                                                                                                                                                                                                                                                                                                                     |[0.002081756441850931,0.002063980939496338,0.002060674702315386,0.0020457875651548585,0.002094840578843324,0.002057348481851499,0.0020581808173248655,0.002079656418542621,0.002069098924142595,0.002062369817066188,0.0020616125618370825,0.002085842928037564,0.0020449964374359853,0.0020721234075009158,0.0021114362220866043,0.6070866246207888,0.002058600934226095,0.002048827488531195,0.002068160065553665,0.0021091840919607308,0.0020526618267184002,0.002029616292962103,0.002060644602717957,0.0020550259459508483,0.0020545673142914247,0.0020511269638109324,0.0020536424948256462,0.0020651823659798303,0.002079421320867141,0.0020479493324539505,0.0020701080379328593,0.0020614286247514777,0.0020612890517309164,0.002085829508963038,0.0020747082807318633,0.002054528157462618,0.22065575229325662,0.0020722246262962745,0.0020533802605473286,0.09583980925320154]           |\n",
      "|100001  |(1000,[2,5,9,14,70,81,88,122,139,262,302,338,342,405,409,414,462,535,550,560,749,805,808,954,961,997],[1.0,2.0,3.0,2.0,1.0,2.0,3.0,1.0,1.0,1.0,1.0,1.0,1.0,2.0,1.0,1.0,1.0,1.0,1.0,1.0,1.0,1.0,2.0,1.0,1.0,1.0])                                                                                                                                                                                                                                                                                                                                                                                                                                                                                                                                  |[6.935852706969191E-4,0.6457889537592348,6.865614019442796E-4,6.816014081381809E-4,6.979445533273291E-4,6.85453194723462E-4,6.857305065227676E-4,6.928855993974907E-4,6.893681261407185E-4,6.87126168599812E-4,6.868738715190842E-4,6.949467780139975E-4,6.813378256546495E-4,6.903758026712805E-4,7.034737754206907E-4,0.10153815207260983,6.858704781778593E-4,6.826142288675837E-4,6.890553237035755E-4,7.027234262196042E-4,6.838917272511851E-4,6.762135750680677E-4,6.865513735677554E-4,6.8467938821134E-4,6.8452658447443E-4,6.833803522008874E-4,6.842184594956271E-4,6.880632342720492E-4,6.92807271173492E-4,6.823216508751225E-4,6.89704335721875E-4,6.868125886279899E-4,6.867660866504763E-4,6.94942307139187E-4,6.91237012927947E-4,6.845135384719478E-4,7.013491224512628E-4,6.904095260522519E-4,6.84131090085231E-4,0.2271988472036982]                                           |\n",
      "|10000275|(1000,[0,5,8,12,14,15,21,26,27,31,35,36,43,47,48,52,53,62,68,69,76,80,83,85,86,88,90,95,96,107,112,116,120,124,127,128,129,132,133,134,140,143,144,150,174,186,197,204,208,212,215,216,239,270,308,312,318,321,327,329,345,376,383,410,414,423,464,471,482,487,491,504,521,546,548,549,588,606,608,627,632,634,636,659,668,716,749,818,867,886,897,965,990],[7.0,1.0,5.0,2.0,3.0,4.0,2.0,1.0,3.0,3.0,8.0,2.0,1.0,2.0,5.0,1.0,5.0,1.0,2.0,3.0,2.0,1.0,1.0,1.0,3.0,1.0,6.0,1.0,2.0,5.0,1.0,1.0,3.0,9.0,1.0,7.0,6.0,1.0,1.0,2.0,4.0,1.0,2.0,4.0,8.0,1.0,1.0,2.0,3.0,1.0,2.0,1.0,1.0,1.0,1.0,1.0,1.0,1.0,2.0,1.0,5.0,1.0,1.0,1.0,2.0,1.0,1.0,1.0,6.0,2.0,1.0,1.0,1.0,1.0,1.0,1.0,1.0,1.0,1.0,1.0,1.0,1.0,1.0,1.0,1.0,1.0,2.0,1.0,1.0,2.0,1.0,1.0,1.0])|[1.2358484798092413E-4,1.2252959352746664E-4,1.2233331657057465E-4,1.2144953182713986E-4,0.29545578119984806,0.3490202580867871,1.2218526543873268E-4,1.2346017870833474E-4,1.2283342607087122E-4,1.2243394817885338E-4,1.2238899322135195E-4,1.2382744493607132E-4,1.2140256600688114E-4,1.230129765257393E-4,1.253468077639195E-4,1.2336563363337551E-4,1.2221020595642673E-4,1.2162999888888903E-4,1.2277769010980686E-4,1.2521310856950657E-4,1.2185762691128721E-4,1.2048951355822897E-4,1.2233152968806632E-4,1.2199797441307809E-4,1.2197074744129137E-4,1.2176650875967368E-4,1.2191584492205792E-4,1.2260091700524615E-4,1.2344622197934342E-4,1.2157786657257766E-4,1.2289333277842743E-4,1.223780736746146E-4,1.2236978782993965E-4,1.2382664830383713E-4,0.3509857407223644,1.2196842287025212E-4,1.249682315090127E-4,1.230189854464688E-4,1.2190027721069183E-4,1.2295594621119493E-4]|\n",
      "|1000033 |(1000,[200,443],[1.0,1.0])                                                                                                                                                                                                                                                                                                                                                                                                                                                                                                                                                                                                                                                                                                                        |[0.008345084845213091,0.008273828634672211,0.008260575004593896,0.00820089731117628,0.008397534897069701,0.00824724126803039,0.008250577830370387,0.008336666534438375,0.00829434497138235,0.008267370168587834,0.008264334578540256,0.6769558936769591,0.008197725937328374,0.008306469141977293,0.008464061435977837,0.008330282364492611,0.00825226194245727,0.008213083375784266,0.008290581392500223,0.008455033378417865,0.008228453991123402,0.008136071937856627,0.008260454345092476,0.0082379309766066,0.008236092471374362,0.008222301224675276,0.008232385170773161,0.008278644762888976,0.008335724104282113,0.008209563133538522,0.008298390180528305,0.008263597234557695,0.008263037731690178,0.00836141244720699,0.008316831058478531,0.008235935504376641,0.008438498019271058,0.00830687489522403,0.008231333958797596,0.008302618161688063]                                     |\n",
      "|10000418|(1000,[2,6,9,37,39,43,47,48,53,56,65,69,74,95,100,101,116,151,159,165,166,176,188,213,228,236,264,285,307,326,337,360,380,385,392,412,454,485,509,516,522,527,556,618,679,741,772,789,905],[2.0,2.0,1.0,3.0,7.0,1.0,1.0,1.0,1.0,1.0,1.0,1.0,3.0,2.0,1.0,3.0,1.0,1.0,1.0,1.0,1.0,1.0,1.0,2.0,1.0,1.0,1.0,6.0,2.0,2.0,1.0,5.0,7.0,3.0,1.0,1.0,1.0,1.0,2.0,1.0,1.0,1.0,1.0,1.0,1.0,1.0,1.0,1.0,2.0])                                                                                                                                                                                                                                                                                                                                                 |[2.869603732862613E-4,2.8451010355802655E-4,2.840543542510734E-4,2.820022321339681E-4,2.887639602765469E-4,2.835958503421815E-4,2.8371058388801574E-4,2.8667089491100684E-4,2.8521559376573673E-4,2.842880178785152E-4,2.8418363379263055E-4,2.8752367626348307E-4,2.818931788840485E-4,2.856325046281477E-4,2.910515919534702E-4,0.05782050117438659,0.22453339918197365,2.8242127133053214E-4,2.850861765074416E-4,0.45964867509170937,2.829498168872486E-4,2.797730980183456E-4,2.840502051625728E-4,2.832756996484583E-4,2.832124794227185E-4,2.8273824322569256E-4,2.83084997391782E-4,0.13130377788980374,0.11672996022594981,2.823002216291052E-4,2.8535469537441726E-4,2.8415827892705394E-4,2.841390394400151E-4,2.8752182650692274E-4,2.8598881729390355E-4,2.8320708183730207E-4,2.901725490513651E-4,2.85646457164917E-4,2.83048849624982E-4,2.8550008191923436E-4]                     |\n",
      "|10000455|(1000,[6,14,17,18,19,22,30,38,58,60,67,78,102,108,120,121,130,131,138,140,150,153,167,172,180,199,202,216,231,254,255,274,279,282,299,310,317,327,329,330,331,344,396,400,503,517,523,539,543,603,642,702,793,890,904,920,953,982],[1.0,2.0,1.0,1.0,1.0,2.0,3.0,1.0,5.0,1.0,1.0,1.0,1.0,1.0,1.0,1.0,1.0,2.0,1.0,4.0,2.0,1.0,1.0,1.0,1.0,1.0,1.0,1.0,2.0,1.0,1.0,1.0,1.0,2.0,2.0,2.0,1.0,1.0,1.0,1.0,1.0,1.0,2.0,1.0,1.0,1.0,2.0,1.0,1.0,1.0,1.0,3.0,1.0,1.0,1.0,1.0,1.0,1.0])                                                                                                                                                                                                                                                                     |[3.120721211286165E-4,3.094074296150442E-4,3.0891179793149506E-4,3.066800957122442E-4,3.1403353904584563E-4,3.0841317059227387E-4,3.085379444089617E-4,3.117573106565226E-4,0.1279052330022277,3.0916590933723125E-4,3.090523906561638E-4,3.12684718446241E-4,3.065614992711097E-4,3.1062805139880646E-4,0.3829659437714062,3.1151856875112865E-4,3.086009233289991E-4,3.071358048033992E-4,3.100339143982566E-4,0.2236499034107359,3.077106030973541E-4,3.042558912697426E-4,3.0890728575849253E-4,3.0806500368362773E-4,0.16157180258717982,3.0748051473853083E-4,3.0785761317509363E-4,3.09587533158161E-4,3.117220676142605E-4,3.0700416210774166E-4,3.103259312067813E-4,0.09307380194633787,3.090038938757489E-4,3.126827068184795E-4,3.1101554479419765E-4,3.07990381164743E-4,3.1556539266633474E-4,3.1064322491456005E-4,3.078183021366734E-4,3.104840404498976E-4]                        |\n",
      "|10000474|(1000,[6,15,16,22,34,36,43,45,60,62,70,74,97,102,121,126,131,143,145,149,154,166,178,180,202,210,216,231,253,311,316,321,326,406,420,427,436,449,613,619,655,661,702,763,829,884,900,972],[1.0,1.0,1.0,1.0,1.0,1.0,1.0,1.0,3.0,1.0,1.0,1.0,2.0,1.0,2.0,1.0,3.0,1.0,1.0,2.0,2.0,1.0,1.0,2.0,1.0,1.0,1.0,1.0,2.0,1.0,1.0,1.0,1.0,1.0,1.0,1.0,1.0,1.0,1.0,1.0,1.0,1.0,1.0,1.0,2.0,1.0,1.0,1.0])                                                                                                                                                                                                                                                                                                                                                      |[4.161111603120281E-4,4.1255811022355445E-4,4.1189724415777716E-4,4.08921533938726E-4,4.187264784713155E-4,4.1123238374045996E-4,4.11398754826255E-4,4.15691397885485E-4,0.07070042544826768,4.122360715785253E-4,4.120847078811683E-4,0.19317221222059533,4.0876339965056566E-4,4.141856646007495E-4,4.220436928328312E-4,4.1537306387054863E-4,4.1148272974653047E-4,4.095291679625518E-4,4.1339345337794317E-4,0.32651278506561837,4.1029559331377493E-4,4.0568914483663383E-4,4.118912277102432E-4,4.1076814446200393E-4,0.28875918843078663,4.099887977768395E-4,4.104916138163579E-4,4.127982569371783E-4,4.1564440546861827E-4,4.093536380413318E-4,4.1378282315755174E-4,0.10640533208123469,4.120200431764299E-4,4.1692530391114214E-4,4.147023410849749E-4,4.1066864418365086E-4,4.2076902358923455E-4,4.1420589668435704E-4,4.1043919720909754E-4,4.139936430807516E-4]                  |\n",
      "|10000497|(1000,[131,385,536,783],[1.0,1.0,1.0,1.0])                                                                                                                                                                                                                                                                                                                                                                                                                                                                                                                                                                                                                                                                                                        |[0.005001266160304224,0.004958561828221364,0.004950618837485939,0.004914853589540529,0.0050326998334570055,0.0049426278383885806,0.004944627462913949,0.004996221009345853,0.004970857408485079,0.004954691225528355,0.004952871975746825,0.005011083641671825,0.0049129529636030575,0.004978123506462864,0.005072569641131194,0.004992394932834516,0.004945636762752899,0.004922156781021696,0.004968601870038922,0.005067159064773318,0.004931368495436174,0.0048760033019848974,0.004950546525425299,0.004937048117354698,0.39399401057817734,0.004927681100616346,0.004933724478163383,0.004961448166649428,0.004995656204537228,0.0049200470758783395,0.0049732817298656605,0.004952430080478306,0.4172804146615221,0.005011051403335976,0.004984333473565027,0.0049358522172622925,0.005057249311465438,0.004978366677145963,0.004933094479669873,0.0049758155877584085]                      |\n",
      "|10000530|(1000,[9,12,14,26,33,35,43,48,51,53,60,67,76,82,83,84,96,97,103,118,127,129,134,148,157,164,181,197,204,207,215,223,243,271,288,289,294,321,325,434,472,481,489,492,509,539,553,573,583,617,677,719,730,762,787,798,800,828,875,885,914,915,918,937],[2.0,2.0,1.0,1.0,1.0,1.0,5.0,1.0,1.0,1.0,1.0,1.0,1.0,1.0,1.0,1.0,1.0,1.0,1.0,1.0,1.0,1.0,1.0,2.0,2.0,1.0,1.0,2.0,1.0,1.0,1.0,1.0,1.0,1.0,1.0,2.0,1.0,2.0,1.0,1.0,1.0,1.0,1.0,5.0,1.0,2.0,1.0,1.0,1.0,2.0,1.0,2.0,1.0,1.0,1.0,1.0,1.0,1.0,1.0,1.0,1.0,1.0,1.0,1.0])                                                                                                                                                                                                                           |[3.007912302600844E-4,2.9822286293610707E-4,0.37272682695374376,2.9559411764163346E-4,3.026817461646895E-4,2.9726454473204993E-4,0.22204662898239858,3.004877996657159E-4,0.2787357970101183,2.979900732167519E-4,0.11573749816733836,3.013816831981933E-4,2.954798082656331E-4,2.99399361261854E-4,3.0507963664205264E-4,3.002576878852134E-4,2.9744551051797156E-4,2.960333536030948E-4,2.988267013308992E-4,3.04754228262067E-4,2.9658737388970296E-4,2.9325754417898345E-4,2.9774079845250263E-4,2.969289634811238E-4,2.968626961799636E-4,2.963656028443796E-4,2.967290697963542E-4,2.98396456034114E-4,3.004538306011235E-4,2.9590646957308796E-4,2.991081622149253E-4,2.9785408113402713E-4,2.9783391434615424E-4,3.0137974428744727E-4,2.9977284741209337E-4,2.968570384428369E-4,3.041582258111857E-4,2.9941398628011704E-4,2.9669117978693444E-4,2.9926055607048803E-4]                   |\n",
      "|10000547|(1000,[9,48,92,94,291],[1.0,1.0,1.0,1.0,1.0])                                                                                                                                                                                                                                                                                                                                                                                                                                                                                                                                                                                                                                                                                                     |[0.004166518384588394,0.838667386048976,0.004124324469110052,0.0040945287017348465,0.004192705548576131,0.004117667226007368,0.004119333098624457,0.004162315306098407,0.004141185075093195,0.004127717145905097,0.0041262015421723724,0.004174697256757433,0.004092945304119748,0.004147238408356869,0.004225920794743794,0.004159127829644573,0.004120173938963634,0.004100612937325819,0.004139306002454021,0.004221413283017016,0.004108287149461566,0.004062162810346807,0.004124264226459407,0.004113018801083882,0.004112100875623283,0.004105215207714095,0.00411024990149916,0.004133346304302622,0.004161844771329128,0.004098855357348248,0.004143204759564803,0.004125833402445086,0.00412555405489776,0.004174670399234817,0.004152411886686061,0.004112022505433656,0.00421315753976709,0.0041474409920805215,0.0041097250543461914,0.0041453156981062994]                            |\n",
      "|10000872|(1000,[4,26,30,49,52,59,76,87,96,148,152,154,166,175,187,190,200,226,228,252,260,270,277,278,301,307,325,351,370,378,399,406,482,483,510,523,542,566,621,638,748,755,835,839,942],[1.0,2.0,1.0,1.0,1.0,2.0,1.0,1.0,1.0,7.0,1.0,1.0,1.0,1.0,1.0,1.0,1.0,1.0,1.0,1.0,1.0,1.0,2.0,1.0,1.0,3.0,1.0,1.0,1.0,1.0,2.0,1.0,1.0,1.0,1.0,1.0,1.0,1.0,1.0,1.0,1.0,1.0,1.0,1.0,1.0])                                                                                                                                                                                                                                                                                                                                                                          |[4.304619612391877E-4,4.2678637390738305E-4,4.261027159574794E-4,4.2302437973594737E-4,4.331674762349093E-4,4.254149258992314E-4,0.3179369339535168,4.3002772208720544E-4,4.278446618339289E-4,4.2645322882511676E-4,4.2629664491139555E-4,4.31306957715774E-4,4.228607917279506E-4,4.284700592204745E-4,4.3659909436031137E-4,4.296984093999516E-4,4.256739058138309E-4,4.236529697824522E-4,4.2765052629463506E-4,0.6414502881998199,4.244458275360956E-4,4.196805123152048E-4,4.260964920152923E-4,4.249346759820252E-4,4.24839840928494E-4,0.02480383436647629,4.2464860837456597E-4,4.270348027773372E-4,4.2997910900046993E-4,4.234713862025072E-4,4.280533246210532E-4,4.26258610722082E-4,4.2622975005665587E-4,4.3130418294298E-4,4.29004554792665E-4,4.248317441478211E-4,4.3528046444873096E-4,4.284909890661992E-4,4.2459438402849003E-4,4.2827141528110863E-4]                         |\n",
      "|10000898|(1000,[2,29,97,104,108,123,142,143,149,151,168,172,179,245,263,267,275,280,336,357,413,424,435,465,474,487,515,517,670,700,742,794,804,828,858,931,949],[11.0,1.0,1.0,1.0,1.0,1.0,3.0,1.0,1.0,2.0,1.0,1.0,1.0,1.0,1.0,1.0,1.0,1.0,1.0,2.0,1.0,1.0,1.0,1.0,1.0,1.0,1.0,1.0,1.0,1.0,2.0,2.0,1.0,1.0,1.0,1.0,1.0])                                                                                                                                                                                                                                                                                                                                                                                                                                   |[4.623531408840627E-4,4.5840524420450156E-4,4.5767093681176854E-4,4.5436453915325E-4,4.6525909650527435E-4,4.569321911795544E-4,4.5711705090312427E-4,4.618867307157034E-4,4.595419363883814E-4,4.5804741775518537E-4,4.5787923317480467E-4,4.632607397201153E-4,4.5418883157367543E-4,4.6021366692907225E-4,4.689449492900985E-4,0.6497513267061992,4.572103578649364E-4,4.5503969888511885E-4,4.5933341813489544E-4,4.684447565603229E-4,4.5589129625185485E-4,4.507729381666506E-4,4.576642517629651E-4,4.5641636149511397E-4,4.5631450049736207E-4,4.555504068606524E-4,4.561091002996457E-4,4.5867207816116274E-4,4.6183451608267166E-4,4.548446625147068E-4,4.597660581545296E-4,4.578383811867695E-4,4.578073823517752E-4,4.6325775937566664E-4,4.6078776110891444E-4,4.5630580385907057E-4,4.6752862744013114E-4,0.3328091663066388,4.5605085869184273E-4,4.6000030626645064E-4]            |\n",
      "|10000991|(1000,[2,29,33,53,55,64,76,117,124,129,160,188,223,260,267,297,357,394,434,463,495,563,616,617,640,663,807,812],[1.0,2.0,1.0,1.0,2.0,1.0,1.0,1.0,1.0,2.0,1.0,1.0,2.0,1.0,1.0,1.0,2.0,1.0,1.0,1.0,1.0,1.0,1.0,1.0,1.0,1.0,1.0,1.0])                                                                                                                                                                                                                                                                                                                                                                                                                                                                                                                |[0.053622469148548645,7.281240067747619E-4,7.269576439380345E-4,7.217058115439941E-4,7.390105628562512E-4,7.257842314683569E-4,0.06490829805376078,7.336539476733824E-4,7.299295115717945E-4,7.275556406155611E-4,7.272884987534361E-4,7.358364029447507E-4,7.214267202629104E-4,7.309964782763521E-4,7.448651160752602E-4,0.2336651396404399,7.262260672546448E-4,7.227782251243282E-4,7.295983043089341E-4,7.440706174538584E-4,7.241308895946109E-4,7.160009664660606E-4,7.269470255068935E-4,7.249648953429601E-4,7.248031008636105E-4,0.07965398802532965,7.244768462737156E-4,7.285478418249146E-4,7.335710107342962E-4,7.22468432282107E-4,7.302855032198754E-4,7.272236100690484E-4,7.271743719850022E-4,7.358316690103794E-4,7.319083608513827E-4,7.247892872539315E-4,7.426154517153541E-4,0.5426335161664484,7.243843361784001E-4,7.30657579403531E-4]                                   |\n",
      "|100010  |(1000,[8,9,19,22,55,60,62,116,142,166,211,285,378,395,400,426,461,494,519,523,554,613,614,624,644,673,703,748,871,878,887],[1.0,1.0,3.0,1.0,1.0,1.0,1.0,1.0,1.0,1.0,1.0,1.0,1.0,1.0,3.0,1.0,2.0,1.0,1.0,1.0,1.0,3.0,4.0,1.0,1.0,1.0,1.0,1.0,2.0,1.0,1.0])                                                                                                                                                                                                                                                                                                                                                                                                                                                                                         |[5.806533231114012E-4,5.756952961757468E-4,5.747731049109478E-4,5.706207144150693E-4,5.843028122984855E-4,5.738453398146428E-4,5.740774987496834E-4,5.800675747077614E-4,0.4543029788361555,5.752459143104149E-4,5.750346971111383E-4,5.817931451080645E-4,5.704000493412239E-4,0.2363496328599491,5.889317473672844E-4,5.796233623884051E-4,5.741946797368008E-4,5.714686241777044E-4,5.768609577219797E-4,5.883035726128423E-4,5.725381158653844E-4,5.661101469207693E-4,5.747647093893008E-4,5.731975271495073E-4,5.730696034444213E-4,5.721100046657142E-4,5.728116484381166E-4,5.760304037157498E-4,5.800020001555327E-4,5.71223684743767E-4,5.774042953634874E-4,5.749833925118813E-4,5.749444621468414E-4,5.817894021965212E-4,5.7868741677705E-4,5.730586816370898E-4,0.2880303387462599,5.779946641704084E-4,5.727385048166642E-4,5.776984794677836E-4]                                    |\n",
      "|100011  |(1000,[1,3,4,7,17,21,26,38,65,85,96,99,102,105,144,157,167,185,196,197,241,243,278,405,460,598,630,646,697,766],[5.0,2.0,1.0,1.0,3.0,1.0,1.0,1.0,1.0,1.0,1.0,1.0,2.0,1.0,1.0,1.0,1.0,1.0,1.0,1.0,1.0,1.0,1.0,1.0,1.0,1.0,1.0,1.0,1.0,1.0])                                                                                                                                                                                                                                                                                                                                                                                                                                                                                                        |[6.40220721704827E-4,0.39385530002677704,6.33737270409132E-4,6.291588992291887E-4,6.442446005120457E-4,6.32714328808891E-4,6.329703041990695E-4,6.395748832143034E-4,6.363280448482504E-4,0.14699922797720483,6.340256985305816E-4,6.414774744560359E-4,6.289155968192837E-4,6.372581906037869E-4,0.11129272677770201,6.390851005498996E-4,6.330995064151877E-4,6.300937933881785E-4,6.360393094749379E-4,6.486557862469358E-4,6.312730008651542E-4,6.241856067988188E-4,6.337280136173184E-4,6.320000590794418E-4,6.318590120836983E-4,6.308009710836762E-4,6.315745942844186E-4,0.09747228428568387,6.395025815749564E-4,6.298237263879088E-4,6.366383864165997E-4,6.339691307538105E-4,6.339262066450349E-4,0.22815054678662686,6.380531392212925E-4,6.318469698424954E-4,6.473872216052368E-4,6.372893193030486E-4,6.314939470888366E-4,6.369627499431139E-4]                                   |\n",
      "|10001198|(1000,[2,69,124,280,544,655],[1.0,1.0,1.0,1.0,1.0,1.0])                                                                                                                                                                                                                                                                                                                                                                                                                                                                                                                                                                                                                                                                                           |[0.0035705650520324187,0.003540077053430047,0.0035344062964218254,0.0035088723335616303,0.0035930065640853402,0.003528701264697196,0.0035301288610735176,0.003566963156209084,0.0035488552643424226,0.003537313705457157,0.15829060949814516,0.003577574068298813,0.0035075154154669322,0.0035540427658015614,0.003621470904384327,0.47564489330066445,0.003530849432748062,0.0035140863172679828,0.003547244962772536,0.0036176081195943227,0.003520662856988804,0.0034811358615240958,0.0035343546705118487,0.00352471772207317,0.0035239310910619858,0.003518030307019513,0.003522344868967237,0.003542137703431317,0.23493464396896144,0.0035125801307916956,0.003550586065487362,0.003535699401152107,0.0035354600097711538,0.003577551052312135,0.003558476261400186,0.0035238639304654455,0.0036105332274167733,0.0035542163731871568,0.003521895092744245,0.00355239506827759]              |\n",
      "|10001362|(1000,[13,14,19,20,53,73,115,142,164,176,181,217,244,287,365,474,505,577,671,867],[1.0,1.0,1.0,3.0,1.0,1.0,1.0,1.0,1.0,1.0,1.0,1.0,1.0,1.0,2.0,1.0,3.0,1.0,1.0,1.0])                                                                                                                                                                                                                                                                                                                                                                                                                                                                                                                                                                              |[9.604376151587035E-4,9.522367225151269E-4,9.507113593701478E-4,0.17852352641328567,9.664741029421692E-4,9.491767767525062E-4,9.495607824320282E-4,9.59468749955521E-4,9.545979521331795E-4,9.514934162601617E-4,9.511440495467043E-4,9.623229534089261E-4,9.434780466598436E-4,0.10932567887128232,0.6768832228964893,9.587339944591768E-4,9.497546072554288E-4,9.452455375648618E-4,9.541648010277017E-4,9.73091615564938E-4,9.470145450002162E-4,9.363822745597424E-4,9.50697472642099E-4,9.481052533039907E-4,9.478936593401833E-4,9.46306421782337E-4,9.474669853141982E-4,9.527910117505997E-4,9.59360285465522E-4,9.448403921253617E-4,9.550635161264789E-4,9.51059188468681E-4,9.509947951629543E-4,9.623167623946092E-4,9.571858807481049E-4,9.478755939745524E-4,9.711885575134843E-4,9.560400237712559E-4,9.473460011011478E-4,9.555501153902771E-4]                                     |\n",
      "|10001432|(1000,[55],[1.0])                                                                                                                                                                                                                                                                                                                                                                                                                                                                                                                                                                                                                                                                                                                                 |[0.012535751715608043,0.012428712640499303,0.012408803410206986,0.012319157257828735,0.012614540708139662,0.01238877384620593,0.01239378593629892,0.012523105965960908,0.012459531704401288,0.012419010914417529,0.012414450936436162,0.012560359385936345,0.012314393309241977,0.012477744292428245,0.012714475003562615,0.012513515845448681,0.012396315762103451,0.012337462821301064,0.01245387816207026,0.01270091330944623,0.012360552127303519,0.012221778405500719,0.012408622158897984,0.012374788188318279,0.012372026437473718,0.012351309614616295,0.012366457434793244,0.012435947292833668,0.012521690273889786,0.012332174812420398,0.012465608303792666,0.012413343319046305,0.012412502849576977,0.012560278580044201,0.012493309671926084,0.012371790646065067,0.5148479453605215,0.01247835380354208,0.012364878333733089,0.01247195945816198]                                   |\n",
      "|10001489|(1000,[8,15,27,33,48,51,61,64,68,74,82,117,137,140,144,146,147,158,189,202,204,207,267,271,293,294,308,364,368,379,386,404,409,410,414,417,438,482,491,522,568,628,652,691,713,718,761,809,854],[6.0,1.0,6.0,1.0,7.0,1.0,1.0,1.0,1.0,2.0,1.0,1.0,1.0,1.0,1.0,1.0,1.0,1.0,1.0,1.0,1.0,1.0,1.0,1.0,1.0,2.0,1.0,1.0,1.0,2.0,1.0,1.0,1.0,1.0,2.0,1.0,1.0,2.0,2.0,1.0,1.0,1.0,1.0,1.0,1.0,1.0,1.0,1.0,1.0])                                                                                                                                                                                                                                                                                                                                            |[3.4675096748923483E-4,3.437901635665712E-4,3.4323945507916306E-4,3.4075975615291973E-4,3.489303469159847E-4,0.18756976706140394,3.4282405728531693E-4,0.5513158630611698,3.446426485604963E-4,3.435218044779829E-4,3.433956710946294E-4,3.474316393538005E-4,3.40627980746147E-4,3.4514642628855774E-4,0.2483847455152023,3.4613590190197337E-4,3.428940347039195E-4,3.412661056713585E-4,3.444862661338577E-4,3.513194962663443E-4,3.419047781161101E-4,3.380661632975596E-4,3.4323444149336616E-4,3.422985612766331E-4,3.4222216858802206E-4,3.416491213123513E-4,3.4206812460955044E-4,3.439902810189029E-4,3.463620144666548E-4,3.4111983425205624E-4,3.448107331529329E-4,3.4336503333071594E-4,3.43341785135614E-4,3.474294041849877E-4,3.4557697967878574E-4,3.422156463705332E-4,3.5063242694490714E-4,3.4516328595307605E-4,3.4202444515316093E-4,3.449864122005238E-4]                   |\n",
      "|100018  |(1000,[5,57,92,108,116,127,136,164,189,191,228,252,263,267,272,295,328,372,438,499,605,615,683,869,996],[5.0,2.0,1.0,1.0,1.0,4.0,1.0,1.0,1.0,1.0,1.0,1.0,1.0,1.0,1.0,1.0,1.0,1.0,1.0,1.0,1.0,4.0,1.0,2.0,1.0])                                                                                                                                                                                                                                                                                                                                                                                                                                                                                                                                    |[6.570724713848333E-4,0.23963927711987945,6.504183641034859E-4,6.457194820396382E-4,6.612022658491105E-4,6.493684968583852E-4,6.496312099767459E-4,6.564096332749486E-4,6.530773323402202E-4,6.509533994304812E-4,6.507143841668056E-4,6.583623041068318E-4,6.454697754769633E-4,6.540319611887069E-4,6.664404099954966E-4,6.559069586584752E-4,6.497638130253119E-4,6.466789842780145E-4,6.527809969376209E-4,6.657295618492205E-4,0.3787741890630004,6.40615283694666E-4,6.504088636564247E-4,6.486354262774847E-4,6.484906666735972E-4,6.474047761499982E-4,6.481987624912695E-4,6.518411346277527E-4,6.563354285276789E-4,6.464018086332865E-4,6.533958426513917E-4,6.506563274253982E-4,6.506122734776284E-4,6.583580685947972E-4,6.548478342696928E-4,6.484783074591577E-4,6.64427606326736E-4,6.540639092507759E-4,6.481159925178605E-4,0.35744551369947347]                                 |\n",
      "+--------+--------------------------------------------------------------------------------------------------------------------------------------------------------------------------------------------------------------------------------------------------------------------------------------------------------------------------------------------------------------------------------------------------------------------------------------------------------------------------------------------------------------------------------------------------------------------------------------------------------------------------------------------------------------------------------------------------------------------------------------------------+----------------------------------------------------------------------------------------------------------------------------------------------------------------------------------------------------------------------------------------------------------------------------------------------------------------------------------------------------------------------------------------------------------------------------------------------------------------------------------------------------------------------------------------------------------------------------------------------------------------------------------------------------------------------------------------------------------------------------------------------------------------------------------------------------------------------------------------------------------------------------------------------------+\n",
      "only showing top 20 rows\n",
      "\n"
     ]
    }
   ],
   "source": [
    "# Showing topics and transformed finalModel.\n",
    "topics.show(5, truncate=False)\n",
    "transformed.show(truncate=False)"
   ]
  },
  {
   "cell_type": "code",
   "execution_count": 50,
   "metadata": {},
   "outputs": [],
   "source": [
    "lda = transformed.select(\"paper_id\", \"topicDistribution\")"
   ]
  },
  {
   "cell_type": "code",
   "execution_count": 51,
   "metadata": {},
   "outputs": [
    {
     "name": "stdout",
     "output_type": "stream",
     "text": [
      "root\n",
      " |-- paper_id: string (nullable = false)\n",
      " |-- topicDistribution: vector (nullable = true)\n",
      "\n"
     ]
    }
   ],
   "source": [
    "lda.printSchema()"
   ]
  },
  {
   "cell_type": "code",
   "execution_count": 52,
   "metadata": {
    "collapsed": true
   },
   "outputs": [
    {
     "name": "stdout",
     "output_type": "stream",
     "text": [
      "+--------+-----------------------------------------------------------------------------------------------------------------------------------------------------------------------------------------------------------------------------------------------------------------------------------------------------------------------------------------------------------------------------------------------------------------------------------------------------------------------------------------------------------------------------------------------------------------------------------------------------------------------------------------------------------------------------------------------------------------------------------------------------------------------------------------------------------------------------------------------------------------------------------------+\n",
      "|paper_id|topicDistribution                                                                                                                                                                                                                                                                                                                                                                                                                                                                                                                                                                                                                                                                                                                                                                                                                                                                        |\n",
      "+--------+-----------------------------------------------------------------------------------------------------------------------------------------------------------------------------------------------------------------------------------------------------------------------------------------------------------------------------------------------------------------------------------------------------------------------------------------------------------------------------------------------------------------------------------------------------------------------------------------------------------------------------------------------------------------------------------------------------------------------------------------------------------------------------------------------------------------------------------------------------------------------------------------+\n",
      "|100     |[0.002081756441850931,0.002063980939496338,0.002060674702315386,0.0020457875651548585,0.002094840578843324,0.002057348481851499,0.0020581808173248655,0.002079656418542621,0.002069098924142595,0.002062369817066188,0.0020616125618370825,0.002085842928037564,0.0020449964374359853,0.0020721234075009158,0.0021114362220866043,0.6070866246207888,0.002058600934226095,0.002048827488531195,0.002068160065553665,0.0021091840919607308,0.0020526618267184002,0.002029616292962103,0.002060644602717957,0.0020550259459508483,0.0020545673142914247,0.0020511269638109324,0.0020536424948256462,0.0020651823659798303,0.002079421320867141,0.0020479493324539505,0.0020701080379328593,0.0020614286247514777,0.0020612890517309164,0.002085829508963038,0.0020747082807318633,0.002054528157462618,0.22065575229325662,0.0020722246262962745,0.0020533802605473286,0.09583980925320154]|\n",
      "|100001  |[6.935852706969191E-4,0.6457889537592348,6.865614019442796E-4,6.816014081381809E-4,6.979445533273291E-4,6.85453194723462E-4,6.857305065227676E-4,6.928855993974907E-4,6.893681261407185E-4,6.87126168599812E-4,6.868738715190842E-4,6.949467780139975E-4,6.813378256546495E-4,6.903758026712805E-4,7.034737754206907E-4,0.10153815207260983,6.858704781778593E-4,6.826142288675837E-4,6.890553237035755E-4,7.027234262196042E-4,6.838917272511851E-4,6.762135750680677E-4,6.865513735677554E-4,6.8467938821134E-4,6.8452658447443E-4,6.833803522008874E-4,6.842184594956271E-4,6.880632342720492E-4,6.92807271173492E-4,6.823216508751225E-4,6.89704335721875E-4,6.868125886279899E-4,6.867660866504763E-4,6.94942307139187E-4,6.91237012927947E-4,6.845135384719478E-4,7.013491224512628E-4,6.904095260522519E-4,6.84131090085231E-4,0.2271988472036982]                                |\n",
      "+--------+-----------------------------------------------------------------------------------------------------------------------------------------------------------------------------------------------------------------------------------------------------------------------------------------------------------------------------------------------------------------------------------------------------------------------------------------------------------------------------------------------------------------------------------------------------------------------------------------------------------------------------------------------------------------------------------------------------------------------------------------------------------------------------------------------------------------------------------------------------------------------------------------+\n",
      "only showing top 2 rows\n",
      "\n"
     ]
    }
   ],
   "source": [
    "lda.show(2,False)"
   ]
  },
  {
   "cell_type": "code",
   "execution_count": 53,
   "metadata": {},
   "outputs": [
    {
     "data": {
      "text/plain": [
       "166796"
      ]
     },
     "execution_count": 53,
     "metadata": {},
     "output_type": "execute_result"
    }
   ],
   "source": [
    "lda.count()"
   ]
  },
  {
   "cell_type": "code",
   "execution_count": 54,
   "metadata": {},
   "outputs": [
    {
     "data": {
      "text/plain": [
       "20000"
      ]
     },
     "execution_count": 54,
     "metadata": {},
     "output_type": "execute_result"
    }
   ],
   "source": [
    "# Taking subset of lda of 20000 \n",
    "lda = lda.select('*').limit(20000)\n",
    "lda.count()"
   ]
  },
  {
   "cell_type": "markdown",
   "metadata": {},
   "source": [
    "\n",
    "# User Profiling"
   ]
  },
  {
   "cell_type": "code",
   "execution_count": 55,
   "metadata": {
    "collapsed": true
   },
   "outputs": [
    {
     "name": "stdout",
     "output_type": "stream",
     "text": [
      "root\n",
      " |-- User: string (nullable = true)\n",
      " |-- Papers_ID: string (nullable = true)\n",
      "\n",
      "+--------------------------------+-----------------------------------------------------------------------------------------------------------------------------------------------------------------------------------------------------------------------------------------------------------------------------------------------------------------------------------------------------------------------------------------------------------------------------------------------------------------------------------------------------------------------------------------------------------------------------------------------------------------------------------------------------------------------------------------------------------------------------------------------------------------------------------------------------------------------------------------------------------------------------------------------------------------------------------------------------------------------------------------------------------------------------------------------------------------------------------------------------------------------------------------------------------------------------------------------------------------------------------------------------------------------------------------------------------------------------------------------------------------------+\n",
      "|User                            |Papers_ID                                                                                                                                                                                                                                                                                                                                                                                                                                                                                                                                                                                                                                                                                                                                                                                                                                                                                                                                                                                                                                                                                                                                                                                                                                                                                                                                                              |\n",
      "+--------------------------------+-----------------------------------------------------------------------------------------------------------------------------------------------------------------------------------------------------------------------------------------------------------------------------------------------------------------------------------------------------------------------------------------------------------------------------------------------------------------------------------------------------------------------------------------------------------------------------------------------------------------------------------------------------------------------------------------------------------------------------------------------------------------------------------------------------------------------------------------------------------------------------------------------------------------------------------------------------------------------------------------------------------------------------------------------------------------------------------------------------------------------------------------------------------------------------------------------------------------------------------------------------------------------------------------------------------------------------------------------------------------------+\n",
      "|f05bcffe7951de9e5a32fff4a42eb088|1158654,478707,12054725,6670515,781057,13329754,781055,2825,553840,988447,12938139,12037219,12788583,6595566,4027225,920055,3129258,2242776,3112352,144287,706033,525396,622633,9172127,7357993,230211,12790816,503161,12937120,942241,166220,8493138,2945819,227173,11191048,949352,227096,11597926,921623,833638,882809,12738996,99,7154210,11852474,72879,10723139,11923443,2862386,802634,1959297,4488840,12735311,5102465,5177766,129,1467354,9396734,494336,1218954,2783692,3733678,8423325,1160828,507529,7804574,5201306,407124,504896,3281478,13687046,6486855,13207613,11847579,556147,10362464,6531882,714977,9946377,742892,3044720,1119267,7538620,1426283,2705980,9001253,2121165,12901647,10462916,261290,921399,6196237,5664256,213068,1769635,1055600,876703,7623038,1405472,1320137,4492925,1825619,13408130,1320157,682116,405672,1814546,12732269,12394780,1835552,9445526,80543,5413529,1153421,12925513,1784935,10802130,6305290,3856997,2097471,3748163,12796779,878326,10098153,3459771,827938,4448813,239,9478785,579614,7355647,423698,556149,13329593,9081047,151946,1453872,671699,3578102,137486,703464,9069826,622635,6792520,247,12716731,10045309,255030,968854,3726797,8217163,2945839,11839662,10685085,2308256,9983047,10138849,11536389,945310,1036492,6982661,1649749,1325105,6475030,488726,100186,3317637,336911,1321106,3956160|\n",
      "|28d3f81251d94b09735497477a5e4e02|3929762,503574,5819422,4238883,5788061,462949,635215,635216,4810441,3481823,4165233,3366480,5984302,4238942,5490453,4636156,5996865,4194836,5828780,4450195                                                                                                                                                                                                                                                                                                                                                                                                                                                                                                                                                                                                                                                                                                                                                                                                                                                                                                                                                                                                                                                                                                                                                                                                            |\n",
      "+--------------------------------+-----------------------------------------------------------------------------------------------------------------------------------------------------------------------------------------------------------------------------------------------------------------------------------------------------------------------------------------------------------------------------------------------------------------------------------------------------------------------------------------------------------------------------------------------------------------------------------------------------------------------------------------------------------------------------------------------------------------------------------------------------------------------------------------------------------------------------------------------------------------------------------------------------------------------------------------------------------------------------------------------------------------------------------------------------------------------------------------------------------------------------------------------------------------------------------------------------------------------------------------------------------------------------------------------------------------------------------------------------------------------+\n",
      "only showing top 2 rows\n",
      "\n"
     ]
    }
   ],
   "source": [
    "# Creating Users DataFrame from user_libraries.txt\n",
    "# with two columns user_hash and Papers\n",
    "# Using the same Dataframes as created in previous exercise.\n",
    "# Using two columns as StringType (Later will assign second column (Papers_ID) to array.)\n",
    "schema = StructType([\n",
    "    StructField(\"User\", StringType(), False),\n",
    "    StructField(\"Papers_ID\", StringType(), True)\n",
    "])\n",
    "\n",
    "# Creating DataFrame df for users_libraries\n",
    "userDF = sqlC.read.schema(schema)\\\n",
    "        .option(\"header\", 'False').option(\"delimiter\", \";\").csv(\"users_libraries.txt\")\n",
    "\n",
    "userDF.printSchema()\n",
    "userDF.show(2, False)\n"
   ]
  },
  {
   "cell_type": "code",
   "execution_count": 56,
   "metadata": {},
   "outputs": [
    {
     "name": "stdout",
     "output_type": "stream",
     "text": [
      "root\n",
      " |-- User: string (nullable = true)\n",
      " |-- PapersID: array (nullable = true)\n",
      " |    |-- element: string (containsNull = true)\n",
      "\n",
      "+--------------------+--------------------+\n",
      "|                User|            PapersID|\n",
      "+--------------------+--------------------+\n",
      "|f05bcffe7951de9e5...|[1158654, 478707,...|\n",
      "|28d3f81251d94b097...|[3929762, 503574,...|\n",
      "+--------------------+--------------------+\n",
      "only showing top 2 rows\n",
      "\n"
     ]
    }
   ],
   "source": [
    "#Type casting from str to array so i can apply explode function on papers_id column.\n",
    "def str_to_arr(my_list):\n",
    "    my_list = my_list.split(\",\")\n",
    "    return [x for x in my_list]\n",
    "\n",
    "# String to array udf\n",
    "str_to_arr_udf = udf(str_to_arr,ArrayType(StringType()))\n",
    "\n",
    "# Converting from string to array\n",
    "userDF = userDF.withColumn('PapersID',str_to_arr_udf(userDF[\"Papers_ID\"]))\n",
    "userDF = userDF.drop(\"Papers_ID\")\n",
    "userDF.printSchema()\n",
    "userDF.show(2)"
   ]
  },
  {
   "cell_type": "code",
   "execution_count": 57,
   "metadata": {},
   "outputs": [],
   "source": [
    "# Exploding PapersID column.\n",
    "exploded_UserDF = userDF.select(\"User\", sf.explode(\"PapersID\")).withColumnRenamed(\"col\", \"paper_id\")"
   ]
  },
  {
   "cell_type": "code",
   "execution_count": 58,
   "metadata": {},
   "outputs": [
    {
     "name": "stdout",
     "output_type": "stream",
     "text": [
      "+--------------------------------+--------+\n",
      "|User                            |paper_id|\n",
      "+--------------------------------+--------+\n",
      "|f05bcffe7951de9e5a32fff4a42eb088|1158654 |\n",
      "|f05bcffe7951de9e5a32fff4a42eb088|478707  |\n",
      "+--------------------------------+--------+\n",
      "only showing top 2 rows\n",
      "\n"
     ]
    }
   ],
   "source": [
    "exploded_UserDF.show(2,False)"
   ]
  },
  {
   "cell_type": "code",
   "execution_count": 59,
   "metadata": {},
   "outputs": [],
   "source": [
    "# Creating function to convert from dense to sparse vector after summation of vectors\n",
    "import scipy.sparse\n",
    "from pyspark.ml.linalg import Vectors, _convert_to_vector, VectorUDT\n",
    "from pyspark.ml.linalg import DenseVector\n",
    "\n",
    "#Convert Dense to sparse vector\n",
    "def dense_to_sparse(vector):\n",
    "    return _convert_to_vector(scipy.sparse.csc_matrix(vector.toArray()).T)"
   ]
  },
  {
   "cell_type": "markdown",
   "metadata": {},
   "source": [
    "# User Profiling using TF-IDF"
   ]
  },
  {
   "cell_type": "code",
   "execution_count": 60,
   "metadata": {},
   "outputs": [],
   "source": [
    "# Requires 2 DFs, 1: paper_id|User_hash, 2: paper_id|ptf_idf\n",
    "# Performs join on paper_id column of both dfs and then sum respective vectors for users.\n",
    "def idf_user_profile(df1, df2, column1):\n",
    "    joined = df1.join(df2, column1)\n",
    "    # Adding the sparseVector for each user's paper\n",
    "    #Dropping \"paper_id\"\n",
    "    joined = joined.drop(\"paper_id\")\n",
    "    # converting to rdd then to array so  can add and convert back to DF.\n",
    "    summed = joined.rdd.mapValues(lambda v: v.toArray()).reduceByKey(lambda x, y: x+y)\\\n",
    "                .mapValues(lambda x: DenseVector(x)).toDF([\"User\", \"sum_idf\"])\n",
    "    to_sparse = udf(dense_to_sparse, VectorUDT())\n",
    "    summed = summed.withColumn(\"TF_IDF_summed\", to_sparse(col(\"sum_idf\")))\n",
    "    summed = summed.drop(\"sum_idf\")\n",
    "    \n",
    "    return summed"
   ]
  },
  {
   "cell_type": "code",
   "execution_count": 61,
   "metadata": {},
   "outputs": [],
   "source": [
    "user_profile_idf = idf_user_profile(exploded_UserDF, tf_idf, \"paper_id\")"
   ]
  },
  {
   "cell_type": "code",
   "execution_count": null,
   "metadata": {
    "scrolled": false
   },
   "outputs": [],
   "source": [
    "user_profile_idf.show(2,False)"
   ]
  },
  {
   "cell_type": "markdown",
   "metadata": {},
   "source": [
    "# User Profiling using LDA"
   ]
  },
  {
   "cell_type": "code",
   "execution_count": 64,
   "metadata": {},
   "outputs": [],
   "source": [
    "def lda_user_profile(df1, df2, column1):\n",
    "    joined = df1.join(df2, column1)\n",
    "    # Adding the sparseVector for each user's paper\n",
    "    #Dropping \"paper_id\"\n",
    "    joined = joined.drop(\"paper_id\")\n",
    "    # converting to rdd then to array so  can add and convert back to DF.\n",
    "    summed = joined.rdd.mapValues(lambda v: v.toArray()).reduceByKey(lambda x, y: x+y)\\\n",
    "                .mapValues(lambda x: DenseVector(x)).toDF([\"User\", \"sum_lda\"])\n",
    "    to_sparse = udf(dense_to_sparse, VectorUDT())\n",
    "    summed = summed.withColumn(\"LDA_summed\", to_sparse(col(\"sum_lda\")))\n",
    "    summed = summed.drop(\"sum_lda\")\n",
    "\n",
    "    return summed\n"
   ]
  },
  {
   "cell_type": "code",
   "execution_count": 65,
   "metadata": {},
   "outputs": [],
   "source": [
    "user_profile_lda = lda_user_profile(exploded_UserDF, lda, \"paper_id\")"
   ]
  },
  {
   "cell_type": "code",
   "execution_count": null,
   "metadata": {
    "scrolled": false
   },
   "outputs": [],
   "source": [
    "user_profile_lda.show(5, False)"
   ]
  },
  {
   "cell_type": "markdown",
   "metadata": {},
   "source": [
    "# Exercise 4.2 Cosine Similarity"
   ]
  },
  {
   "cell_type": "code",
   "execution_count": 67,
   "metadata": {},
   "outputs": [],
   "source": [
    "# Functon for Cosne Smlarty.\n",
    "def CosineSim(x , y):\n",
    "    similarity = x.dot(y)/(x.norm(2)*y.norm(2))\n",
    "    return similarity"
   ]
  },
  {
   "cell_type": "markdown",
   "metadata": {},
   "source": [
    "# Content-Based Recommendations Systems "
   ]
  },
  {
   "cell_type": "markdown",
   "metadata": {},
   "source": [
    "### CBRS TF-IDF "
   ]
  },
  {
   "cell_type": "code",
   "execution_count": 68,
   "metadata": {},
   "outputs": [],
   "source": [
    "# Collecting Papers as list\n",
    "# filter out rated papers instead of list.\n",
    "all_pap_vecs = tf_idf.select('*').rdd.map(lambda x: (x[0], x[1])).collect()\n",
    "\n",
    "# Collecting Users vectors from user profile of tf-idf\n",
    "all_userss_vecs = user_profile_idf.select('*').rdd.map(lambda x: (x[0], x[1])).collect()\n",
    "\n",
    "#All users vector which contains library of every user.\n",
    "all_users_paper_vec = userDF.select('*').rdd.map(lambda x: (x[0], x[1])).collect()"
   ]
  },
  {
   "cell_type": "code",
   "execution_count": 204,
   "metadata": {},
   "outputs": [],
   "source": [
    "# Taking Small set of users from big vector so i can compute easily.\n",
    "small_user_vecs = all_userss_vecs[100:120]"
   ]
  },
  {
   "cell_type": "code",
   "execution_count": 71,
   "metadata": {},
   "outputs": [],
   "source": [
    "def get_SimilarPaper_idf(user_profiles, k):\n",
    "    schema = StructType([\n",
    "                        StructField(\"User\", StringType(), True)\n",
    "                        ,StructField(\"paper_id\", StringType(), True)\n",
    "                        ,StructField(\"Cosine Similarity\", IntegerType(), True)\n",
    "\n",
    "                    ])\n",
    "  \n",
    "    user_paper_similarity = sqlC.createDataFrame([], schema)\n",
    "\n",
    "    for user_vec in user_profiles:\n",
    "        #print(user_vec[1])\n",
    "        #Getting Papers for a user\n",
    "        papers_of_user = [item[1] for item in all_users_paper_vec if item[0] == user_vec[0]]\n",
    "        # In Case if list is empty for user. To get rid of List index out of range\n",
    "        if not papers_of_user:\n",
    "            #print(papers_of_user)\n",
    "            continue\n",
    "        papers_of_user = papers_of_user[0]\n",
    "\n",
    "\n",
    "        #print(papers_of_user)\n",
    "        # Removed Papers which are in user library\n",
    "        removed = [item for item in all_pap_vecs if item[0] not in papers_of_user]\n",
    "        #print(removed)\n",
    "\n",
    "        sim_rdd = sc.parallelize((user_vec[0], i[0], float(CosineSim(user_vec[1], i[1]))) for i in all_pap_vecs)\n",
    "\n",
    "        tempDF = sqlC.createDataFrame(sim_rdd) \\\n",
    "                .withColumnRenamed('_1', 'User') \\\n",
    "                .withColumnRenamed('_2', 'paper_id') \\\n",
    "                .withColumnRenamed('_3', 'Cosine Similarity')\\\n",
    "                .orderBy(\"Cosine Similarity\", ascending = False)\n",
    "\n",
    "        tempDF = tempDF.select(\"*\").limit(k)\n",
    "        #total += tdf.count()\n",
    "        user_paper_similarity = user_paper_similarity.union(tempDF)\n",
    "    return user_paper_similarity"
   ]
  },
  {
   "cell_type": "code",
   "execution_count": 205,
   "metadata": {},
   "outputs": [],
   "source": [
    "user_similarity_df = get_SimilarPaper_idf(small_user_vecs, 10)"
   ]
  },
  {
   "cell_type": "code",
   "execution_count": 206,
   "metadata": {},
   "outputs": [
    {
     "name": "stdout",
     "output_type": "stream",
     "text": [
      "+--------------------------------+--------+-------------------+\n",
      "|User                            |paper_id|Cosine Similarity  |\n",
      "+--------------------------------+--------+-------------------+\n",
      "|306726df6d202f66d0c6895c83e9660f|1084904 |0.9918598292575735 |\n",
      "|306726df6d202f66d0c6895c83e9660f|1104951 |0.40213849515053124|\n",
      "|306726df6d202f66d0c6895c83e9660f|1216168 |0.3983613821016407 |\n",
      "|306726df6d202f66d0c6895c83e9660f|1118739 |0.38211302015569776|\n",
      "|306726df6d202f66d0c6895c83e9660f|100333  |0.38211302015569776|\n",
      "+--------------------------------+--------+-------------------+\n",
      "only showing top 5 rows\n",
      "\n"
     ]
    }
   ],
   "source": [
    "user_similarity_df.show(5,False)"
   ]
  },
  {
   "cell_type": "code",
   "execution_count": 294,
   "metadata": {},
   "outputs": [
    {
     "name": "stdout",
     "output_type": "stream",
     "text": [
      "+--------------------+--------+-------------------+\n",
      "|                User|paper_id|  Cosine Similarity|\n",
      "+--------------------+--------+-------------------+\n",
      "|306726df6d202f66d...| 1084904| 0.9918598292575735|\n",
      "|306726df6d202f66d...| 1104951|0.40213849515053124|\n",
      "|306726df6d202f66d...| 1216168| 0.3983613821016407|\n",
      "|306726df6d202f66d...| 1118739|0.38211302015569776|\n",
      "|306726df6d202f66d...|  100333|0.38211302015569776|\n",
      "|306726df6d202f66d...|  122336|0.38211302015569776|\n",
      "|306726df6d202f66d...| 1136810| 0.3787940258743861|\n",
      "|306726df6d202f66d...| 1110399| 0.3787940258743861|\n",
      "|306726df6d202f66d...|   12395| 0.3616762586391641|\n",
      "|306726df6d202f66d...| 1123054|0.36094365596631467|\n",
      "+--------------------+--------+-------------------+\n",
      "\n"
     ]
    }
   ],
   "source": [
    "# Give user hash to filter the recommendation for that user only\n",
    "user_hash_id = '306726df6d202f66d0c6895c83e9660f'\n",
    "user_similarity_df.filter(user_similarity_df.User == user_hash_id).show()\n"
   ]
  },
  {
   "cell_type": "markdown",
   "metadata": {},
   "source": [
    "### CBRS LDA"
   ]
  },
  {
   "cell_type": "code",
   "execution_count": 75,
   "metadata": {},
   "outputs": [],
   "source": [
    "# Creating a list of all selected lda vectors for papers\n",
    "all_ldaa_vecs = lda.select('*').rdd.map(lambda x: (x[0], x[1])).collect()\n",
    "\n",
    "#Creating a list of all users in lda user profile\n",
    "all_users_vecs = user_profile_lda.select('*').rdd.map(lambda x: (x[0], x[1])).collect()\n",
    "\n",
    "# Selecting the list of users against their papers.\n",
    "all_users_paper_vec = userDF.select('*').rdd.map(lambda x: (x[0], x[1])).collect()"
   ]
  },
  {
   "cell_type": "code",
   "execution_count": null,
   "metadata": {
    "scrolled": false
   },
   "outputs": [],
   "source": [
    "# Taking Small set of users from big vector so i can compute easily.\n",
    "small_user_vecs_lda = all_users_vecs[100:120]\n",
    "small_user_vecs_lda"
   ]
  },
  {
   "cell_type": "code",
   "execution_count": 183,
   "metadata": {},
   "outputs": [],
   "source": [
    "def get_lda_SimilarPaper(user_profiles, k):\n",
    "    schema = StructType([\n",
    "                        StructField(\"User\", StringType(), True)\n",
    "                        ,StructField(\"paper_id\", StringType(), True)\n",
    "                        ,StructField(\"Cosine Similarity\", IntegerType(), True)\n",
    "\n",
    "                    ])\n",
    "  \n",
    "    user_paper_lda_similarity = sqlC.createDataFrame([], schema)\n",
    "\n",
    "    for user_vec in user_profiles:\n",
    "        #print(user_vec[1])\n",
    "        #Getting Papers for a user\n",
    "        papers_of_user = [item[1] for item in all_users_paper_vec if item[0] == user_vec[0]]\n",
    "        # In Case if list is empty for user. To get rid of List index out of range\n",
    "        if not papers_of_user:\n",
    "            print(papers_of_user)\n",
    "            continue\n",
    "        papers_of_user = papers_of_user[0]\n",
    "\n",
    "\n",
    "        #print(papers_of_user)\n",
    "        # Removed Papers which are in user library\n",
    "        removed = [item for item in all_ldaa_vecs if item[0] not in papers_of_user]\n",
    "        #print(removed)\n",
    "\n",
    "        sim_rdd = sc.parallelize((user_vec[0], i[0], float(CosineSim(user_vec[1], i[1]))) for i in all_ldaa_vecs)\n",
    "\n",
    "        tempDF = sqlC.createDataFrame(sim_rdd) \\\n",
    "                .withColumnRenamed('_1', 'User') \\\n",
    "                .withColumnRenamed('_2', 'paper_id') \\\n",
    "                .withColumnRenamed('_3', 'Cosine Similarity')\\\n",
    "                .orderBy(\"Cosine Similarity\", ascending = False)\n",
    "\n",
    "        tempDF = tempDF.select(\"*\").limit(k)\n",
    "        #total += tdf.count()\n",
    "        user_paper_lda_similarity = user_paper_lda_similarity.union(tempDF)\n",
    "    return user_paper_lda_similarity"
   ]
  },
  {
   "cell_type": "code",
   "execution_count": 195,
   "metadata": {},
   "outputs": [],
   "source": [
    "user_paper_lda_similarity = get_lda_SimilarPaper(small_user_vecs_lda, 10)"
   ]
  },
  {
   "cell_type": "code",
   "execution_count": 197,
   "metadata": {},
   "outputs": [
    {
     "name": "stdout",
     "output_type": "stream",
     "text": [
      "+--------------------+--------+------------------+\n",
      "|                User|paper_id| Cosine Similarity|\n",
      "+--------------------+--------+------------------+\n",
      "|306726df6d202f66d...|11683049|0.8870038555652144|\n",
      "|306726df6d202f66d...|10610384|0.8842058365798049|\n",
      "|306726df6d202f66d...|10430837|0.8833521263517805|\n",
      "|306726df6d202f66d...| 1135017|0.8809248162669576|\n",
      "|306726df6d202f66d...|10235078|0.8763203715772356|\n",
      "+--------------------+--------+------------------+\n",
      "only showing top 5 rows\n",
      "\n"
     ]
    }
   ],
   "source": [
    "user_paper_lda_similarity.show(5)"
   ]
  },
  {
   "cell_type": "code",
   "execution_count": 296,
   "metadata": {},
   "outputs": [
    {
     "name": "stdout",
     "output_type": "stream",
     "text": [
      "+--------------------+--------+------------------+\n",
      "|                User|paper_id| Cosine Similarity|\n",
      "+--------------------+--------+------------------+\n",
      "|306726df6d202f66d...|11683049|0.8870038555652144|\n",
      "|306726df6d202f66d...|10610384|0.8842058365798049|\n",
      "|306726df6d202f66d...|10430837|0.8833521263517805|\n",
      "|306726df6d202f66d...| 1135017|0.8809248162669576|\n",
      "|306726df6d202f66d...|10235078|0.8763203715772356|\n",
      "|306726df6d202f66d...| 1056526|0.8743865314270477|\n",
      "|306726df6d202f66d...|  122285|0.8554939098164116|\n",
      "|306726df6d202f66d...| 1023689|0.8507553315403571|\n",
      "|306726df6d202f66d...| 1079299| 0.847201626968957|\n",
      "|306726df6d202f66d...|12389684|0.8356212706363085|\n",
      "+--------------------+--------+------------------+\n",
      "\n"
     ]
    }
   ],
   "source": [
    "# Give user hash to filter the recommendation for that user only\n",
    "user_hash_id = '306726df6d202f66d0c6895c83e9660f'\n",
    "user_paper_lda_similarity.filter(user_paper_lda_similarity.User == user_hash_id).show()"
   ]
  },
  {
   "cell_type": "markdown",
   "metadata": {},
   "source": [
    "# Exercise 4.4 Offline Evaluation Metrics "
   ]
  },
  {
   "cell_type": "code",
   "execution_count": 83,
   "metadata": {},
   "outputs": [],
   "source": [
    "def precision_recall(actual, predicted, k):\n",
    "    act_set = set(actual)\n",
    "    pred_set = set(predicted[:k])\n",
    "    #print((act_set & pred_set))\n",
    "    precision = len(act_set & pred_set) / float(k)\n",
    "    recall = len(act_set & pred_set) / float(len(act_set))\n",
    "    return [precision,recall]\n",
    "\n",
    "def recall(actual, predicted, k):\n",
    "    act_set = set(actual)\n",
    "    pred_set = set(predicted[:k])\n",
    "    recall = len(act_set & pred_set) / float(len(act_set))\n",
    "    return recall\n"
   ]
  },
  {
   "cell_type": "code",
   "execution_count": 84,
   "metadata": {},
   "outputs": [],
   "source": [
    "returnType = StructType([\n",
    "    StructField(\"Precision\", FloatType(), False),\n",
    "    StructField(\"Recall\", FloatType(), False)\n",
    "])"
   ]
  },
  {
   "cell_type": "code",
   "execution_count": 85,
   "metadata": {},
   "outputs": [],
   "source": [
    "# start with pos = 0\n",
    "def mrr(test, rec):\n",
    "    pos = 1\n",
    "    count = 0 # to check if there is actually a hit\n",
    "    for i, val in enumerate(rec):\n",
    "       # print(i, val)\n",
    "        if val in test:\n",
    "            #print(i, val)\n",
    "            # Zero Division\n",
    "            pos += i\n",
    "            count += 1\n",
    "            break\n",
    "    if count > 0:\n",
    "        return (1/pos)\n",
    "    else:\n",
    "        return 0"
   ]
  },
  {
   "cell_type": "code",
   "execution_count": 86,
   "metadata": {},
   "outputs": [],
   "source": [
    "# Creating UDF for precision and recall\n",
    "#pre_udf = udf(precision_recall, FloatType())\n",
    "#recall_udf = udf(recall, FloatType())\n",
    "#  returns precision and recall in same udf as array, rename it later.\n",
    "precision_recall_udf = udf(precision_recall, returnType)\n",
    "mrr_udf = udf(mrr)"
   ]
  },
  {
   "cell_type": "markdown",
   "metadata": {},
   "source": [
    "# Offline Evaluation of TF-IDF"
   ]
  },
  {
   "cell_type": "code",
   "execution_count": 207,
   "metadata": {},
   "outputs": [],
   "source": [
    "# Creating DF as user_hash, test_set, Recommendations\n",
    "metrics_df = user_similarity_df.select('User', 'paper_id').withColumnRenamed('User', 'user_hash')\n",
    "\n",
    "metrics_df.show(2,False)\n",
    "\n",
    "# Grouping on user_hash and collecting recommended papers as list \n",
    "grouped_metrics_df = metrics_df.groupBy('user_hash').agg(sf.collect_list('paper_id'))\\\n",
    "                    .withColumnRenamed('collect_list(paper_id)','top_k')\n",
    "\n",
    "grouped_metrics_df.show(2,False)\n",
    "\n",
    "#grouped_metrics_df.printSchema()\n",
    "\n",
    "# Creating a df by joining grouped_metrics_df with userDf to get top_k and test set of user.\n",
    "user_test_topk = grouped_metrics_df.join(userDF, grouped_metrics_df.user_hash == userDF.User).drop('User')\\\n",
    "                .withColumnRenamed('PapersID', 'test')\n",
    "\n",
    "#user_test_topk.printSchema()\n",
    "# Computing Precion and Recall using one udf, which returns array containing precision and recall\n",
    "with_precision_recall = user_test_topk.withColumn('result', precision_recall_udf(user_test_topk.test, user_test_topk.top_k, lit(10)))\\\n",
    "        .select('user_hash', 'test', 'top_k', 'result.precision', 'result.recall')"
   ]
  },
  {
   "cell_type": "code",
   "execution_count": 97,
   "metadata": {
    "collapsed": true
   },
   "outputs": [
    {
     "name": "stdout",
     "output_type": "stream",
     "text": [
      "root\n",
      " |-- user_hash: string (nullable = true)\n",
      " |-- test: array (nullable = true)\n",
      " |    |-- element: string (containsNull = true)\n",
      " |-- top_k: array (nullable = true)\n",
      " |    |-- element: string (containsNull = false)\n",
      " |-- precision: float (nullable = true)\n",
      " |-- recall: float (nullable = true)\n",
      "\n"
     ]
    }
   ],
   "source": [
    "with_precision_recall.printSchema()"
   ]
  },
  {
   "cell_type": "code",
   "execution_count": 218,
   "metadata": {},
   "outputs": [
    {
     "name": "stdout",
     "output_type": "stream",
     "text": [
      "+--------------------+--------------------+--------------------+---------+-----------+\n",
      "|           user_hash|                test|               top_k|precision|     recall|\n",
      "+--------------------+--------------------+--------------------+---------+-----------+\n",
      "|7d5bd7a7207191b8e...|[1187625, 1374369...|[1187625, 1077201...|      0.1| 0.14285715|\n",
      "|1a41cac66e94aa5b8...|[114704, 114633, ...|[114704, 114633, ...|      0.2|  0.2857143|\n",
      "|75cadcb96870032b0...|[6629397, 5882183...|[10659057, 101052...|      0.4|0.015564202|\n",
      "|5db29434ebd7751e0...|[7229975, 1064495...|[1064495, 1105832...|      0.1|      0.125|\n",
      "|f04de1b295a1c0759...|[13162824, 156946...|[10250503, 111552...|      0.5|   0.078125|\n",
      "|c88f84bdcec4d30f3...|[1224201, 1205659...|[1205659, 1074262...|      0.2| 0.33333334|\n",
      "|46e75423781402aeb...|[457955, 635695, ...|[1187394, 1116360...|      0.2| 0.10526316|\n",
      "|ddbb4df7bb43ad490...|[2838703, 1122005...|[11220055, 119213...|      0.2|      0.125|\n",
      "|2115a974c04051623...|[11086640, 245920...|[11843225, 111910...|      0.2| 0.16666667|\n",
      "|ba16046d62c74bc24...|[4364124, 4278230...|[115158, 114078, ...|      0.1|0.037037037|\n",
      "+--------------------+--------------------+--------------------+---------+-----------+\n",
      "only showing top 10 rows\n",
      "\n"
     ]
    }
   ],
   "source": [
    "with_precision_recall.show(10)"
   ]
  },
  {
   "cell_type": "code",
   "execution_count": 219,
   "metadata": {},
   "outputs": [],
   "source": [
    "# Computing MRR \n",
    "mrr_df = with_precision_recall.withColumn('Mrr', mrr_udf(with_precision.test ,with_precision.top_k))"
   ]
  },
  {
   "cell_type": "code",
   "execution_count": 220,
   "metadata": {},
   "outputs": [
    {
     "name": "stdout",
     "output_type": "stream",
     "text": [
      "+--------------------+--------------------+--------------------+---------+----------+---+\n",
      "|           user_hash|                test|               top_k|precision|    recall|Mrr|\n",
      "+--------------------+--------------------+--------------------+---------+----------+---+\n",
      "|7d5bd7a7207191b8e...|[1187625, 1374369...|[1187625, 1077201...|      0.1|0.14285715|1.0|\n",
      "+--------------------+--------------------+--------------------+---------+----------+---+\n",
      "only showing top 1 row\n",
      "\n"
     ]
    }
   ],
   "source": [
    "mrr_df.show(1)"
   ]
  },
  {
   "cell_type": "code",
   "execution_count": 221,
   "metadata": {},
   "outputs": [],
   "source": [
    "# Calculating Average Precision, Recall and MRR....\n",
    "\n",
    "avg_precision = mrr_df.agg(avg(col(\"precision\")))\n",
    "avg_recall = mrr_df.agg(avg(col(\"recall\")))\n",
    "avg_mrr = mrr_df.agg(avg(col('Mrr')))"
   ]
  },
  {
   "cell_type": "code",
   "execution_count": 222,
   "metadata": {},
   "outputs": [
    {
     "name": "stdout",
     "output_type": "stream",
     "text": [
      "+-------------------+\n",
      "|     avg(precision)|\n",
      "+-------------------+\n",
      "|0.23500000275671482|\n",
      "+-------------------+\n",
      "\n",
      "+-------------------+\n",
      "|        avg(recall)|\n",
      "+-------------------+\n",
      "|0.16262027905322612|\n",
      "+-------------------+\n",
      "\n",
      "+--------+\n",
      "|avg(Mrr)|\n",
      "+--------+\n",
      "|     1.0|\n",
      "+--------+\n",
      "\n"
     ]
    }
   ],
   "source": [
    "avg_precision.show()\n",
    "avg_recall.show()\n",
    "avg_mrr.show()"
   ]
  },
  {
   "cell_type": "markdown",
   "metadata": {},
   "source": [
    "# Offline Evaluation of LDA "
   ]
  },
  {
   "cell_type": "code",
   "execution_count": 198,
   "metadata": {},
   "outputs": [],
   "source": [
    "# Creating DF as user_hash, test_set, Recommendations\n",
    "lda_metrics_df = user_paper_lda_similarity.select('User', 'paper_id').withColumnRenamed('User', 'user_hash')\n",
    "\n",
    "# Collecting the list of recommended papers on basis of lda.\n",
    "lda_grouped_metrics_df = lda_metrics_df.groupBy('user_hash').agg(sf.collect_list('paper_id'))\\\n",
    "                    .withColumnRenamed('collect_list(paper_id)','top_k')\n",
    "\n",
    "# Creating Df as user_hash, test and top_k\n",
    "lda_user_test_topk = lda_grouped_metrics_df.join(userDF, lda_grouped_metrics_df.user_hash == userDF.User).drop('User')\\\n",
    "                .withColumnRenamed('PapersID', 'test')\n",
    "\n",
    "# Calculating Precision and recall using udf function.\n",
    "lda_with_precision_recall = lda_user_test_topk.withColumn('result', precision_recall_udf(lda_user_test_topk.test, lda_user_test_topk.top_k, lit(40)))\\\n",
    "        .select('user_hash', 'test', 'top_k', 'result.precision', 'result.recall')"
   ]
  },
  {
   "cell_type": "code",
   "execution_count": 203,
   "metadata": {},
   "outputs": [
    {
     "name": "stdout",
     "output_type": "stream",
     "text": [
      "+--------------------+--------------------+--------------------+---------+------------+\n",
      "|           user_hash|                test|               top_k|precision|      recall|\n",
      "+--------------------+--------------------+--------------------+---------+------------+\n",
      "|7d5bd7a7207191b8e...|[1187625, 1374369...|[1187625, 1214655...|    0.025|  0.14285715|\n",
      "|1a41cac66e94aa5b8...|[114704, 114633, ...|[114633, 114704, ...|     0.05|   0.2857143|\n",
      "|75cadcb96870032b0...|[6629397, 5882183...|[10082432, 103611...|    0.025|0.0038910506|\n",
      "|5db29434ebd7751e0...|[7229975, 1064495...|[1064495, 1032045...|    0.025|       0.125|\n",
      "|f04de1b295a1c0759...|[13162824, 156946...|[1068200, 1096026...|      0.0|         0.0|\n",
      "|c88f84bdcec4d30f3...|[1224201, 1205659...|[10041867, 106401...|    0.025|  0.16666667|\n",
      "|46e75423781402aeb...|[457955, 635695, ...|[1093250, 1062263...|      0.0|         0.0|\n",
      "|ddbb4df7bb43ad490...|[2838703, 1122005...|[1074536, 1192135...|     0.05|       0.125|\n",
      "|2115a974c04051623...|[11086640, 245920...|[1033072, 1225247...|      0.0|         0.0|\n",
      "|ba16046d62c74bc24...|[4364124, 4278230...|[115158, 11229560...|    0.025| 0.037037037|\n",
      "|a9c908ecf668e899f...|[373666, 1397642,...|[113848, 10559029...|    0.025|  0.03448276|\n",
      "|8e568ad879d705c9c...|[1321505, 1642742...|[1189108, 1186152...|      0.0|         0.0|\n",
      "|306726df6d202f66d...|[303889, 1807290,...|[11683049, 106103...|      0.0|         0.0|\n",
      "|8a84cb70e9d95e5c6...|[1620608, 314802,...|[1082136, 1002458...|    0.025| 0.083333336|\n",
      "|338012893ec4e1899...|[10699307, 102356...|[12460531, 122959...|    0.075|  0.01604278|\n",
      "|7d7b6b2611feed556...|[2729174, 3473657...|[1129841, 1105191...|    0.025| 0.011111111|\n",
      "|f09f77bfe41ea6026...|            [108840]|[10373468, 100514...|      0.0|         0.0|\n",
      "|670577693f593683b...|[3864453, 3403708...|[1236315, 1066409...|    0.025| 0.005235602|\n",
      "|a00d8cb2e420c2081...|   [1219674, 960026]|[1219674, 105, 10...|    0.025|         0.5|\n",
      "|d705113f772771b23...|[3041683, 2367753...|[1189080, 105949,...|    0.025|        0.05|\n",
      "+--------------------+--------------------+--------------------+---------+------------+\n",
      "\n"
     ]
    }
   ],
   "source": [
    "lda_with_precision_recall.show()"
   ]
  },
  {
   "cell_type": "code",
   "execution_count": 223,
   "metadata": {},
   "outputs": [],
   "source": [
    "lda_mrr_df = lda_with_precision_recall.withColumn('Mrr', mrr_udf(lda_with_precision_recall.test ,lda_with_precision_recall.top_k))"
   ]
  },
  {
   "cell_type": "code",
   "execution_count": 224,
   "metadata": {},
   "outputs": [
    {
     "name": "stdout",
     "output_type": "stream",
     "text": [
      "+--------------------+--------------------+--------------------+---------+----------+---+\n",
      "|           user_hash|                test|               top_k|precision|    recall|Mrr|\n",
      "+--------------------+--------------------+--------------------+---------+----------+---+\n",
      "|7d5bd7a7207191b8e...|[1187625, 1374369...|[1187625, 1214655...|    0.025|0.14285715|1.0|\n",
      "|1a41cac66e94aa5b8...|[114704, 114633, ...|[114633, 114704, ...|     0.05| 0.2857143|1.0|\n",
      "+--------------------+--------------------+--------------------+---------+----------+---+\n",
      "only showing top 2 rows\n",
      "\n"
     ]
    }
   ],
   "source": [
    "lda_mrr_df.show(2)"
   ]
  },
  {
   "cell_type": "code",
   "execution_count": 225,
   "metadata": {},
   "outputs": [],
   "source": [
    "# Calculating Averages of Precision Recall and MRR for LDA\n",
    "lda_avg_precision = lda_mrr_df.agg(avg(col(\"precision\")))\n",
    "lda_avg_recall = lda_mrr_df.agg(avg(col(\"recall\")))\n",
    "lda_avg_mrr = lda_mrr_df.agg(avg(col('Mrr')))"
   ]
  },
  {
   "cell_type": "code",
   "execution_count": 226,
   "metadata": {},
   "outputs": [
    {
     "name": "stdout",
     "output_type": "stream",
     "text": [
      "+--------------------+\n",
      "|      avg(precision)|\n",
      "+--------------------+\n",
      "|0.022500000428408384|\n",
      "+--------------------+\n",
      "\n",
      "+-------------------+\n",
      "|        avg(recall)|\n",
      "+-------------------+\n",
      "|0.07931858979864045|\n",
      "+-------------------+\n",
      "\n",
      "+------------------+\n",
      "|          avg(Mrr)|\n",
      "+------------------+\n",
      "|0.8208333333333332|\n",
      "+------------------+\n",
      "\n"
     ]
    }
   ],
   "source": [
    "# Showing Results\n",
    "lda_avg_precision.show()\n",
    "lda_avg_recall.show()\n",
    "lda_avg_mrr.show()"
   ]
  },
  {
   "cell_type": "markdown",
   "metadata": {},
   "source": [
    "# Exercise 4.5 Off-Line Evaluation"
   ]
  },
  {
   "cell_type": "markdown",
   "metadata": {},
   "source": [
    "# Sampler from exercise 3.5"
   ]
  },
  {
   "cell_type": "code",
   "execution_count": 235,
   "metadata": {},
   "outputs": [],
   "source": [
    "# Creating Function Sampler\n",
    "# column1 = column to join training and idf df or training and lda df. \"paper_id\"\n",
    "# column2 = column of idf df which will be used for sum. \"ptf-idf\"\n",
    "# column3 = column of lda df which will be used for sum. \"topicDistribution\"\n",
    "def sampler(userDF, tf_idf, lda, column1):\n",
    "    samplee = userDF.sample(0.7)\n",
    "\n",
    "    exploded_sample = samplee.select(\"User\", sf.explode(\"PapersID\")).withColumnRenamed(\"col\", \"paper_id\")\n",
    "\n",
    "    # Creating a fraction for every user, and set it as 0.8 so i can do stratified Sampling\n",
    "    fraction = exploded_sample.select(\"User\").distinct().withColumn(\"fraction\", lit(0.8)).rdd.collectAsMap()\n",
    "    # Creating a training DF for users. By selecting fraction(0.8) of values for every user from exploded sample.\n",
    "    training = exploded_sample.sampleBy(\"User\", fraction, 0)\n",
    "    #print(training.distinct().count())\n",
    "    # Creating Test DF by subtracting Training DF from Exploded_Sample.\n",
    "    test = exploded_sample.select(\"*\").subtract(training.select(\"*\"))\n",
    "    test_set_df = test.groupBy('User').agg(sf.collect_list('paper_id'))\\\n",
    "                    .withColumnRenamed('collect_list(paper_id)','test_set')\n",
    "    #print(test.distinct().count())\n",
    "    # Calling idf_user_profiling function\n",
    "    sampled_tr_idf = idf_user_profile(training, tf_idf, column1)\n",
    "    # Calling lda_user_profilig function\n",
    "    sampled_tr_lda = lda_user_profile(training, lda, column1)\n",
    "    \n",
    "    # Writing to file, which can be used in next experiment.\n",
    "    #sampled_tr_idf.rdd.coalesce(1).saveAsTextFile(\"Result_TF-DF\")\n",
    "    #sampled_tr_lda.rdd.coalesce(1).saveAsTextFile(\"Result_LDA\")\n",
    "    \n",
    "    return sampled_tr_idf, sampled_tr_lda, test_set_df\n",
    "    "
   ]
  },
  {
   "cell_type": "code",
   "execution_count": 236,
   "metadata": {},
   "outputs": [],
   "source": [
    "# Calling The sampler function which returns sampled tf-idf user profiles and lda user profiles\n",
    "# Along with test_set df.\n",
    "sampled_20_idf, sampled_20_lda, sampled_test= sampler(userDF, tf_idf, lda, \"paper_id\")"
   ]
  },
  {
   "cell_type": "markdown",
   "metadata": {},
   "source": [
    "# Using Sampled data for TF-IDF "
   ]
  },
  {
   "cell_type": "code",
   "execution_count": null,
   "metadata": {
    "scrolled": true
   },
   "outputs": [],
   "source": [
    "# Getting List of users from Sampled Test.\n",
    "user_list = sampled_test.select('User').limit(20).collect()\n",
    "user_list = [row.User for row in user_list]\n",
    "#user_list"
   ]
  },
  {
   "cell_type": "code",
   "execution_count": 270,
   "metadata": {},
   "outputs": [],
   "source": [
    "# Common users between Sampled Test and Sampled_20_idf\n",
    "common_user = sampled_20_idf.filter(sf.col('User').isin(user_list))"
   ]
  },
  {
   "cell_type": "code",
   "execution_count": 272,
   "metadata": {
    "collapsed": true
   },
   "outputs": [
    {
     "data": {
      "text/plain": [
       "[('aa5363b8b326ed29637fc196e97a8145',\n",
       "  SparseVector(1000, {2: 2.3101, 20: 16.7136, 27: 2.5361, 33: 2.4134, 39: 2.9581, 42: 2.4618, 50: 2.5352, 54: 7.8767, 71: 2.8645, 72: 2.5369, 78: 2.5215, 87: 25.6212, 89: 2.6325, 99: 9.0259, 106: 2.7027, 112: 2.701, 119: 2.89, 131: 3.3454, 146: 2.8032, 166: 2.8624, 180: 5.9062, 186: 3.0186, 196: 2.9976, 202: 5.995, 211: 3.0972, 222: 3.8017, 231: 3.3737, 233: 3.1757, 247: 6.4302, 263: 3.2616, 269: 3.1312, 325: 3.2884, 331: 3.2273, 362: 7.8067, 368: 3.3969, 375: 3.8431, 379: 3.8055, 385: 3.5735, 406: 3.5225, 443: 3.7297, 463: 3.6612, 474: 3.5216, 475: 3.5641, 485: 3.6547, 502: 3.724, 505: 11.7886, 509: 3.849, 538: 4.0232, 559: 3.7589, 587: 4.0695, 588: 8.4901, 601: 3.8204, 610: 3.8423, 621: 3.9471, 629: 3.9087, 653: 4.0972, 657: 4.2641, 672: 3.8689, 680: 4.0138, 699: 26.5268, 715: 8.1326, 733: 4.1092, 752: 4.2017, 760: 4.1659, 777: 4.0528, 783: 4.1475, 784: 4.1905, 791: 4.5452, 834: 4.5368, 849: 13.6818, 865: 4.1929, 902: 4.317, 921: 4.4382, 945: 4.5136, 962: 9.2539, 974: 4.5385, 980: 4.5086})),\n",
       " ('7f4fbc40acceaa303c9f0f75a0047bec',\n",
       "  SparseVector(1000, {10: 2.3835, 12: 4.7598, 16: 2.3466, 18: 4.9729, 25: 7.2831, 26: 4.9773, 32: 2.4938, 38: 2.6228, 43: 5.0053, 46: 5.092, 52: 2.3721, 56: 27.5762, 58: 2.8314, 62: 2.4069, 65: 10.8549, 68: 2.7197, 77: 2.7207, 78: 5.043, 79: 2.8156, 80: 5.1859, 85: 3.0279, 89: 7.8974, 95: 2.8276, 108: 2.721, 112: 2.701, 113: 2.957, 114: 2.731, 118: 2.957, 122: 5.3861, 123: 5.7384, 127: 2.9795, 137: 3.1027, 139: 2.7327, 147: 3.0046, 149: 5.5937, 152: 2.859, 161: 10.1938, 224: 3.0416, 227: 3.2823, 263: 3.2616, 268: 3.2144, 283: 27.5475, 297: 11.0558, 321: 3.2842, 326: 3.3517, 327: 3.344, 333: 3.4416, 338: 3.3054, 349: 3.5827, 357: 3.7413, 373: 3.731, 383: 3.4374, 387: 3.4064, 394: 11.9388, 409: 3.4245, 416: 18.6612, 441: 19.7448, 445: 3.7841, 448: 3.6958, 453: 3.6336, 455: 4.1388, 466: 3.6019, 469: 3.6149, 470: 4.0653, 489: 3.735, 497: 11.1115, 516: 7.4302, 531: 3.667, 551: 3.9741, 552: 4.079, 592: 8.0625, 595: 3.7897, 612: 8.2125, 633: 4.363, 652: 8.5721, 680: 8.0277, 700: 4.1651, 721: 4.3297, 750: 4.2628, 752: 4.2017, 777: 4.0528, 783: 4.1475, 787: 4.0932, 803: 8.8264, 846: 4.3411, 890: 4.4117, 904: 4.592, 932: 4.5891})),\n",
       " ('f8d5bbf7acbe1aff888408c83b40571b',\n",
       "  SparseVector(1000, {3: 5.2014, 4: 25.0162, 6: 123.316, 8: 2.4016, 10: 2.3835, 13: 7.7123, 16: 7.0397, 17: 2.384, 19: 7.2529, 21: 4.6762, 22: 9.1296, 23: 7.7004, 24: 8.0722, 25: 26.7048, 27: 2.5361, 28: 4.5554, 29: 4.6305, 30: 46.3699, 31: 4.6774, 34: 14.3749, 36: 6.9514, 39: 2.9581, 40: 2.8037, 41: 22.3614, 42: 7.3855, 43: 2.5027, 45: 9.8725, 46: 12.73, 54: 10.5022, 57: 4.8814, 59: 52.9784, 60: 2.624, 61: 7.7081, 62: 7.2208, 64: 4.9196, 65: 5.4274, 66: 5.7526, 69: 2.5616, 70: 2.5829, 71: 22.9163, 72: 10.1475, 73: 2.7497, 74: 5.4944, 77: 2.7207, 78: 2.5215, 79: 8.4468, 81: 3.1025, 87: 3.2027, 89: 2.6325, 93: 2.7009, 96: 2.7265, 97: 8.2613, 100: 19.0561, 104: 8.1799, 106: 8.108, 110: 12.7035, 112: 8.1031, 116: 8.1761, 117: 2.6631, 119: 8.67, 120: 5.6716, 121: 6.1449, 126: 5.5135, 127: 2.9795, 137: 3.1027, 142: 2.8601, 144: 2.974, 145: 24.8803, 149: 5.5937, 153: 2.9105, 154: 16.1728, 158: 2.969, 159: 2.9449, 164: 5.7682, 166: 11.4498, 167: 5.8662, 168: 17.4155, 171: 10.0138, 174: 3.2647, 175: 3.1226, 177: 3.006, 180: 5.9062, 183: 3.0323, 186: 3.0186, 187: 3.1056, 188: 2.9366, 190: 2.9744, 198: 6.0772, 199: 12.5836, 200: 3.5949, 203: 6.5054, 206: 3.3054, 213: 3.1455, 219: 18.8293, 220: 6.7717, 221: 11.3819, 224: 3.0416, 225: 6.1477, 227: 16.4114, 229: 3.0186, 231: 3.3737, 233: 3.1757, 238: 3.2555, 240: 6.3007, 241: 3.1086, 242: 3.1296, 245: 3.3514, 247: 3.2151, 248: 6.6046, 249: 3.1882, 251: 3.5515, 252: 3.1952, 254: 38.5106, 255: 3.158, 258: 3.1245, 260: 32.1057, 261: 9.671, 266: 6.5767, 267: 6.4225, 268: 6.4287, 269: 3.1312, 274: 3.2255, 275: 6.3332, 276: 3.529, 277: 3.2994, 281: 3.8425, 288: 3.4664, 299: 13.874, 301: 6.4694, 302: 3.7576, 303: 3.5853, 304: 10.4398, 306: 7.3238, 308: 3.2511, 309: 7.3525, 313: 3.2228, 316: 13.1246, 317: 3.3197, 320: 3.9443, 322: 6.9236, 331: 3.2273, 332: 18.4635, 333: 3.4416, 334: 3.7607, 337: 13.9314, 338: 9.9161, 339: 3.3215, 350: 3.3362, 352: 3.8951, 355: 9.8903, 356: 3.5808, 360: 14.5928, 361: 3.3368, 362: 19.5167, 366: 4.0886, 370: 3.3371, 375: 15.3724, 376: 3.3963, 377: 3.6448, 380: 3.8609, 383: 3.4374, 388: 10.1955, 392: 3.4733, 397: 3.898, 398: 6.8872, 399: 3.3978, 403: 10.8946, 406: 24.6572, 408: 11.1735, 412: 3.5463, 415: 8.18, 417: 7.0295, 425: 10.554, 426: 7.2183, 427: 3.4462, 428: 3.9761, 434: 3.4462, 440: 4.0242, 441: 3.949, 444: 7.3294, 452: 3.4913, 453: 10.9007, 458: 4.0983, 465: 3.5, 471: 3.6489, 473: 3.755, 475: 7.1282, 478: 36.0858, 480: 7.5468, 483: 3.6343, 491: 3.5515, 498: 3.898, 500: 8.2597, 507: 7.2095, 511: 3.73, 516: 3.7151, 520: 3.7713, 523: 3.7055, 526: 3.6065, 527: 3.6867, 540: 3.707, 542: 7.2379, 545: 7.4615, 554: 3.7961, 557: 3.7158, 559: 7.5178, 565: 3.7723, 570: 4.0414, 571: 3.9838, 575: 7.59, 576: 3.8686, 583: 3.7532, 591: 4.1752, 596: 4.0639, 606: 7.6706, 607: 3.799, 614: 4.1838, 616: 7.8628, 618: 3.8275, 619: 3.9235, 620: 3.7996, 621: 3.9471, 623: 3.764, 624: 16.0687, 626: 4.0621, 627: 4.3384, 631: 4.259, 642: 3.8586, 648: 7.9592, 649: 8.3763, 654: 11.4481, 661: 4.1819, 675: 4.4382, 676: 3.8303, 677: 3.8672, 679: 4.0744, 683: 3.9735, 686: 7.9116, 691: 8.6685, 692: 3.9381, 695: 4.2446, 698: 16.9139, 702: 4.2852, 711: 12.0485, 715: 4.0663, 727: 4.4707, 731: 8.9175, 732: 18.0194, 733: 8.2184, 739: 4.2359, 744: 4.2658, 753: 8.0092, 756: 8.9731, 760: 4.1659, 762: 4.3897, 763: 4.0225, 766: 4.2343, 768: 12.2444, 769: 12.9189, 788: 4.1154, 791: 4.5452, 795: 9.1924, 806: 8.1235, 809: 8.6915, 823: 4.1385, 824: 4.1509, 825: 4.3859, 826: 8.3141, 832: 4.1377, 835: 13.1983, 841: 4.4028, 858: 4.5475, 861: 8.6394, 880: 4.4428, 884: 21.9923, 885: 4.3504, 889: 8.4438, 890: 13.2351, 895: 4.5879, 896: 4.3706, 898: 4.5968, 899: 8.5695, 909: 4.2952, 911: 4.2666, 917: 8.6367, 918: 4.4211, 923: 8.8866, 928: 4.3926, 936: 4.5756, 938: 4.4172, 946: 8.902, 948: 4.4342, 950: 4.61, 956: 4.4053, 961: 8.7707, 964: 4.4562, 970: 4.5054, 974: 4.5385, 978: 4.5413, 981: 4.6028, 986: 4.6064, 988: 4.5903, 991: 4.6221, 997: 4.5716, 998: 4.607})),\n",
       " ('ddfafb70578defe12d9a4e7d6107b5dc',\n",
       "  SparseVector(1000, {38: 2.6228, 53: 2.7134, 58: 2.8314, 77: 5.4414, 100: 3.176, 131: 3.3454, 152: 2.859, 166: 2.8624, 218: 3.189, 227: 6.5646, 232: 3.2381, 287: 3.6149, 298: 3.597, 305: 3.4551, 367: 3.9054, 385: 3.5735, 478: 4.0095, 598: 8.3011, 630: 4.1336, 647: 4.1776, 660: 4.1709, 767: 4.2935, 789: 17.1512, 829: 4.1295, 862: 4.2787, 895: 4.5879, 955: 13.4951})),\n",
       " ('42407318182edf74b022dc3b89d01180',\n",
       "  SparseVector(1000, {0: 2.3477, 1: 17.0063, 4: 2.2742, 5: 9.9818, 8: 2.4016, 11: 5.4784, 27: 2.5361, 31: 2.3387, 36: 2.3171, 42: 2.4618, 44: 2.6683, 67: 2.5494, 78: 2.5215, 99: 3.0086, 103: 2.7233, 108: 2.721, 113: 2.957, 118: 2.957, 120: 2.8358, 122: 2.693, 151: 2.9143, 164: 2.8841, 166: 2.8624, 169: 9.141, 171: 3.3379, 172: 3.1127, 178: 5.8872, 191: 3.2525, 195: 6.4015, 199: 3.1459, 205: 3.3698, 213: 6.291, 216: 3.282, 239: 3.2078, 243: 6.2937, 244: 3.0606, 265: 3.4881, 299: 3.4685, 309: 29.4099, 310: 3.2836, 315: 4.074, 362: 3.9033, 396: 3.494, 424: 3.6654, 428: 7.9521, 449: 3.5109, 454: 3.5452, 503: 3.7223, 504: 3.5953, 507: 3.6047, 515: 8.5418, 525: 8.9404, 586: 8.3049, 701: 3.9424, 732: 4.5048, 735: 4.4167, 738: 13.2203, 811: 4.5879, 869: 4.4781, 933: 4.3931, 970: 4.5054})),\n",
       " ('3e5e03ed6a16af2a0434ac284d465bb8',\n",
       "  SparseVector(1000, {4: 20.4678, 6: 48.8611, 7: 2.5835, 8: 14.4097, 10: 4.767, 14: 4.5729, 15: 4.6085, 16: 2.3466, 18: 7.4594, 19: 4.8353, 21: 2.3381, 22: 4.5648, 24: 51.124, 25: 12.1385, 28: 4.5554, 29: 6.9457, 30: 23.1849, 31: 9.3548, 32: 2.4938, 34: 4.7916, 36: 4.6342, 37: 2.692, 39: 23.6645, 40: 14.0187, 41: 54.6612, 42: 9.8474, 43: 5.0053, 45: 17.2769, 46: 2.546, 47: 5.5213, 48: 2.7086, 49: 4.7394, 50: 2.5352, 52: 2.3721, 53: 13.5672, 54: 31.5067, 55: 2.7521, 56: 2.7576, 57: 14.6442, 60: 7.872, 61: 30.8324, 63: 10.7267, 64: 7.3794, 65: 8.1411, 67: 5.0989, 68: 2.7197, 69: 10.2463, 70: 5.1658, 71: 11.4582, 72: 7.6106, 73: 2.7497, 74: 5.4944, 79: 14.078, 80: 2.593, 81: 3.1025, 85: 3.0279, 88: 3.0892, 89: 2.6325, 95: 2.8276, 96: 10.9058, 103: 2.7233, 105: 8.1791, 106: 5.4053, 108: 8.1629, 110: 15.8794, 111: 2.6454, 112: 5.4021, 116: 8.1761, 117: 2.6631, 118: 5.914, 119: 23.12, 121: 6.1449, 123: 5.7384, 126: 5.5135, 127: 5.9591, 130: 2.865, 132: 3.1146, 137: 15.5134, 138: 2.8872, 140: 26.8329, 141: 2.8727, 142: 2.8601, 143: 8.971, 145: 3.11, 146: 5.6063, 147: 3.0046, 148: 3.2193, 149: 5.5937, 151: 11.6574, 152: 2.859, 153: 8.7314, 154: 9.7037, 157: 2.9314, 158: 8.9069, 159: 2.9449, 160: 6.5854, 164: 2.8841, 165: 8.5996, 166: 11.4498, 167: 2.9331, 170: 6.0207, 175: 3.1226, 177: 3.006, 180: 8.8593, 183: 3.0323, 184: 3.2229, 185: 3.1679, 186: 3.0186, 187: 12.4225, 192: 6.0153, 193: 9.5921, 196: 5.9953, 198: 6.0772, 203: 6.5054, 205: 16.8492, 209: 7.1295, 212: 24.8492, 213: 3.1455, 215: 20.6786, 220: 13.5433, 223: 43.068, 224: 3.0416, 229: 9.0559, 233: 3.1757, 234: 3.2893, 241: 6.2171, 242: 3.1296, 245: 3.3514, 247: 6.4302, 248: 3.3023, 252: 6.3903, 253: 6.6457, 255: 3.158, 260: 10.7019, 261: 3.2237, 262: 3.1928, 263: 6.5231, 266: 6.5767, 268: 3.2144, 269: 3.1312, 270: 15.7225, 272: 6.3918, 275: 3.1666, 277: 13.1974, 279: 3.5507, 285: 6.6915, 286: 3.3101, 288: 3.4664, 289: 21.18, 293: 3.3432, 297: 14.7411, 299: 48.559, 300: 6.7727, 301: 6.4694, 306: 14.6476, 308: 3.2511, 316: 9.8435, 317: 6.6394, 320: 11.8329, 323: 19.493, 330: 3.3735, 332: 11.0781, 333: 3.4416, 343: 3.3558, 346: 11.0644, 347: 7.4258, 348: 10.0788, 350: 3.3362, 352: 3.8951, 355: 3.2968, 357: 7.4826, 360: 32.8339, 365: 11.3351, 367: 3.9054, 369: 6.8321, 372: 3.5498, 378: 3.3887, 380: 3.8609, 383: 3.4374, 384: 11.2944, 386: 6.9023, 389: 3.401, 392: 6.9466, 397: 93.5524, 398: 3.4436, 400: 3.8147, 401: 3.7464, 404: 3.4345, 405: 3.5847, 406: 3.5225, 409: 3.4245, 411: 3.5673, 414: 3.4462, 415: 4.09, 416: 3.7322, 417: 38.6624, 423: 3.8193, 425: 3.518, 433: 3.5949, 438: 11.0273, 441: 7.8979, 442: 3.498, 452: 3.4913, 453: 14.5343, 466: 3.6019, 473: 7.5101, 474: 3.5216, 475: 3.5641, 478: 4.0095, 483: 3.6343, 485: 7.3094, 490: 3.6192, 491: 3.5515, 493: 3.795, 494: 33.016, 497: 7.4077, 502: 3.724, 506: 3.6561, 510: 7.1976, 511: 3.73, 516: 7.4302, 520: 15.0852, 526: 7.213, 527: 7.3734, 528: 3.8942, 531: 7.3341, 539: 3.6638, 540: 7.414, 541: 3.8825, 542: 3.6189, 545: 7.4615, 547: 3.8025, 556: 3.7517, 559: 3.7589, 560: 4.0538, 561: 3.7355, 562: 7.3567, 566: 3.8152, 569: 4.0769, 573: 3.9577, 589: 8.8523, 596: 65.0218, 606: 3.8353, 607: 3.799, 608: 3.7555, 611: 4.2752, 614: 8.3677, 619: 3.9235, 621: 3.9471, 623: 7.5281, 624: 4.0172, 633: 34.904, 636: 3.7942, 638: 64.8441, 643: 4.0282, 646: 3.9168, 647: 12.5327, 653: 4.0972, 655: 3.9518, 661: 8.3637, 663: 3.8552, 668: 7.6556, 672: 3.8689, 675: 17.7529, 676: 7.6606, 686: 3.9558, 688: 8.3388, 698: 4.2285, 701: 7.8849, 711: 4.0162, 715: 4.0663, 718: 4.1066, 720: 8.0564, 723: 4.1779, 726: 4.513, 739: 21.1795, 741: 39.2122, 742: 4.1415, 756: 4.4866, 772: 8.1915, 788: 4.1154, 793: 4.2376, 799: 4.3801, 813: 4.4191, 818: 4.107, 829: 8.2589, 832: 4.1377, 834: 4.5368, 840: 4.2122, 842: 4.5005, 846: 4.3411, 859: 4.4619, 863: 4.2256, 867: 4.2585, 881: 4.5108, 885: 4.3504, 895: 9.1758, 896: 4.3706, 900: 4.5125, 905: 4.543, 922: 4.6154, 932: 4.5891, 934: 4.5396, 937: 4.3672, 942: 4.4102, 946: 4.451, 958: 8.9123, 973: 9.0381, 979: 4.5119, 982: 4.4951, 985: 4.564, 988: 4.5903, 995: 4.5992})),\n",
       " ('211103152ac9c903cc4a11867ad8a5e8',\n",
       "  SparseVector(1000, {4: 18.1936, 14: 6.8594, 20: 2.7856, 25: 12.1385, 28: 2.2777, 29: 4.6305, 41: 2.4846, 47: 2.7607, 54: 10.5022, 96: 2.7265, 103: 5.4467, 104: 2.7266, 108: 2.721, 112: 2.701, 116: 2.7254, 126: 2.7568, 141: 2.8727, 163: 3.0021, 165: 2.8665, 166: 2.8624, 170: 3.0103, 175: 6.2452, 180: 5.9062, 186: 3.0186, 192: 3.0077, 196: 8.9929, 218: 3.189, 220: 3.3858, 222: 26.612, 268: 3.2144, 286: 9.9304, 301: 3.2347, 303: 3.5853, 316: 3.2812, 325: 3.2884, 341: 11.5067, 346: 3.6881, 350: 3.3362, 399: 3.3978, 412: 7.0926, 452: 3.4913, 476: 3.5273, 483: 3.6343, 490: 3.6192, 491: 3.5515, 494: 3.6684, 511: 3.73, 538: 4.0232, 548: 3.6221, 554: 3.7961, 560: 8.1076, 602: 3.7865, 618: 11.4826, 624: 8.0343, 644: 4.2442, 657: 4.2641, 661: 4.1819, 683: 3.9735, 692: 3.9381, 731: 4.4587, 750: 8.5256, 835: 26.3966, 856: 4.2166, 883: 4.5974, 938: 4.4172, 950: 13.8299, 958: 4.4562, 982: 4.4951, 991: 4.6221})),\n",
       " ('fc0d51c63591e5b0b12289c002b065c7',\n",
       "  SparseVector(1000, {0: 2.3477, 1: 7.2884, 3: 18.2049, 4: 4.5484, 6: 6.9802, 7: 2.5835, 8: 33.6227, 9: 10.0072, 10: 40.5197, 12: 11.8994, 13: 2.5708, 14: 2.2865, 15: 4.6085, 16: 86.823, 18: 9.9459, 20: 8.3568, 21: 4.6762, 22: 13.6943, 24: 32.2888, 25: 2.4277, 26: 29.8636, 27: 32.9694, 28: 11.3885, 29: 2.3152, 31: 18.7096, 32: 17.4569, 33: 4.8268, 34: 4.7916, 35: 2.6671, 37: 5.3839, 40: 8.4112, 41: 7.4538, 42: 9.8474, 43: 7.508, 44: 2.6683, 45: 9.8725, 46: 20.368, 47: 11.0426, 48: 21.6686, 49: 9.4788, 50: 12.676, 51: 5.6592, 52: 11.8604, 53: 5.4269, 54: 5.2511, 55: 2.7521, 57: 4.8814, 58: 8.4943, 60: 5.248, 61: 7.7081, 62: 2.4069, 63: 5.3633, 64: 31.9775, 65: 8.1411, 66: 40.2679, 68: 2.7197, 69: 15.3694, 70: 15.4975, 72: 5.0737, 73: 2.7497, 74: 2.7472, 75: 2.9956, 77: 5.4414, 78: 5.043, 79: 2.8156, 80: 12.9649, 83: 34.7011, 84: 15.051, 88: 3.0892, 89: 2.6325, 90: 15.2864, 93: 2.7009, 96: 8.1794, 97: 5.5075, 98: 16.0696, 101: 5.9485, 102: 7.9034, 103: 2.7233, 104: 2.7266, 105: 8.1791, 106: 8.108, 107: 64.1773, 108: 2.721, 109: 63.8744, 111: 15.8723, 112: 10.8042, 113: 2.957, 114: 21.8484, 116: 24.5282, 118: 5.914, 119: 14.45, 121: 3.0724, 122: 2.693, 123: 5.7384, 126: 5.5135, 127: 2.9795, 128: 6.3676, 129: 3.0189, 130: 2.865, 132: 6.2292, 137: 3.1027, 138: 8.6616, 139: 5.4654, 141: 5.7453, 142: 17.1608, 144: 2.974, 145: 49.7607, 146: 2.8032, 147: 15.0231, 148: 6.4386, 149: 8.3905, 150: 25.9201, 151: 2.9143, 152: 8.5769, 153: 5.821, 154: 3.2346, 155: 6.2821, 156: 3.7085, 158: 11.8759, 159: 2.9449, 160: 3.2927, 162: 17.1732, 163: 3.0021, 164: 2.8841, 165: 14.3327, 166: 5.7249, 167: 5.8662, 168: 11.6103, 169: 12.188, 170: 3.0103, 171: 3.3379, 172: 15.5637, 173: 6.8328, 175: 6.2452, 176: 8.7727, 178: 2.9436, 180: 8.8593, 181: 31.3082, 183: 33.3558, 184: 6.4458, 185: 6.3357, 186: 18.1118, 187: 18.6337, 188: 20.5561, 189: 38.4473, 190: 2.9744, 191: 3.2525, 192: 15.0383, 193: 3.1974, 194: 36.0805, 197: 3.034, 198: 3.0386, 199: 3.1459, 200: 17.9743, 201: 15.4572, 204: 6.6414, 206: 42.9699, 207: 3.0421, 208: 3.3693, 210: 5.9532, 212: 6.2123, 216: 3.282, 219: 7.5317, 221: 30.3516, 224: 12.1664, 228: 6.0664, 229: 3.0186, 231: 6.7474, 232: 6.4762, 233: 6.3515, 236: 18.1628, 237: 16.141, 238: 6.511, 239: 3.2078, 240: 6.3007, 241: 3.1086, 244: 3.0606, 245: 3.3514, 246: 12.68, 247: 3.2151, 248: 39.6273, 249: 12.7526, 251: 31.9635, 255: 15.7898, 256: 3.2261, 258: 9.3736, 259: 6.7977, 261: 3.2237, 262: 9.5785, 263: 6.5231, 264: 11.0494, 267: 3.2112, 268: 16.0719, 269: 6.2625, 271: 6.5051, 273: 3.1841, 279: 14.2027, 282: 3.2901, 285: 6.6915, 286: 26.481, 287: 3.6149, 289: 10.59, 293: 3.3432, 296: 30.1715, 299: 3.4685, 300: 3.3864, 301: 9.7042, 303: 10.7559, 305: 6.9103, 306: 10.9857, 308: 3.2511, 311: 10.9329, 312: 23.7405, 314: 3.6647, 316: 6.5623, 318: 3.5671, 319: 58.4392, 321: 22.9894, 323: 6.4977, 324: 7.5101, 325: 3.2884, 327: 3.344, 329: 3.4652, 331: 3.2273, 332: 3.6927, 334: 3.7607, 337: 6.9657, 338: 6.6108, 339: 3.3215, 340: 7.1581, 341: 7.6711, 343: 16.7791, 344: 3.544, 345: 3.6565, 346: 14.7526, 347: 7.4258, 348: 20.1577, 349: 14.3308, 353: 8.5504, 354: 17.4711, 356: 17.9039, 360: 10.9446, 364: 6.5116, 367: 42.9598, 369: 3.416, 370: 3.3371, 374: 20.0875, 375: 3.8431, 376: 3.3963, 377: 3.6448, 378: 6.7773, 383: 10.3123, 386: 10.3534, 388: 3.3985, 389: 3.401, 391: 399.4457, 394: 7.9592, 395: 3.6297, 398: 6.8872, 399: 6.7955, 401: 7.4927, 402: 3.5448, 403: 3.6315, 406: 3.5225, 407: 7.1945, 408: 11.1735, 409: 3.4245, 410: 3.4464, 412: 3.5463, 413: 7.0131, 415: 36.8102, 418: 3.6896, 420: 6.9076, 421: 4.1705, 423: 3.8193, 425: 52.7699, 431: 14.6513, 432: 11.5724, 434: 3.4462, 435: 3.6635, 437: 16.9886, 438: 25.7303, 439: 7.3444, 440: 4.0242, 442: 10.494, 444: 7.3294, 445: 7.5683, 447: 3.4823, 448: 73.9168, 450: 4.0573, 451: 4.4828, 453: 3.6336, 456: 4.1768, 458: 4.0983, 459: 8.2478, 461: 3.8793, 472: 7.2836, 475: 3.5641, 476: 10.582, 486: 3.9403, 487: 3.7322, 491: 14.206, 492: 7.875, 498: 7.796, 501: 3.9295, 507: 7.2095, 510: 7.1976, 511: 26.1099, 514: 7.5709, 519: 11.9474, 521: 11.5385, 524: 4.1228, 527: 3.6867, 529: 4.0162, 530: 4.0102, 531: 7.3341, 532: 26.612, 534: 3.9424, 535: 45.5179, 536: 3.9295, 538: 12.0695, 540: 3.707, 543: 4.2367, 545: 3.7307, 546: 19.2043, 548: 3.6221, 550: 3.8417, 554: 11.3883, 555: 4.1574, 558: 14.9259, 559: 11.2766, 560: 8.1076, 562: 7.3567, 565: 7.5447, 567: 3.7486, 576: 3.8686, 580: 12.9973, 581: 66.8268, 582: 39.5335, 590: 37.6223, 595: 3.7897, 597: 41.2649, 598: 4.1506, 601: 11.4612, 602: 7.573, 603: 8.0585, 606: 7.6706, 607: 3.799, 610: 3.8423, 620: 3.7996, 622: 4.2138, 625: 11.6474, 629: 3.9087, 630: 8.2672, 632: 3.8364, 634: 3.8577, 636: 11.3827, 640: 4.3854, 642: 27.0102, 646: 3.9168, 650: 4.0879, 651: 28.4862, 652: 8.5721, 654: 3.816, 655: 3.9518, 659: 12.1448, 660: 104.2732, 661: 4.1819, 663: 7.7104, 664: 16.07, 665: 8.2352, 668: 7.6556, 671: 4.0033, 672: 3.8689, 673: 12.4041, 674: 3.9543, 675: 4.4382, 676: 7.6606, 677: 3.8672, 678: 4.601, 679: 12.2231, 691: 4.3342, 693: 12.9403, 696: 8.25, 700: 4.1651, 701: 3.9424, 704: 3.9546, 706: 3.9527, 708: 4.0583, 711: 16.0647, 712: 22.9691, 715: 4.0663, 716: 4.4577, 717: 4.0265, 718: 4.1066, 719: 4.0185, 722: 4.1284, 728: 7.9413, 730: 7.8979, 733: 12.3276, 734: 29.4146, 746: 4.2045, 748: 8.6117, 761: 4.2865, 763: 4.0225, 764: 8.0733, 765: 4.598, 769: 8.6126, 775: 4.0716, 777: 4.0528, 778: 4.485, 779: 4.09, 783: 4.1475, 784: 8.3811, 787: 12.2797, 788: 8.2308, 789: 4.2878, 792: 13.2247, 794: 4.2207, 799: 8.7602, 805: 4.4556, 807: 4.1095, 821: 4.4572, 824: 4.1509, 826: 4.157, 828: 21.7612, 830: 4.3536, 835: 4.3994, 837: 4.2787, 841: 17.6114, 843: 4.3907, 844: 4.1799, 848: 8.7138, 851: 4.2974, 859: 13.3856, 860: 4.3663, 863: 8.4512, 866: 4.2359, 868: 4.4733, 871: 4.534, 875: 4.3148, 877: 4.2731, 879: 4.1823, 880: 22.2141, 883: 4.5974, 884: 13.1954, 886: 18.0762, 890: 4.4117, 893: 4.2878, 895: 9.1758, 897: 18.1204, 899: 8.5695, 902: 4.317, 903: 4.2451, 905: 4.543, 909: 4.2952, 910: 4.5458, 919: 4.3649, 922: 9.2308, 923: 8.8866, 925: 4.3274, 932: 4.5891, 935: 8.9721, 937: 4.3672, 942: 8.8204, 951: 4.382, 952: 4.4903, 953: 4.5402, 958: 4.4562, 959: 4.529, 960: 4.5745, 967: 8.9935, 969: 4.4312, 972: 4.4898, 973: 4.519, 979: 13.5357, 980: 18.0346, 983: 4.5838, 984: 4.5108, 989: 4.6022, 994: 4.5856, 996: 4.6209, 997: 18.2862, 998: 4.607, 999: 4.6118})),\n",
       " ('5b0c4c6f84f09ea85bdd9528ce8f9e42',\n",
       "  SparseVector(1000, {2: 23.1015, 6: 2.3267, 23: 5.1336, 24: 2.6907, 31: 2.3387, 33: 2.4134, 49: 2.3697, 57: 2.4407, 70: 2.5829, 71: 2.8645, 83: 2.6693, 89: 2.6325, 117: 2.6631, 118: 2.957, 149: 2.7968, 152: 2.859, 154: 3.2346, 164: 2.8841, 167: 2.9331, 170: 3.0103, 180: 5.9062, 203: 6.5054, 208: 3.3693, 212: 3.1062, 237: 3.2282, 243: 3.1469, 257: 3.5546, 264: 11.0494, 269: 3.1312, 299: 3.4685, 320: 3.9443, 322: 3.4618, 325: 6.5767, 331: 3.2273, 372: 3.5498, 376: 6.7927, 385: 3.5735, 466: 3.6019, 524: 4.1228, 543: 4.2367, 617: 4.2904, 652: 4.286, 678: 4.601, 686: 3.9558, 725: 12.7214, 730: 3.949, 781: 8.4611, 827: 4.1772, 929: 50.4089, 942: 8.8204, 951: 4.382, 968: 4.6106, 980: 4.5086, 987: 4.5059})),\n",
       " ('5a4b773f33cfc52cf4514db72afab665',\n",
       "  SparseVector(1000, {12: 2.3799, 43: 5.0053, 53: 2.7134, 58: 2.8314, 84: 3.0102, 111: 2.6454, 131: 6.6908, 133: 3.0003, 135: 3.3307, 166: 2.8624, 195: 3.2007, 206: 3.3054, 214: 3.3274, 280: 3.6781, 323: 3.2488, 357: 3.7413, 399: 3.3978, 403: 3.6315, 410: 3.4464, 480: 7.5468, 687: 8.9657, 772: 4.0958, 789: 17.1512, 858: 4.5475, 955: 8.9967, 995: 4.5992})),\n",
       " ('04e7b99118265af2550eb8aa585fda4e',\n",
       "  SparseVector(1000, {4: 2.2742, 6: 6.9802, 14: 2.2865, 20: 11.1424, 40: 2.8037, 46: 2.546, 57: 2.4407, 58: 2.8314, 61: 2.5694, 63: 2.6817, 71: 11.4582, 75: 2.9956, 99: 3.0086, 106: 2.7027, 119: 2.89, 138: 2.8872, 146: 2.8032, 180: 2.9531, 187: 3.1056, 196: 2.9976, 222: 7.6034, 235: 3.3933, 247: 3.2151, 250: 3.2538, 264: 3.6831, 316: 3.2812, 341: 11.5067, 361: 3.3368, 397: 3.898, 406: 7.0449, 439: 7.3444, 480: 7.5468, 606: 3.8353, 661: 4.1819, 675: 17.7529, 692: 3.9381, 708: 4.0583, 845: 18.3611, 883: 4.5974, 901: 4.3868, 950: 4.61, 957: 4.6082, 988: 4.5903})),\n",
       " ('3feb00e5f45b1cccfb002a7189af5546',\n",
       "  SparseVector(1000, {13: 15.4247, 14: 6.8594, 17: 2.384, 26: 9.9545, 28: 2.2777, 34: 7.1874, 40: 2.8037, 42: 2.4618, 48: 2.7086, 55: 2.7521, 59: 6.2328, 64: 2.4598, 65: 2.7137, 66: 2.8763, 76: 8.3437, 82: 12.741, 84: 27.0919, 99: 3.0086, 116: 2.7254, 122: 2.693, 138: 2.8872, 148: 6.4386, 151: 2.9143, 168: 5.8052, 172: 18.6764, 175: 3.1226, 181: 3.1308, 188: 2.9366, 195: 6.4015, 205: 3.3698, 208: 3.3693, 211: 3.0972, 218: 12.7561, 224: 6.0832, 226: 3.0771, 238: 3.2555, 240: 6.3007, 241: 3.1086, 249: 3.1882, 253: 3.3229, 257: 3.5546, 261: 3.2237, 296: 3.3524, 333: 3.4416, 350: 6.6725, 373: 3.731, 393: 4.0733, 401: 7.4927, 406: 3.5225, 420: 3.4538, 424: 3.6654, 438: 3.6758, 449: 3.5109, 454: 3.5452, 455: 20.6941, 460: 3.7543, 475: 3.5641, 488: 3.9668, 495: 3.657, 512: 3.9159, 513: 3.847, 515: 25.6255, 572: 4.1961, 586: 4.1525, 620: 3.7996, 632: 3.8364, 648: 3.9796, 662: 4.2878, 710: 4.2289, 718: 4.1066, 722: 4.1284, 728: 3.9706, 766: 4.2343, 793: 4.2376, 848: 8.7138, 907: 4.5246, 991: 4.6221})),\n",
       " ('95aad69fcfd8bdae62a905240c4a5d0f',\n",
       "  SparseVector(1000, {6: 4.6534, 18: 2.4865, 32: 2.4938, 34: 2.3958, 45: 2.4681, 50: 2.5352, 53: 18.9941, 61: 5.1387, 71: 8.5936, 89: 5.2649, 100: 3.176, 102: 2.6345, 128: 3.1838, 137: 3.1027, 143: 2.9903, 146: 2.8032, 154: 6.4691, 159: 2.9449, 166: 2.8624, 170: 3.0103, 174: 3.2647, 186: 3.0186, 202: 2.9975, 203: 3.2527, 205: 3.3698, 207: 3.0421, 231: 10.121, 239: 3.2078, 243: 3.1469, 257: 10.6639, 288: 3.4664, 289: 24.71, 299: 3.4685, 304: 3.4799, 306: 3.6619, 326: 6.7034, 330: 3.3735, 332: 3.6927, 348: 3.3596, 385: 7.147, 400: 3.8147, 402: 3.5448, 412: 3.5463, 434: 3.4462, 474: 3.5216, 478: 4.0095, 517: 4.2446, 539: 3.6638, 555: 4.1574, 560: 4.0538, 562: 3.6784, 596: 4.0639, 597: 4.1265, 604: 4.0462, 606: 3.8353, 669: 4.5021, 678: 4.601, 679: 4.0744, 737: 4.4876, 780: 4.5136, 786: 4.2033, 858: 4.5475, 881: 4.5108, 889: 4.2219, 935: 4.486}))]"
      ]
     },
     "execution_count": 272,
     "metadata": {},
     "output_type": "execute_result"
    }
   ],
   "source": [
    "common_users_vecs = common_user.select('*').limit(20).rdd.map(lambda x: (x[0], x[1])).collect()\n",
    "\n",
    "common_users_vecs"
   ]
  },
  {
   "cell_type": "markdown",
   "metadata": {},
   "source": [
    "#### For k = 5"
   ]
  },
  {
   "cell_type": "code",
   "execution_count": 273,
   "metadata": {},
   "outputs": [],
   "source": [
    "# Sampled Users vectors and number of recommendations in form of k.\n",
    "# returns DF containing recommendations and Precision, Recall, MRR.\n",
    "def sampled_precision_recall_mrr(user_vectors, sampled_test, k):\n",
    "    #Getting Recommendations \n",
    "    temp_recs = get_SimilarPaper_idf(user_vectors, k)\n",
    "\n",
    "    #temp_recs.printSchema()\n",
    "\n",
    "    # Creating DF as user_hash, Recommendations\n",
    "    temp_metrics_df = temp_recs.select('User', 'paper_id').withColumnRenamed('User', 'user_hash')\n",
    "\n",
    "    #temp_metrics_df.printSchema()\n",
    "    \n",
    "    # Creating DF, user_hash, top_k recommendations\n",
    "    temp_grouped_metrics_df = temp_metrics_df.groupBy('user_hash').agg(sf.collect_list('paper_id'))\\\n",
    "                        .withColumnRenamed('collect_list(paper_id)','top_k')\n",
    "\n",
    "    temp_grouped_metrics_df.show(2)\n",
    "\n",
    "#     test_set_df = sampled_test.groupBy('User').agg(sf.collect_list('paper_id'))\\\n",
    "#                     .withColumnRenamed('collect_list(paper_id)','test_set')\n",
    "    \n",
    "#     test_set_df.show(2)\n",
    "    \n",
    "    # Creating DF, user, top_k, test_set by joining sampled_test\n",
    "    temp_user_test_topk = temp_grouped_metrics_df.join(sampled_test, temp_grouped_metrics_df.user_hash == sampled_test.User).drop('User')\\\n",
    "                    .withColumnRenamed('PapersID', 'test_set')\n",
    "\n",
    "    temp_user_test_topk.show(2)\n",
    "    \n",
    "    # Creating DF, with precision and recall as new columns\n",
    "    temp_with_precision = temp_user_test_topk.withColumn('result', precision_recall_udf(sampled_test.test_set, temp_user_test_topk.top_k, lit(k)))\\\n",
    "            .select('user_hash', 'test_set', 'top_k', 'result.precision', 'result.recall')\n",
    "\n",
    "    temp_with_precision.show(5)\n",
    "    \n",
    "    # Creating DF with MRR value\n",
    "    temp_mrr_df = temp_with_precision.withColumn('Mrr', mrr_udf(temp_with_precision.test_set ,temp_with_precision.top_k))\n",
    "\n",
    "    temp_mrr_df.show(5)\n",
    "    \n",
    "    return temp_mrr_df"
   ]
  },
  {
   "cell_type": "code",
   "execution_count": 274,
   "metadata": {
    "scrolled": true
   },
   "outputs": [
    {
     "name": "stdout",
     "output_type": "stream",
     "text": [
      "+--------------------+--------------------+\n",
      "|           user_hash|               top_k|\n",
      "+--------------------+--------------------+\n",
      "|aa5363b8b326ed296...|[111664, 1021931,...|\n",
      "|7f4fbc40acceaa303...|[1181259, 1181253...|\n",
      "+--------------------+--------------------+\n",
      "only showing top 2 rows\n",
      "\n",
      "+--------------------+--------------------+--------------------+\n",
      "|           user_hash|               top_k|            test_set|\n",
      "+--------------------+--------------------+--------------------+\n",
      "|aa5363b8b326ed296...|[111664, 1021931,...|[5864612, 4469058...|\n",
      "|7f4fbc40acceaa303...|[1181259, 1181253...|[1817028, 3356924...|\n",
      "+--------------------+--------------------+--------------------+\n",
      "only showing top 2 rows\n",
      "\n",
      "+--------------------+--------------------+--------------------+---------+------+\n",
      "|           user_hash|            test_set|               top_k|precision|recall|\n",
      "+--------------------+--------------------+--------------------+---------+------+\n",
      "|aa5363b8b326ed296...|[5864612, 4469058...|[111664, 1021931,...|      0.0|   0.0|\n",
      "|7f4fbc40acceaa303...|[1817028, 3356924...|[1181259, 1181253...|      0.0|   0.0|\n",
      "|f8d5bbf7acbe1aff8...|[366081, 4446412,...|[1222233, 1079996...|      0.0|   0.0|\n",
      "|ddfafb70578defe12...|[10562063, 602985...|[10857462, 103501...|      0.0|   0.0|\n",
      "|42407318182edf74b...|[4495448, 9536162...|[1187125, 105643,...|      0.0|   0.0|\n",
      "+--------------------+--------------------+--------------------+---------+------+\n",
      "only showing top 5 rows\n",
      "\n",
      "+--------------------+--------------------+--------------------+---------+------+---+\n",
      "|           user_hash|            test_set|               top_k|precision|recall|Mrr|\n",
      "+--------------------+--------------------+--------------------+---------+------+---+\n",
      "|aa5363b8b326ed296...|[5864612, 4469058...|[111664, 1021931,...|      0.0|   0.0|1.0|\n",
      "|7f4fbc40acceaa303...|[1817028, 3356924...|[1181259, 1181253...|      0.0|   0.0|1.0|\n",
      "|f8d5bbf7acbe1aff8...|[366081, 4446412,...|[1222233, 1079996...|      0.0|   0.0|1.0|\n",
      "|ddfafb70578defe12...|[10562063, 602985...|[10857462, 103501...|      0.0|   0.0|1.0|\n",
      "|42407318182edf74b...|[4495448, 9536162...|[1187125, 105643,...|      0.0|   0.0|1.0|\n",
      "+--------------------+--------------------+--------------------+---------+------+---+\n",
      "only showing top 5 rows\n",
      "\n"
     ]
    }
   ],
   "source": [
    "# Creating recommendations for k = 5 and calculating precison, recall and MRR for every sampled user.\n",
    "# prm = precsion, recall and Mrr\n",
    "prm = sampled_precision_recall_mrr(common_users_vecs, sampled_test, 5)"
   ]
  },
  {
   "cell_type": "code",
   "execution_count": 279,
   "metadata": {},
   "outputs": [
    {
     "name": "stdout",
     "output_type": "stream",
     "text": [
      "+--------------+\n",
      "|avg(precision)|\n",
      "+--------------+\n",
      "|           0.0|\n",
      "+--------------+\n",
      "\n",
      "+-----------+\n",
      "|avg(recall)|\n",
      "+-----------+\n",
      "|        0.0|\n",
      "+-----------+\n",
      "\n",
      "+--------+\n",
      "|avg(Mrr)|\n",
      "+--------+\n",
      "|     1.0|\n",
      "+--------+\n",
      "\n"
     ]
    }
   ],
   "source": [
    "# Calculating Average of Precision, Recall and Mrr for k = 5\n",
    "sample_avg_precision = prm.agg(avg(col(\"precision\")))\n",
    "sample_avg_recall = prm.agg(avg(col(\"recall\")))\n",
    "sample_avg_mrr = prm.agg(avg(col('Mrr')))\n",
    "\n",
    "# Showing Results\n",
    "sample_avg_precision.show()\n",
    "sample_avg_recall.show()\n",
    "sample_avg_mrr.show()"
   ]
  },
  {
   "cell_type": "markdown",
   "metadata": {},
   "source": [
    "#### For k = 10 "
   ]
  },
  {
   "cell_type": "code",
   "execution_count": 280,
   "metadata": {
    "scrolled": true
   },
   "outputs": [
    {
     "name": "stdout",
     "output_type": "stream",
     "text": [
      "+--------------------+--------------------+\n",
      "|           user_hash|               top_k|\n",
      "+--------------------+--------------------+\n",
      "|aa5363b8b326ed296...|[111664, 1021931,...|\n",
      "|7f4fbc40acceaa303...|[1181259, 1181253...|\n",
      "+--------------------+--------------------+\n",
      "only showing top 2 rows\n",
      "\n",
      "+--------------------+--------------------+--------------------+\n",
      "|           user_hash|               top_k|            test_set|\n",
      "+--------------------+--------------------+--------------------+\n",
      "|aa5363b8b326ed296...|[111664, 1021931,...|[5864612, 4469058...|\n",
      "|7f4fbc40acceaa303...|[1181259, 1181253...|[1817028, 3356924...|\n",
      "+--------------------+--------------------+--------------------+\n",
      "only showing top 2 rows\n",
      "\n",
      "+--------------------+--------------------+--------------------+---------+------+\n",
      "|           user_hash|            test_set|               top_k|precision|recall|\n",
      "+--------------------+--------------------+--------------------+---------+------+\n",
      "|aa5363b8b326ed296...|[5864612, 4469058...|[111664, 1021931,...|      0.0|   0.0|\n",
      "|7f4fbc40acceaa303...|[1817028, 3356924...|[1181259, 1181253...|      0.0|   0.0|\n",
      "|f8d5bbf7acbe1aff8...|[366081, 4446412,...|[1222233, 1181153...|      0.0|   0.0|\n",
      "|ddfafb70578defe12...|[10562063, 602985...|[10857462, 103501...|      0.0|   0.0|\n",
      "|42407318182edf74b...|[4495448, 9536162...|[1187125, 105643,...|      0.0|   0.0|\n",
      "+--------------------+--------------------+--------------------+---------+------+\n",
      "only showing top 5 rows\n",
      "\n",
      "+--------------------+--------------------+--------------------+---------+------+---+\n",
      "|           user_hash|            test_set|               top_k|precision|recall|Mrr|\n",
      "+--------------------+--------------------+--------------------+---------+------+---+\n",
      "|aa5363b8b326ed296...|[5864612, 4469058...|[111664, 1021931,...|      0.0|   0.0|1.0|\n",
      "|7f4fbc40acceaa303...|[1817028, 3356924...|[1181259, 1181253...|      0.0|   0.0|1.0|\n",
      "|f8d5bbf7acbe1aff8...|[366081, 4446412,...|[1222233, 1181153...|      0.0|   0.0|1.0|\n",
      "|ddfafb70578defe12...|[10562063, 602985...|[10857462, 103501...|      0.0|   0.0|1.0|\n",
      "|42407318182edf74b...|[4495448, 9536162...|[1187125, 105643,...|      0.0|   0.0|1.0|\n",
      "+--------------------+--------------------+--------------------+---------+------+---+\n",
      "only showing top 5 rows\n",
      "\n"
     ]
    }
   ],
   "source": [
    "# Creating recommendations for k = 10 and calculating precison, recall and MRR for every sampled user.\n",
    "prm_10 = sampled_precision_recall_mrr(common_users_vecs, sampled_test, 10)"
   ]
  },
  {
   "cell_type": "code",
   "execution_count": 281,
   "metadata": {},
   "outputs": [
    {
     "name": "stdout",
     "output_type": "stream",
     "text": [
      "+-------------------+\n",
      "|     avg(precision)|\n",
      "+-------------------+\n",
      "|0.02307692342079603|\n",
      "+-------------------+\n",
      "\n",
      "+--------------------+\n",
      "|         avg(recall)|\n",
      "+--------------------+\n",
      "|0.009056877344846725|\n",
      "+--------------------+\n",
      "\n",
      "+----------------+\n",
      "|        avg(Mrr)|\n",
      "+----------------+\n",
      "|0.86996336996337|\n",
      "+----------------+\n",
      "\n"
     ]
    }
   ],
   "source": [
    "# Calculating average precision, recall and MRR for k = 10\n",
    "sample_avg_precision = prm_10.agg(avg(col(\"precision\")))\n",
    "sample_avg_recall = prm_10.agg(avg(col(\"recall\")))\n",
    "sample_avg_mrr = prm_10.agg(avg(col('Mrr')))\n",
    "\n",
    "# Showing Results\n",
    "sample_avg_precision.show()\n",
    "sample_avg_recall.show()\n",
    "sample_avg_mrr.show()"
   ]
  },
  {
   "cell_type": "markdown",
   "metadata": {},
   "source": [
    "#### For k = 30 "
   ]
  },
  {
   "cell_type": "code",
   "execution_count": 282,
   "metadata": {},
   "outputs": [
    {
     "name": "stdout",
     "output_type": "stream",
     "text": [
      "+--------------------+--------------------+\n",
      "|           user_hash|               top_k|\n",
      "+--------------------+--------------------+\n",
      "|aa5363b8b326ed296...|[111664, 1021931,...|\n",
      "|7f4fbc40acceaa303...|[1181259, 1181253...|\n",
      "+--------------------+--------------------+\n",
      "only showing top 2 rows\n",
      "\n",
      "+--------------------+--------------------+--------------------+\n",
      "|           user_hash|               top_k|            test_set|\n",
      "+--------------------+--------------------+--------------------+\n",
      "|aa5363b8b326ed296...|[111664, 1021931,...|[5864612, 4469058...|\n",
      "|7f4fbc40acceaa303...|[1181259, 1181253...|[1817028, 3356924...|\n",
      "+--------------------+--------------------+--------------------+\n",
      "only showing top 2 rows\n",
      "\n",
      "+--------------------+--------------------+--------------------+---------+------+\n",
      "|           user_hash|            test_set|               top_k|precision|recall|\n",
      "+--------------------+--------------------+--------------------+---------+------+\n",
      "|aa5363b8b326ed296...|[5864612, 4469058...|[111664, 1021931,...|      0.0|   0.0|\n",
      "|7f4fbc40acceaa303...|[1817028, 3356924...|[1181259, 1181253...|      0.0|   0.0|\n",
      "|f8d5bbf7acbe1aff8...|[366081, 4446412,...|[1222233, 116260,...|      0.0|   0.0|\n",
      "|ddfafb70578defe12...|[10562063, 602985...|[10857462, 103501...|      0.0|   0.0|\n",
      "|42407318182edf74b...|[4495448, 9536162...|[1187125, 105643,...|      0.0|   0.0|\n",
      "+--------------------+--------------------+--------------------+---------+------+\n",
      "only showing top 5 rows\n",
      "\n",
      "+--------------------+--------------------+--------------------+---------+------+---+\n",
      "|           user_hash|            test_set|               top_k|precision|recall|Mrr|\n",
      "+--------------------+--------------------+--------------------+---------+------+---+\n",
      "|aa5363b8b326ed296...|[5864612, 4469058...|[111664, 1021931,...|      0.0|   0.0|1.0|\n",
      "|7f4fbc40acceaa303...|[1817028, 3356924...|[1181259, 1181253...|      0.0|   0.0|1.0|\n",
      "|f8d5bbf7acbe1aff8...|[366081, 4446412,...|[1222233, 116260,...|      0.0|   0.0|1.0|\n",
      "|ddfafb70578defe12...|[10562063, 602985...|[10857462, 103501...|      0.0|   0.0|1.0|\n",
      "|42407318182edf74b...|[4495448, 9536162...|[1187125, 105643,...|      0.0|   0.0|1.0|\n",
      "+--------------------+--------------------+--------------------+---------+------+---+\n",
      "only showing top 5 rows\n",
      "\n"
     ]
    }
   ],
   "source": [
    "# Creating recommendations for k = 30 and calculating precison, recall and MRR for every sampled user.\n",
    "prm_30 = sampled_precision_recall_mrr(common_users_vecs, sampled_test, 30)"
   ]
  },
  {
   "cell_type": "code",
   "execution_count": 283,
   "metadata": {},
   "outputs": [
    {
     "name": "stdout",
     "output_type": "stream",
     "text": [
      "+--------------------+\n",
      "|      avg(precision)|\n",
      "+--------------------+\n",
      "|0.010256410791323734|\n",
      "+--------------------+\n",
      "\n",
      "+--------------------+\n",
      "|         avg(recall)|\n",
      "+--------------------+\n",
      "|0.014974037328591714|\n",
      "+--------------------+\n",
      "\n",
      "+----------------+\n",
      "|        avg(Mrr)|\n",
      "+----------------+\n",
      "|0.86996336996337|\n",
      "+----------------+\n",
      "\n"
     ]
    }
   ],
   "source": [
    "# Calculating average precision, recall and MRR for k = 30\n",
    "sample_avg_precision = prm_30.agg(avg(col(\"precision\")))\n",
    "sample_avg_recall = prm_30.agg(avg(col(\"recall\")))\n",
    "sample_avg_mrr = prm_30.agg(avg(col('Mrr')))\n",
    "\n",
    "# Showing Results\n",
    "sample_avg_precision.show()\n",
    "sample_avg_recall.show()\n",
    "sample_avg_mrr.show()"
   ]
  },
  {
   "cell_type": "markdown",
   "metadata": {},
   "source": [
    "# Using Sampled data for LDA "
   ]
  },
  {
   "cell_type": "code",
   "execution_count": 285,
   "metadata": {
    "collapsed": true
   },
   "outputs": [
    {
     "data": {
      "text/plain": [
       "['5b0c4c6f84f09ea85bdd9528ce8f9e42',\n",
       " 'f0baca0d108f1490138ad98e4d685a1d',\n",
       " '3e5e03ed6a16af2a0434ac284d465bb8',\n",
       " 'dcb0db5e7f1e041d8f4c9765af80b9fa',\n",
       " '188b2723f7349804c6a237f47b089982',\n",
       " 'fc0d51c63591e5b0b12289c002b065c7',\n",
       " '5a4b773f33cfc52cf4514db72afab665',\n",
       " '04e7b99118265af2550eb8aa585fda4e',\n",
       " 'f8d5bbf7acbe1aff888408c83b40571b',\n",
       " '95aad69fcfd8bdae62a905240c4a5d0f',\n",
       " 'b070c44bb07ed8da88afc638303052f3',\n",
       " 'f1e1cd4ff25018273aafc0c68fbb5a2f',\n",
       " '3feb00e5f45b1cccfb002a7189af5546',\n",
       " '663788a67f42e8d3568b59c04c9b3320',\n",
       " '1675f231acf9d1cbb821f58484910420',\n",
       " 'aa5363b8b326ed29637fc196e97a8145',\n",
       " '7f4fbc40acceaa303c9f0f75a0047bec',\n",
       " '6be56c8606878196bdc7af44975382d0',\n",
       " '3f17484bdd9b3d883abbd6d98d5a39f3',\n",
       " '665c39f48d4ab4e4cfd0f52523d54739']"
      ]
     },
     "execution_count": 285,
     "metadata": {},
     "output_type": "execute_result"
    }
   ],
   "source": [
    "# Getting List of Users from sample test\n",
    "lda_user_list = sampled_test.select('User').limit(20).collect()\n",
    "lda_user_list = [row.User for row in lda_user_list]\n",
    "#lda_user_list"
   ]
  },
  {
   "cell_type": "code",
   "execution_count": 286,
   "metadata": {
    "collapsed": true
   },
   "outputs": [
    {
     "data": {
      "text/plain": [
       "[('f1e1cd4ff25018273aafc0c68fbb5a2f',\n",
       "  SparseVector(40, {0: 0.0343, 1: 0.0031, 2: 0.0031, 3: 0.003, 4: 0.3505, 5: 0.0031, 6: 0.0031, 7: 0.0031, 8: 0.1177, 9: 0.0031, 10: 0.0031, 11: 2.2199, 12: 0.003, 13: 0.0031, 14: 0.1955, 15: 0.1529, 16: 0.0031, 17: 0.0415, 18: 0.1758, 19: 0.7808, 20: 0.0031, 21: 0.003, 22: 0.0031, 23: 0.0031, 24: 0.056, 25: 0.003, 26: 0.0031, 27: 0.0685, 28: 0.1105, 29: 0.003, 30: 0.0031, 31: 0.2642, 32: 0.0031, 33: 0.0496, 34: 0.4644, 35: 0.0031, 36: 0.9958, 37: 0.1667, 38: 0.4182, 39: 0.2731})),\n",
       " ('aa5363b8b326ed29637fc196e97a8145',\n",
       "  SparseVector(40, {0: 0.0018, 1: 0.0018, 2: 0.0018, 3: 0.5463, 4: 0.0018, 5: 0.0018, 6: 0.0018, 7: 0.0018, 8: 0.0018, 9: 0.0018, 10: 0.0018, 11: 0.5386, 12: 0.3052, 13: 0.0018, 14: 0.0018, 15: 0.0018, 16: 0.0018, 17: 0.0018, 18: 0.0018, 19: 0.0018, 20: 0.0018, 21: 0.0018, 22: 0.0018, 23: 0.0018, 24: 0.0018, 25: 0.0018, 26: 0.0018, 27: 0.0621, 28: 0.0018, 29: 0.0018, 30: 0.0018, 31: 0.0919, 32: 0.0018, 33: 0.0018, 34: 0.0018, 35: 0.0018, 36: 0.3943, 37: 0.0018, 38: 0.0018, 39: 0.0018})),\n",
       " ('7f4fbc40acceaa303c9f0f75a0047bec',\n",
       "  SparseVector(40, {0: 4.5556, 1: 0.0126, 2: 0.0126, 3: 0.0125, 4: 0.0128, 5: 0.0126, 6: 0.0126, 7: 0.0127, 8: 0.1505, 9: 0.0126, 10: 0.0126, 11: 0.0128, 12: 0.0125, 13: 0.0127, 14: 0.0129, 15: 0.0127, 16: 0.0126, 17: 0.0125, 18: 0.0126, 19: 0.0129, 20: 0.1431, 21: 0.0124, 22: 0.0126, 23: 0.0126, 24: 0.0126, 25: 0.0125, 26: 0.0126, 27: 0.0126, 28: 0.0127, 29: 0.2231, 30: 0.0127, 31: 0.0126, 32: 0.0126, 33: 0.0128, 34: 0.1511, 35: 0.0126, 36: 0.3472, 37: 0.0127, 38: 0.0126, 39: 0.0127})),\n",
       " ('f8d5bbf7acbe1aff888408c83b40571b',\n",
       "  SparseVector(40, {0: 0.0059, 1: 0.0058, 2: 0.0058, 3: 0.1376, 4: 0.0059, 5: 0.0058, 6: 0.0058, 7: 0.2407, 8: 0.0058, 9: 0.0058, 10: 0.0058, 11: 1.1381, 12: 0.1612, 13: 0.1919, 14: 0.0059, 15: 0.0059, 16: 0.4042, 17: 0.0058, 18: 1.0359, 19: 2.3582, 20: 0.0058, 21: 0.0057, 22: 0.2702, 23: 0.0058, 24: 0.0058, 25: 0.1094, 26: 0.2111, 27: 0.0959, 28: 0.3628, 29: 0.0058, 30: 0.0058, 31: 0.0058, 32: 0.2744, 33: 0.0059, 34: 0.0058, 35: 0.0058, 36: 0.6449, 37: 0.0058, 38: 0.0058, 39: 0.2238})),\n",
       " ('3e5e03ed6a16af2a0434ac284d465bb8',\n",
       "  SparseVector(40, {0: 0.3102, 1: 0.0981, 2: 0.0979, 3: 0.2778, 4: 0.0995, 5: 0.0977, 6: 1.7819, 7: 0.6069, 8: 0.6424, 9: 0.1438, 10: 1.1899, 11: 0.415, 12: 0.0972, 13: 0.5527, 14: 0.1003, 15: 0.2849, 16: 0.0978, 17: 0.5464, 18: 0.0983, 19: 9.5952, 20: 0.0975, 21: 0.0964, 22: 0.3552, 23: 0.653, 24: 0.0976, 25: 0.3557, 26: 0.8949, 27: 2.337, 28: 0.6517, 29: 0.0973, 30: 0.0983, 31: 0.0979, 32: 1.3174, 33: 0.0991, 34: 0.9355, 35: 0.9714, 36: 2.8727, 37: 0.3104, 38: 0.1323, 39: 0.3949})),\n",
       " ('fc0d51c63591e5b0b12289c002b065c7',\n",
       "  SparseVector(40, {0: 0.6728, 1: 0.1294, 2: 0.1292, 3: 0.4929, 4: 0.7516, 5: 0.129, 6: 0.1798, 7: 5.3884, 8: 3.9479, 9: 1.9749, 10: 0.5709, 11: 0.1308, 12: 0.1566, 13: 1.3524, 14: 0.675, 15: 0.1701, 16: 1.9509, 17: 1.3823, 18: 2.9703, 19: 3.2909, 20: 0.1287, 21: 0.1273, 22: 0.7559, 23: 0.7664, 24: 0.1382, 25: 0.2016, 26: 0.1288, 27: 0.2729, 28: 0.3708, 29: 0.1284, 30: 0.9312, 31: 0.1293, 32: 1.0427, 33: 0.8643, 34: 0.7239, 35: 0.3365, 36: 1.8592, 37: 0.1299, 38: 0.3879, 39: 0.1299})),\n",
       " ('5b0c4c6f84f09ea85bdd9528ce8f9e42',\n",
       "  SparseVector(40, {0: 0.1577, 1: 0.0003, 2: 0.0003, 3: 0.0003, 4: 0.0003, 5: 0.0003, 6: 0.0003, 7: 0.0003, 8: 0.0003, 9: 0.0003, 10: 0.0003, 11: 0.0003, 12: 0.0003, 13: 0.0003, 14: 0.0003, 15: 0.5073, 16: 0.0003, 17: 0.0003, 18: 0.0003, 19: 0.3243, 20: 0.0003, 21: 0.0003, 22: 0.0003, 23: 0.0003, 24: 0.0003, 25: 0.0003, 26: 0.0003, 27: 0.0003, 28: 0.0003, 29: 0.0003, 30: 0.0003, 31: 0.0003, 32: 0.0003, 33: 0.0003, 34: 0.0003, 35: 0.0003, 36: 0.0003, 37: 0.0003, 38: 0.0003, 39: 0.0003})),\n",
       " ('5a4b773f33cfc52cf4514db72afab665',\n",
       "  SparseVector(40, {0: 0.0636, 1: 0.0631, 2: 0.9212, 3: 0.0625, 4: 0.064, 5: 0.0629, 6: 0.0629, 7: 0.0636, 8: 0.9619, 9: 0.063, 10: 0.6449, 11: 0.0638, 12: 0.0625, 13: 0.0633, 14: 0.0645, 15: 0.0635, 16: 0.0629, 17: 0.8143, 18: 0.3139, 19: 0.0645, 20: 0.0627, 21: 0.062, 22: 0.063, 23: 0.0628, 24: 0.8793, 25: 0.0627, 26: 0.0628, 27: 0.0631, 28: 0.0636, 29: 1.3271, 30: 0.0633, 31: 0.063, 32: 0.063, 33: 0.0638, 34: 0.5216, 35: 0.6792, 36: 0.0643, 37: 0.0633, 38: 1.0389, 39: 0.0633})),\n",
       " ('04e7b99118265af2550eb8aa585fda4e',\n",
       "  SparseVector(40, {0: 0.0158, 1: 0.0156, 2: 0.0156, 3: 0.0155, 4: 0.0159, 5: 0.0156, 6: 0.0156, 7: 0.0158, 8: 0.0157, 9: 0.0156, 10: 0.0156, 11: 0.0158, 12: 0.0155, 13: 0.0157, 14: 0.016, 15: 0.0157, 16: 0.0156, 17: 0.0155, 18: 0.0157, 19: 1.5414, 20: 0.0155, 21: 0.0154, 22: 0.0156, 23: 0.0156, 24: 0.0156, 25: 0.0155, 26: 0.0156, 27: 0.2163, 28: 0.1614, 29: 0.0155, 30: 0.0157, 31: 0.0156, 32: 0.0156, 33: 0.0158, 34: 0.0157, 35: 0.0156, 36: 0.5181, 37: 0.0157, 38: 0.0156, 39: 0.0157})),\n",
       " ('665c39f48d4ab4e4cfd0f52523d54739',\n",
       "  SparseVector(40, {0: 0.0008, 1: 0.0008, 2: 0.0008, 3: 0.0008, 4: 0.0008, 5: 0.0008, 6: 0.0008, 7: 0.0008, 8: 0.0008, 9: 0.0008, 10: 0.0008, 11: 0.0008, 12: 0.0008, 13: 0.0008, 14: 0.0008, 15: 0.0008, 16: 0.0008, 17: 0.0008, 18: 0.0008, 19: 0.0008, 20: 0.0008, 21: 0.0008, 22: 0.1939, 23: 0.0008, 24: 0.0008, 25: 0.0008, 26: 0.0008, 27: 0.0008, 28: 0.0008, 29: 0.0008, 30: 0.0008, 31: 0.0008, 32: 0.0008, 33: 0.0008, 34: 0.0008, 35: 0.0008, 36: 0.7747, 37: 0.0008, 38: 0.0008, 39: 0.0008})),\n",
       " ('f0baca0d108f1490138ad98e4d685a1d',\n",
       "  SparseVector(40, {0: 0.0397, 1: 0.0394, 2: 0.0393, 3: 1.3537, 4: 0.04, 5: 0.1952, 6: 0.3524, 7: 0.0397, 8: 0.2655, 9: 0.0393, 10: 1.5479, 11: 11.1737, 12: 0.5708, 13: 0.6242, 14: 0.3884, 15: 0.0396, 16: 0.6286, 17: 0.5816, 18: 0.7398, 19: 4.3272, 20: 0.1483, 21: 0.0387, 22: 0.0393, 23: 0.0392, 24: 0.0392, 25: 0.3117, 26: 0.3672, 27: 0.3858, 28: 0.7553, 29: 0.0391, 30: 1.2455, 31: 0.4777, 32: 0.0393, 33: 0.0398, 34: 0.0396, 35: 0.1193, 36: 3.4937, 37: 0.191, 38: 0.8184, 39: 1.346})),\n",
       " ('3feb00e5f45b1cccfb002a7189af5546',\n",
       "  SparseVector(40, {0: 0.0133, 1: 0.0132, 2: 0.0132, 3: 0.0131, 4: 0.0134, 5: 0.0131, 6: 0.5524, 7: 0.0133, 8: 0.0132, 9: 0.0132, 10: 0.2607, 11: 0.0133, 12: 0.0131, 13: 0.0132, 14: 1.9839, 15: 0.0133, 16: 0.0132, 17: 0.0131, 18: 0.0132, 19: 0.0135, 20: 0.0131, 21: 0.013, 22: 0.0132, 23: 0.0131, 24: 0.0131, 25: 0.0131, 26: 0.0131, 27: 0.0685, 28: 0.139, 29: 0.0131, 30: 0.0132, 31: 0.0132, 32: 0.0132, 33: 0.0133, 34: 0.0133, 35: 0.2412, 36: 0.0135, 37: 1.3188, 38: 0.0131, 39: 0.0132})),\n",
       " ('95aad69fcfd8bdae62a905240c4a5d0f',\n",
       "  SparseVector(40, {0: 0.0003, 1: 0.0003, 2: 0.0003, 3: 0.0003, 4: 0.0003, 5: 0.0003, 6: 0.0003, 7: 0.0003, 8: 0.0003, 9: 0.0003, 10: 0.0003, 11: 0.0003, 12: 0.0003, 13: 0.0003, 14: 0.0003, 15: 0.1197, 16: 0.0003, 17: 0.1085, 18: 0.0003, 19: 0.6771, 20: 0.0003, 21: 0.0003, 22: 0.0003, 23: 0.0003, 24: 0.0003, 25: 0.0003, 26: 0.0003, 27: 0.0848, 28: 0.0003, 29: 0.0003, 30: 0.0003, 31: 0.0003, 32: 0.0003, 33: 0.0003, 34: 0.0003, 35: 0.0003, 36: 0.0003, 37: 0.0003, 38: 0.0003, 39: 0.0003}))]"
      ]
     },
     "execution_count": 286,
     "metadata": {},
     "output_type": "execute_result"
    }
   ],
   "source": [
    "# Finding common users between sampled_test and sampled_20_lda\n",
    "common_user = sampled_20_lda.filter(sf.col('User').isin(lda_user_list))\n",
    "lda_common_user_vecs = common_user.select('*').limit(20).rdd.map(lambda x: (x[0], x[1])).collect()\n",
    "\n",
    "#lda_common_user_vecs"
   ]
  },
  {
   "cell_type": "code",
   "execution_count": 287,
   "metadata": {},
   "outputs": [],
   "source": [
    "# Sampled Users vectors and number of recommendations in form of k.\n",
    "# returns DF containing recommendations and Precision, Recall, MRR as columns.\n",
    "def sampled_precision_recall_mrr_lda(user_vectors, sampled_test, k):\n",
    "    \n",
    "    #Getting k Recommendations \n",
    "    temp_recs = get_lda_SimilarPaper(user_vectors, k)\n",
    "\n",
    "    #temp_recs.printSchema()\n",
    "\n",
    "    # Creating DF as user_hash, Recommendations\n",
    "    temp_metrics_df = temp_recs.select('User', 'paper_id').withColumnRenamed('User', 'user_hash')\n",
    "    \n",
    "    # Creating DF, user_hash, top_k recommendations\n",
    "    temp_grouped_metrics_df = temp_metrics_df.groupBy('user_hash').agg(sf.collect_list('paper_id'))\\\n",
    "                        .withColumnRenamed('collect_list(paper_id)','top_k')\n",
    "\n",
    "    temp_grouped_metrics_df.show(2)\n",
    "\n",
    "    \n",
    "    # Creating DF, user, top_k, test_set by joining on sampled_test\n",
    "    temp_user_test_topk = temp_grouped_metrics_df.join(sampled_test, temp_grouped_metrics_df.user_hash == sampled_test.User).drop('User')\\\n",
    "                    .withColumnRenamed('PapersID', 'test_set')\n",
    "\n",
    "    temp_user_test_topk.show(2)\n",
    "    \n",
    "    # Creating DF, with precision and recall as new columns\n",
    "    temp_with_precision = temp_user_test_topk.withColumn('result', precision_recall_udf(sampled_test.test_set, temp_user_test_topk.top_k, lit(k)))\\\n",
    "            .select('user_hash', 'test_set', 'top_k', 'result.precision', 'result.recall')\n",
    "\n",
    "    temp_with_precision.show(5)\n",
    "    \n",
    "    # Creating DF with MRR value\n",
    "    temp_mrr_df = temp_with_precision.withColumn('Mrr', mrr_udf(temp_with_precision.test_set ,temp_with_precision.top_k))\n",
    "\n",
    "    temp_mrr_df.show(5)\n",
    "    \n",
    "    return temp_mrr_df"
   ]
  },
  {
   "cell_type": "markdown",
   "metadata": {},
   "source": [
    "#### For k = 5"
   ]
  },
  {
   "cell_type": "code",
   "execution_count": 289,
   "metadata": {
    "scrolled": true
   },
   "outputs": [
    {
     "name": "stdout",
     "output_type": "stream",
     "text": [
      "+--------------------+--------------------+\n",
      "|           user_hash|               top_k|\n",
      "+--------------------+--------------------+\n",
      "|f1e1cd4ff25018273...|[12007316, 113955...|\n",
      "|aa5363b8b326ed296...|[1088914, 115884,...|\n",
      "+--------------------+--------------------+\n",
      "only showing top 2 rows\n",
      "\n",
      "+--------------------+--------------------+--------------------+\n",
      "|           user_hash|               top_k|            test_set|\n",
      "+--------------------+--------------------+--------------------+\n",
      "|f1e1cd4ff25018273...|[12007316, 113955...|[136656, 843446, ...|\n",
      "|aa5363b8b326ed296...|[1088914, 115884,...|[5864612, 4469058...|\n",
      "+--------------------+--------------------+--------------------+\n",
      "only showing top 2 rows\n",
      "\n",
      "+--------------------+--------------------+--------------------+---------+------+\n",
      "|           user_hash|            test_set|               top_k|precision|recall|\n",
      "+--------------------+--------------------+--------------------+---------+------+\n",
      "|f1e1cd4ff25018273...|[136656, 843446, ...|[12007316, 113955...|      0.0|   0.0|\n",
      "|aa5363b8b326ed296...|[5864612, 4469058...|[1088914, 115884,...|      0.0|   0.0|\n",
      "|7f4fbc40acceaa303...|[1817028, 3356924...|[10316064, 104294...|      0.0|   0.0|\n",
      "|f8d5bbf7acbe1aff8...|[366081, 4446412,...|[115155, 1213851,...|      0.0|   0.0|\n",
      "|3e5e03ed6a16af2a0...|[381876, 1021901,...|[1029079, 1100125...|      0.0|   0.0|\n",
      "+--------------------+--------------------+--------------------+---------+------+\n",
      "only showing top 5 rows\n",
      "\n",
      "+--------------------+--------------------+--------------------+---------+------+---+\n",
      "|           user_hash|            test_set|               top_k|precision|recall|Mrr|\n",
      "+--------------------+--------------------+--------------------+---------+------+---+\n",
      "|f1e1cd4ff25018273...|[136656, 843446, ...|[12007316, 113955...|      0.0|   0.0|1.0|\n",
      "|aa5363b8b326ed296...|[5864612, 4469058...|[1088914, 115884,...|      0.0|   0.0|1.0|\n",
      "|7f4fbc40acceaa303...|[1817028, 3356924...|[10316064, 104294...|      0.0|   0.0|1.0|\n",
      "|f8d5bbf7acbe1aff8...|[366081, 4446412,...|[115155, 1213851,...|      0.0|   0.0|1.0|\n",
      "|3e5e03ed6a16af2a0...|[381876, 1021901,...|[1029079, 1100125...|      0.0|   0.0|1.0|\n",
      "+--------------------+--------------------+--------------------+---------+------+---+\n",
      "only showing top 5 rows\n",
      "\n"
     ]
    }
   ],
   "source": [
    "# Precision Recall MRR values for LDA Sample for k = 5\n",
    "# lda_prm = lda precision, recall and mrr\n",
    "lda_prm = sampled_precision_recall_mrr_lda(lda_common_user_vecs, sampled_test, 5)"
   ]
  },
  {
   "cell_type": "code",
   "execution_count": 290,
   "metadata": {},
   "outputs": [
    {
     "name": "stdout",
     "output_type": "stream",
     "text": [
      "Sample Results for k = 5\n",
      "+--------------+\n",
      "|avg(precision)|\n",
      "+--------------+\n",
      "|           0.0|\n",
      "+--------------+\n",
      "\n",
      "+-----------+\n",
      "|avg(recall)|\n",
      "+-----------+\n",
      "|        0.0|\n",
      "+-----------+\n",
      "\n",
      "+--------+\n",
      "|avg(Mrr)|\n",
      "+--------+\n",
      "|     1.0|\n",
      "+--------+\n",
      "\n"
     ]
    }
   ],
   "source": [
    "sample_avg_precision = lda_prm.agg(avg(col(\"precision\")))\n",
    "sample_avg_recall = lda_prm.agg(avg(col(\"recall\")))\n",
    "sample_avg_mrr = lda_prm.agg(avg(col('Mrr')))\n",
    "\n",
    "# Showing Results\n",
    "print('Sample Results for k = 5')\n",
    "sample_avg_precision.show()\n",
    "sample_avg_recall.show()\n",
    "sample_avg_mrr.show()"
   ]
  },
  {
   "cell_type": "markdown",
   "metadata": {},
   "source": [
    "#### For k = 10 "
   ]
  },
  {
   "cell_type": "code",
   "execution_count": 291,
   "metadata": {},
   "outputs": [
    {
     "name": "stdout",
     "output_type": "stream",
     "text": [
      "+--------------------+--------------------+\n",
      "|           user_hash|               top_k|\n",
      "+--------------------+--------------------+\n",
      "|f1e1cd4ff25018273...|[12007316, 113955...|\n",
      "|aa5363b8b326ed296...|[1088914, 115884,...|\n",
      "+--------------------+--------------------+\n",
      "only showing top 2 rows\n",
      "\n",
      "+--------------------+--------------------+--------------------+\n",
      "|           user_hash|               top_k|            test_set|\n",
      "+--------------------+--------------------+--------------------+\n",
      "|f1e1cd4ff25018273...|[12007316, 113955...|[136656, 843446, ...|\n",
      "|aa5363b8b326ed296...|[1088914, 115884,...|[5864612, 4469058...|\n",
      "+--------------------+--------------------+--------------------+\n",
      "only showing top 2 rows\n",
      "\n",
      "+--------------------+--------------------+--------------------+---------+------+\n",
      "|           user_hash|            test_set|               top_k|precision|recall|\n",
      "+--------------------+--------------------+--------------------+---------+------+\n",
      "|f1e1cd4ff25018273...|[136656, 843446, ...|[12007316, 113955...|      0.0|   0.0|\n",
      "|aa5363b8b326ed296...|[5864612, 4469058...|[1088914, 115884,...|      0.0|   0.0|\n",
      "|7f4fbc40acceaa303...|[1817028, 3356924...|[10574278, 108803...|      0.0|   0.0|\n",
      "|f8d5bbf7acbe1aff8...|[366081, 4446412,...|[115155, 1213851,...|      0.0|   0.0|\n",
      "|3e5e03ed6a16af2a0...|[381876, 1021901,...|[1029079, 1100125...|      0.0|   0.0|\n",
      "+--------------------+--------------------+--------------------+---------+------+\n",
      "only showing top 5 rows\n",
      "\n",
      "+--------------------+--------------------+--------------------+---------+------+---+\n",
      "|           user_hash|            test_set|               top_k|precision|recall|Mrr|\n",
      "+--------------------+--------------------+--------------------+---------+------+---+\n",
      "|f1e1cd4ff25018273...|[136656, 843446, ...|[12007316, 113955...|      0.0|   0.0|1.0|\n",
      "|aa5363b8b326ed296...|[5864612, 4469058...|[1088914, 115884,...|      0.0|   0.0|1.0|\n",
      "|7f4fbc40acceaa303...|[1817028, 3356924...|[10574278, 108803...|      0.0|   0.0|1.0|\n",
      "|f8d5bbf7acbe1aff8...|[366081, 4446412,...|[115155, 1213851,...|      0.0|   0.0|1.0|\n",
      "|3e5e03ed6a16af2a0...|[381876, 1021901,...|[1029079, 1100125...|      0.0|   0.0|1.0|\n",
      "+--------------------+--------------------+--------------------+---------+------+---+\n",
      "only showing top 5 rows\n",
      "\n",
      "Sample Results for k = 10\n",
      "+--------------+\n",
      "|avg(precision)|\n",
      "+--------------+\n",
      "|           0.0|\n",
      "+--------------+\n",
      "\n",
      "+-----------+\n",
      "|avg(recall)|\n",
      "+-----------+\n",
      "|        0.0|\n",
      "+-----------+\n",
      "\n",
      "+--------+\n",
      "|avg(Mrr)|\n",
      "+--------+\n",
      "|     1.0|\n",
      "+--------+\n",
      "\n"
     ]
    }
   ],
   "source": [
    "# Calculating the Precision Recall and MRR value for k = 10 using LDA\n",
    "lda_prm_10 = sampled_precision_recall_mrr_lda(lda_common_user_vecs, sampled_test, 10)\n",
    "\n",
    "#Calculating Averages of Precision Recall and MRR\n",
    "sample_avg_precision = lda_prm_10.agg(avg(col(\"precision\")))\n",
    "sample_avg_recall = lda_prm_10.agg(avg(col(\"recall\")))\n",
    "sample_avg_mrr = lda_prm_10.agg(avg(col('Mrr')))\n",
    "\n",
    "# Showing Results\n",
    "print('Sample Results for k = 10')\n",
    "sample_avg_precision.show()\n",
    "sample_avg_recall.show()\n",
    "sample_avg_mrr.show()"
   ]
  },
  {
   "cell_type": "markdown",
   "metadata": {},
   "source": [
    "#### For k = 30 "
   ]
  },
  {
   "cell_type": "code",
   "execution_count": 292,
   "metadata": {},
   "outputs": [
    {
     "name": "stdout",
     "output_type": "stream",
     "text": [
      "+--------------------+--------------------+\n",
      "|           user_hash|               top_k|\n",
      "+--------------------+--------------------+\n",
      "|f1e1cd4ff25018273...|[12007316, 113955...|\n",
      "|aa5363b8b326ed296...|[1088914, 115884,...|\n",
      "+--------------------+--------------------+\n",
      "only showing top 2 rows\n",
      "\n",
      "+--------------------+--------------------+--------------------+\n",
      "|           user_hash|               top_k|            test_set|\n",
      "+--------------------+--------------------+--------------------+\n",
      "|f1e1cd4ff25018273...|[12007316, 113955...|[136656, 843446, ...|\n",
      "|aa5363b8b326ed296...|[1088914, 115884,...|[5864612, 4469058...|\n",
      "+--------------------+--------------------+--------------------+\n",
      "only showing top 2 rows\n",
      "\n",
      "+--------------------+--------------------+--------------------+---------+------+\n",
      "|           user_hash|            test_set|               top_k|precision|recall|\n",
      "+--------------------+--------------------+--------------------+---------+------+\n",
      "|f1e1cd4ff25018273...|[136656, 843446, ...|[12007316, 113955...|      0.0|   0.0|\n",
      "|aa5363b8b326ed296...|[5864612, 4469058...|[1088914, 115884,...|      0.0|   0.0|\n",
      "|7f4fbc40acceaa303...|[1817028, 3356924...|[10574278, 111797...|      0.0|   0.0|\n",
      "|f8d5bbf7acbe1aff8...|[366081, 4446412,...|[115155, 1213851,...|      0.0|   0.0|\n",
      "|3e5e03ed6a16af2a0...|[381876, 1021901,...|[1029079, 1100125...|      0.0|   0.0|\n",
      "+--------------------+--------------------+--------------------+---------+------+\n",
      "only showing top 5 rows\n",
      "\n",
      "+--------------------+--------------------+--------------------+---------+------+---+\n",
      "|           user_hash|            test_set|               top_k|precision|recall|Mrr|\n",
      "+--------------------+--------------------+--------------------+---------+------+---+\n",
      "|f1e1cd4ff25018273...|[136656, 843446, ...|[12007316, 113955...|      0.0|   0.0|1.0|\n",
      "|aa5363b8b326ed296...|[5864612, 4469058...|[1088914, 115884,...|      0.0|   0.0|1.0|\n",
      "|7f4fbc40acceaa303...|[1817028, 3356924...|[10574278, 111797...|      0.0|   0.0|1.0|\n",
      "|f8d5bbf7acbe1aff8...|[366081, 4446412,...|[115155, 1213851,...|      0.0|   0.0|1.0|\n",
      "|3e5e03ed6a16af2a0...|[381876, 1021901,...|[1029079, 1100125...|      0.0|   0.0|1.0|\n",
      "+--------------------+--------------------+--------------------+---------+------+---+\n",
      "only showing top 5 rows\n",
      "\n",
      "Sample Results for k = 30\n",
      "+--------------------+\n",
      "|      avg(precision)|\n",
      "+--------------------+\n",
      "|0.002564102697830...|\n",
      "+--------------------+\n",
      "\n",
      "+-------------------+\n",
      "|        avg(recall)|\n",
      "+-------------------+\n",
      "|0.01098901148025806|\n",
      "+-------------------+\n",
      "\n",
      "+------------------+\n",
      "|          avg(Mrr)|\n",
      "+------------------+\n",
      "|0.9278846153846154|\n",
      "+------------------+\n",
      "\n"
     ]
    }
   ],
   "source": [
    "# Calculating the Precision Recall and MRR value for k = 30 using LDA\n",
    "lda_prm_30 = sampled_precision_recall_mrr_lda(lda_common_user_vecs, sampled_test, 30)\n",
    "\n",
    "#Calculating Averages of Precision Recall and MRR\n",
    "sample_avg_precision = lda_prm_30.agg(avg(col(\"precision\")))\n",
    "sample_avg_recall = lda_prm_30.agg(avg(col(\"recall\")))\n",
    "sample_avg_mrr = lda_prm_30.agg(avg(col('Mrr')))\n",
    "\n",
    "# Showing Results\n",
    "print('Sample Results for k = 30')\n",
    "sample_avg_precision.show()\n",
    "sample_avg_recall.show()\n",
    "sample_avg_mrr.show()"
   ]
  },
  {
   "cell_type": "markdown",
   "metadata": {},
   "source": [
    "#### Observations based on values of Precision, Recall and MRR for k = [5,10,30]\n",
    "\n",
    "For k = 5, we can see that both CBRS tf-idf and CBRS lda, perform similarly, we didnt see much difference in precision, recall and mrr values. But for k = 10, we can clearly see that the CBRS tf-idf has more hits than CBRS lda, which means it performed better than lda. Also for k = 30 CBRS tf-idf has more hits than CBRS lda and has more precision and almost similar recall whereas MRR value of LDA is greater in this case.\n",
    "Overall observation: CBRS tf-idf has performed better than the CBRS lda "
   ]
  },
  {
   "cell_type": "code",
   "execution_count": null,
   "metadata": {},
   "outputs": [],
   "source": []
  }
 ],
 "metadata": {
  "kernelspec": {
   "display_name": "Python 3",
   "language": "python",
   "name": "python3"
  },
  "language_info": {
   "codemirror_mode": {
    "name": "ipython",
    "version": 3
   },
   "file_extension": ".py",
   "mimetype": "text/x-python",
   "name": "python",
   "nbconvert_exporter": "python",
   "pygments_lexer": "ipython3",
   "version": "3.8.3"
  }
 },
 "nbformat": 4,
 "nbformat_minor": 4
}
