{
 "cells": [
  {
   "cell_type": "markdown",
   "metadata": {},
   "source": [
    "# Name: Umad ul hassan Rai\n",
    "# Exercise 1\n",
   ]
  },
  {
   "cell_type": "code",
   "execution_count": 2,
   "metadata": {},
   "outputs": [],
   "source": [
    "from pyspark.sql import SparkSession\n",
    "from pyspark.sql import SQLContext\n",
    "from pyspark.sql.types import *\n",
    "from pyspark.sql.types import StringType\n",
    "from pyspark.sql.types import StructType\n",
    "from pyspark.sql.types import StructField\n",
    "from pyspark.sql import Row\n",
    "import pyspark\n",
    "import csv\n",
    "from pyspark.sql.functions import concat, col, lit, split, udf, size\n",
    "from pyspark.sql import functions as sf\n",
    "from operator import add\n",
    "import time\n"
   ]
  },
  {
   "cell_type": "code",
   "execution_count": 3,
   "metadata": {},
   "outputs": [],
   "source": [
    "# initialise Spark Session\n",
    "sparkSession = SparkSession.builder.appName(\"Exercise1\").getOrCreate()\n",
    "sc = sparkSession.sparkContext\n",
    "sqlC = SQLContext(sc)"
   ]
  },
  {
   "cell_type": "markdown",
   "metadata": {},
   "source": [
    "# Exercise 1.2"
   ]
  },
  {
   "cell_type": "code",
   "execution_count": 4,
   "metadata": {},
   "outputs": [
    {
     "data": {
      "text/plain": [
       "[('28d3f81251d94b09735497477a5e4e02',\n",
       "  ['3929762',\n",
       "   '503574',\n",
       "   '5819422',\n",
       "   '4238883',\n",
       "   '5788061',\n",
       "   '462949',\n",
       "   '635215',\n",
       "   '635216',\n",
       "   '4810441',\n",
       "   '3481823',\n",
       "   '4165233',\n",
       "   '3366480',\n",
       "   '5984302',\n",
       "   '4238942',\n",
       "   '5490453',\n",
       "   '4636156',\n",
       "   '5996865',\n",
       "   '4194836',\n",
       "   '5828780',\n",
       "   '4450195'])]"
      ]
     },
     "execution_count": 4,
     "metadata": {},
     "output_type": "execute_result"
    }
   ],
   "source": [
    "# I have measure time for exercise 1.3 which i have put in comments\n",
    "# Top 10 word count took around 46 mintues to complete \n",
    "\n",
    "# Creating userRating RDD from users_libraries.\n",
    "rdd1 = sparkSession.sparkContext.textFile(\"users_libraries.txt\")\n",
    "userRatingsRDD = rdd1.map(lambda x: (x.split(';')[0], x.split(';')[1].split(',')))\n",
    "\n",
    "# Extracting key/value pair from key/values(list) so i can join\n",
    "exploded = userRatingsRDD.flatMap(lambda l: [(l[0], value) for value in l[1]])\n",
    "\n",
    "#Reversing rdd to paper_id/User to perform join on papersTermRdd\n",
    "reversed_ = exploded.map(lambda x: (x[1],x[0]))\n",
    "\n",
    "userRatingsRDD.take(1)\n",
    "#reversed_.take(10)\n",
    "#exploded.take(10)"
   ]
  },
  {
   "cell_type": "code",
   "execution_count": 22,
   "metadata": {},
   "outputs": [
    {
     "data": {
      "text/plain": [
       "[('80546',\n",
       "  \"the genetic code has been regarded as arbitrary in the sense that the codon-amino acid assignments could be different than they actually are. this general idea has been spelled out differently by previous, often rather implicit accounts of arbitrariness. they have drawn on the frozen accident theory, on evolutionary contingency, on alternative causal pathways, and on the absence of direct stereochemical interactions between codons and amino acids. it has also been suggested that the arbitrariness of the genetic code justifies attributing semantic information to macromolecules, notably to {dna}. i argue that these accounts of arbitrariness are unsatisfactory. i propose that the code is arbitrary in the sense of jacques monod's concept of chemical arbitrariness: the genetic code is arbitrary in that any codon requires certain chemical and structural properties to specify a particular amino acid, but these properties are not required in virtue of a principle of chemistry. this notion of arbitrariness is compatible with several recent hypotheses about code evolution. i maintain that the code's chemical arbitrariness is neither sufficient nor necessary for attributing semantic information to nucleic acids.\"),\n",
       " ('5842862',\n",
       "  'choosing good problems is essential for being a good scientist. but what is a good problem, and how do you choose one? the subject is not usually discussed explicitly within our profession. scientists are expected to be smart enough to figure it out on their own and through the observation of their teachers. this lack of explicit discussion leaves a vacuum that can lead to approaches such as choosing problems that can give results that merit publication in valued journals, resulting in a job and tenure.')]"
      ]
     },
     "execution_count": 22,
     "metadata": {},
     "output_type": "execute_result"
    }
   ],
   "source": [
    "# Using csv to parse the papers.CSV file to map paper id and abstract as Key/Value\n",
    "# Also allows to replace null bytes in csv file.\n",
    "# Creating paperTermsRDD\n",
    "rdd2 = sparkSession.sparkContext.textFile(\"papers.csv\")\n",
    "paperTermsRDD = rdd2.map(lambda line: next(csv.reader(x.replace(\"\\x00\", \"\") for x in [line]))) \\\n",
    "                    .map(lambda fields: (fields[0], fields[14]))\n",
    "paperTermsRDD.take(2)"
   ]
  },
  {
   "cell_type": "markdown",
   "metadata": {},
   "source": [
    "# Exercise 1.3"
   ]
  },
  {
   "cell_type": "code",
   "execution_count": null,
   "metadata": {},
   "outputs": [],
   "source": [
    "# BroadCasting StopWords\n",
    "# Timer\n",
    "start = time.time()\n",
    "data = [word.rstrip() for word in open(\"stopwords_en.txt\", 'r').readlines()]\n",
    "broadcastVar = sc.broadcast(data)\n",
    "# broadcastVar.value"
   ]
  },
  {
   "cell_type": "code",
   "execution_count": null,
   "metadata": {},
   "outputs": [],
   "source": [
    "# Joined UserRatingsRDD(Reversed) with PaperTermsRDD\n",
    "joinedRDD = reversed_.join(paperTermsRDD)\n",
    "\n",
    "# joinedRDD.take(20)\n",
    "\n",
    "user_abs = joinedRDD.map(lambda x: (x[1][0], x[1][1]))\n",
    "\n",
    "# user_abs.take(20)\n"
   ]
  },
  {
   "cell_type": "code",
   "execution_count": null,
   "metadata": {},
   "outputs": [],
   "source": [
    "# Reduced by key before counting words for each user.\n",
    "grouped = user_abs.reduceByKey(lambda x,y: x + y)\n",
    "#grouped.take(2)"
   ]
  },
  {
   "cell_type": "code",
   "execution_count": null,
   "metadata": {},
   "outputs": [],
   "source": [
    "#Remove punctuations to make the text clear and can be split on ' '\n",
    "def lower_clean_str(x):\n",
    "  punc='!\"#$%&\\'()*+,./:;<=>?@[\\\\]^_`{|}~-'\n",
    "  lowercased_str = x[1].lower()\n",
    "  for ch in punc:\n",
    "    lowercased_str = lowercased_str.replace(ch, '')\n",
    "  return x[0], lowercased_str\n",
    "\n",
    "punc = grouped.map(lower_clean_str)\n",
    "\n",
    "#punc.take(1)\n"
   ]
  },
  {
   "cell_type": "code",
   "execution_count": null,
   "metadata": {},
   "outputs": [],
   "source": [
    "# Creating Combiner, to use it as combineByKey\n",
    "createCombiner = (lambda el: [el]) \n",
    "mergeVal = (lambda aggregated, el: aggregated + [el]) # append to aggregated\n",
    "mergeComb = (lambda agg1,agg2: agg1 + agg2 )  # append agg1 with agg2\n",
    "\n",
    "# Counting words and Combining then using key.\n",
    "new = punc.map(lambda x: [((x[0], a), 1) for a in x[1].split(' ')]).flatMap(lambda l : l).reduceByKey(add)\\\n",
    "        .filter(lambda x: x[0][1] not in broadcastVar.value).sortBy(lambda x: x[1], False)\\\n",
    "        .map(lambda x: (x[0][0], x[0][1])).combineByKey(cComb,mVal,mComb)\n",
    "rdd_new = new.map(lambda x: (x[0], x[1][0:10]))\n",
    "#rdd_new.take(10)\n",
    "print(\"Time: \", end-start )\n",
    "\n",
    "# 2750.50794 secs"
   ]
  },
  {
   "cell_type": "code",
   "execution_count": null,
   "metadata": {},
   "outputs": [],
   "source": [
    "# Writing RDD to file\n",
    "rdd_new.coalesce(1).saveAsTextFile(\"Result\")"
   ]
  },
  {
   "cell_type": "markdown",
   "metadata": {},
   "source": [
    "# Exercise 1.4: Basic Analysis"
   ]
  },
  {
   "cell_type": "code",
   "execution_count": 6,
   "metadata": {},
   "outputs": [
    {
     "name": "stdout",
     "output_type": "stream",
     "text": [
      "28416\n",
      "172079\n",
      "828481\n"
     ]
    }
   ],
   "source": [
    "# No. of Distinct Users\n",
    "d_users = userRatingsRDD.countByKey()\n",
    "total_users = sum(y for x, y in d_users.items())\n",
    "print(total_users)\n",
    "\n",
    "#28416\n",
    "\n",
    "# No. of Distinct Items\n",
    "d_items = paperTermsRDD.countByKey()\n",
    "total_items = sum(y for x, y in d_items.items())\n",
    "print(total_items)\n",
    "\n",
    "#172079\n",
    "\n",
    "# No. of Ratings\n",
    "ratings = exploded.countByValue()\n",
    "total_ratings = sum(y for x,y in ratings.items())\n",
    "print(total_ratings)\n",
    "\n",
    "#828481"
   ]
  },
  {
   "cell_type": "code",
   "execution_count": 7,
   "metadata": {},
   "outputs": [
    {
     "name": "stdout",
     "output_type": "stream",
     "text": [
      "Minimum:  1\n",
      "Maximum:  1922\n"
     ]
    }
   ],
   "source": [
    "# Minimum Rating Given by a user: userhash ratings.\n",
    "ratings = exploded.countByKey()\n",
    "ratings = ratings.values()\n",
    "\n",
    "mini = min(ratings)\n",
    "print(\"Minimum: \", mini)\n",
    "\n",
    "#Minimum: 1\n",
    "\n",
    "maxx = max(ratings)\n",
    "print(\"Maximum: \", maxx)\n",
    "#Maximum: 1922"
   ]
  },
  {
   "cell_type": "code",
   "execution_count": 8,
   "metadata": {},
   "outputs": [
    {
     "name": "stdout",
     "output_type": "stream",
     "text": [
      "Average:  29.155440596846848\n"
     ]
    }
   ],
   "source": [
    "# Average number ratings of users: For it we will use total ratings/distinct_users we calculated earlier.\n",
    "avg_rating = total_ratings/total_users\n",
    "print(\"Average: \", avg_rating)\n",
    "#Average:  29.155440596846848\n",
    "\n",
    "#Standard Deviation:"
   ]
  },
  {
   "cell_type": "code",
   "execution_count": 9,
   "metadata": {},
   "outputs": [
    {
     "name": "stdout",
     "output_type": "stream",
     "text": [
      "Minimum:  3\n",
      "Maximum:  924\n",
      "Average:  4.81453867119172\n"
     ]
    }
   ],
   "source": [
    "# Minimum number of Ratings an item has received.\n",
    "# CountByValue giving IOPub data rate exceeded Error.\n",
    "# Therefore using reversed_ rdd and countByKey.\n",
    "ratings_ = reversed_.countByKey()\n",
    "ratings_ = ratings_.values()\n",
    "\n",
    "min_rat = min(ratings_)\n",
    "print(\"Minimum: \", min_rat)\n",
    "\n",
    "#Minimum: 3\n",
    "max_rat = max(ratings_)\n",
    "print(\"Maximum: \", max_rat)\n",
    "\n",
    "#Maximum: 924\n",
    "\n",
    "#Average no. of ratings of Items, for This we will use total_ratings/total_items\n",
    "avg_rat_item = total_ratings/total_items\n",
    "print(\"Average: \", avg_rat_item)\n",
    "\n",
    "#Average: 4.81453867119172"
   ]
  },
  {
   "cell_type": "markdown",
   "metadata": {},
   "source": [
    "# Exercise 1.5 DataFrames"
   ]
  },
  {
   "cell_type": "code",
   "execution_count": 10,
   "metadata": {},
   "outputs": [
    {
     "name": "stdout",
     "output_type": "stream",
     "text": [
      "root\n",
      " |-- User: string (nullable = true)\n",
      " |-- Papers_ID: string (nullable = true)\n",
      "\n"
     ]
    }
   ],
   "source": [
    "# Using two columns as StringType (Later will assign second column (Papers_ID) to array.)\n",
    "schema = StructType([\n",
    "    StructField(\"User\", StringType(), False),\n",
    "    StructField(\"Papers_ID\", StringType(), True)\n",
    "])\n",
    "\n",
    "# Creating DataFrame df for users_libraries\n",
    "userDF = sqlC.read.schema(schema)\\\n",
    "        .option(\"header\", 'False').option(\"delimiter\", \";\").csv(\"users_libraries.txt\")\n",
    "\n",
    "\n",
    "#userDF.show(10, False)\n",
    "userDF.printSchema()\n",
    "#userDF.show(20, False)\n"
   ]
  },
  {
   "cell_type": "code",
   "execution_count": 11,
   "metadata": {},
   "outputs": [
    {
     "name": "stdout",
     "output_type": "stream",
     "text": [
      "+--------+-------+--------------------+----------+------+---------+-----+------+------+----+-----+-------------------+-------+--------------------+--------------------+\n",
      "|paper_id|   type|             journal|bookـtitle|series|publisher|pages|volume|number|year|month|           postedat|address|               title|            abstract|\n",
      "+--------+-------+--------------------+----------+------+---------+-----+------+------+----+-----+-------------------+-------+--------------------+--------------------+\n",
      "|   80546|article|biology and philo...|      null|  null|     null|   17|    19|     2|2004|  mar|2005-01-26 21:35:21|   null|the arbitrariness...|the genetic code ...|\n",
      "| 5842862|article|      molecular cell|      null|  null| elsevier|    2|    35|     6|2009|  sep|2009-09-30 17:11:23|   null|how to choose a g...|choosing good pro...|\n",
      "+--------+-------+--------------------+----------+------+---------+-----+------+------+----+-----+-------------------+-------+--------------------+--------------------+\n",
      "only showing top 2 rows\n",
      "\n",
      "root\n",
      " |-- paper_id: string (nullable = true)\n",
      " |-- type: string (nullable = true)\n",
      " |-- journal: string (nullable = true)\n",
      " |-- bookـtitle: string (nullable = true)\n",
      " |-- series: string (nullable = true)\n",
      " |-- publisher: string (nullable = true)\n",
      " |-- pages: string (nullable = true)\n",
      " |-- volume: string (nullable = true)\n",
      " |-- number: string (nullable = true)\n",
      " |-- year: string (nullable = true)\n",
      " |-- month: string (nullable = true)\n",
      " |-- postedat: string (nullable = true)\n",
      " |-- address: string (nullable = true)\n",
      " |-- title: string (nullable = true)\n",
      " |-- abstract: string (nullable = true)\n",
      "\n"
     ]
    }
   ],
   "source": [
    "# Creating Papers.csv DataFrame\n",
    "# I didnt create schema for this DF, because at the end i needed two columns and wanted to change\n",
    "# type of only paper_id column to IntegerType()\n",
    "paperDF = sqlC.read.csv(\"papers.csv\")\n",
    "columns= [\"paper_id\", \"type\", \"journal\", \"bookـtitle\", \"series\", \"publisher\", \"pages\", \"volume\", \"number\", \"year\", \"month\", \"postedat\",\"address\",\"title\", \"abstract\"]\n",
    "oldCols = paperDF.schema.names\n",
    "for i, x in enumerate(oldCols):\n",
    "    paperDF = paperDF.withColumnRenamed(x, columns[i])\n",
    "paperDF.show(2)\n",
    "paperDF.printSchema()"
   ]
  },
  {
   "cell_type": "markdown",
   "metadata": {},
   "source": [
    "# Exercise 1.3 with DataFrames ( Joining Collections )"
   ]
  },
  {
   "cell_type": "code",
   "execution_count": 12,
   "metadata": {},
   "outputs": [
    {
     "name": "stdout",
     "output_type": "stream",
     "text": [
      "+--------------------------------+---------------------------------------------------------------------------------------------------------------------------------------------------------------------------------------------------------------------------------------------------------------------------------------------------------------------------------------------------------------------------------------------------------------+\n",
      "|User                            |PapersID                                                                                                                                                                                                                                                                                                                                                                                                       |\n",
      "+--------------------------------+---------------------------------------------------------------------------------------------------------------------------------------------------------------------------------------------------------------------------------------------------------------------------------------------------------------------------------------------------------------------------------------------------------------+\n",
      "|28d3f81251d94b09735497477a5e4e02|[3929762, 503574, 5819422, 4238883, 5788061, 462949, 635215, 635216, 4810441, 3481823, 4165233, 3366480, 5984302, 4238942, 5490453, 4636156, 5996865, 4194836, 5828780, 4450195]                                                                                                                                                                                                                               |\n",
      "|d0c9aaa788153daeaf1f1538b3d46bbb|[2080631, 6343346, 5184704, 7756088, 2653863, 6607628, 4236212, 1277953, 226864, 3140015, 8806369, 311570, 5687747, 767516, 4781370, 2841637, 2445106, 1959511, 2688186, 2363430, 6614346, 853030, 5336762, 4226226, 239571, 4089758, 4140337, 913868, 7562861, 3190274, 2782576, 12571584, 2049617, 5761055, 5441098, 3466838, 2080691, 1805577, 7570111, 5760287, 2855355, 3281547, 1012525, 3512183, 678653]|\n",
      "+--------------------------------+---------------------------------------------------------------------------------------------------------------------------------------------------------------------------------------------------------------------------------------------------------------------------------------------------------------------------------------------------------------------------------------------------------------+\n",
      "only showing top 2 rows\n",
      "\n",
      "root\n",
      " |-- User: string (nullable = true)\n",
      " |-- PapersID: array (nullable = true)\n",
      " |    |-- element: string (containsNull = true)\n",
      "\n"
     ]
    }
   ],
   "source": [
    "#Type casting from str to array so i can apply explode function on papers_id column.\n",
    "def str_to_arr(my_list):\n",
    "    my_list = my_list.split(\",\")\n",
    "    return [x for x in my_list]\n",
    "\n",
    "str_to_arr_udf = udf(str_to_arr,ArrayType(StringType()))\n",
    "\n",
    "userDF = userDF.withColumn('PapersID',str_to_arr_udf(userDF[\"Papers_ID\"]))\n",
    "userDF = userDF.drop(\"Papers_ID\")\n",
    "userDF.show(2, False)\n",
    "userDF.printSchema()"
   ]
  },
  {
   "cell_type": "code",
   "execution_count": 13,
   "metadata": {},
   "outputs": [
    {
     "name": "stdout",
     "output_type": "stream",
     "text": [
      "+--------------------------------+--------+\n",
      "|User                            |Paper_ID|\n",
      "+--------------------------------+--------+\n",
      "|28d3f81251d94b09735497477a5e4e02|3929762 |\n",
      "|28d3f81251d94b09735497477a5e4e02|503574  |\n",
      "+--------------------------------+--------+\n",
      "only showing top 2 rows\n",
      "\n"
     ]
    }
   ],
   "source": [
    "# Checking if explode function is working properly\n",
    "userDF2 = userDF.select(userDF.User, sf.explode(userDF.PapersID))\n",
    "userDF2 = userDF2.withColumn(\"Paper_ID\", userDF2[\"col\"])\n",
    "userDF2 = userDF2.drop(\"col\")\n",
    "userDF2.show(2, False)"
   ]
  },
  {
   "cell_type": "code",
   "execution_count": 14,
   "metadata": {},
   "outputs": [
    {
     "name": "stdout",
     "output_type": "stream",
     "text": [
      "root\n",
      " |-- paper_id: integer (nullable = true)\n",
      " |-- type: string (nullable = true)\n",
      " |-- journal: string (nullable = true)\n",
      " |-- bookـtitle: string (nullable = true)\n",
      " |-- series: string (nullable = true)\n",
      " |-- publisher: string (nullable = true)\n",
      " |-- pages: string (nullable = true)\n",
      " |-- volume: string (nullable = true)\n",
      " |-- number: string (nullable = true)\n",
      " |-- year: string (nullable = true)\n",
      " |-- month: string (nullable = true)\n",
      " |-- postedat: string (nullable = true)\n",
      " |-- address: string (nullable = true)\n",
      " |-- title: string (nullable = true)\n",
      " |-- abstract: string (nullable = true)\n",
      "\n"
     ]
    }
   ],
   "source": [
    "# Changing datatype of paper_id to IntegerType()\n",
    "paperDF = paperDF.withColumn(\"paper_id\", col(\"paper_id\").cast(IntegerType()))\n",
    "paperDF.printSchema()"
   ]
  },
  {
   "cell_type": "code",
   "execution_count": 16,
   "metadata": {},
   "outputs": [
    {
     "name": "stdout",
     "output_type": "stream",
     "text": [
      "+--------+--------------------+\n",
      "|paper_id|            abstract|\n",
      "+--------+--------------------+\n",
      "|   80546|the genetic code ...|\n",
      "| 5842862|choosing good pro...|\n",
      "+--------+--------------------+\n",
      "only showing top 2 rows\n",
      "\n"
     ]
    }
   ],
   "source": [
    "#Taking subset of Dataset before joining with userDF.\n",
    "papersDF = paperDF[\"paper_id\", \"abstract\"]\n",
    "papersDF.show(2)"
   ]
  },
  {
   "cell_type": "code",
   "execution_count": 17,
   "metadata": {},
   "outputs": [
    {
     "name": "stdout",
     "output_type": "stream",
     "text": [
      "+--------------------------------+--------+--------+--------------------------------------------------------------------------------------------------------------------------------------------------------------------------------------------------------------------------------------------------------------------------------------------------------------------------------------------------------------------------------------------------------------------------------------------------------------------------------------------------------------------------------------------------------------------------------------------------------------------------------------------------------------------------------------------------------------------------------------------------------------------------------------------------------------------------------------------------------------------------------------------------------------------------------------------------------------------------------------------------------------------------------------------------------------------------------------------------------------------------------------------------------------------------------------------------------------------------------------------------------------------+\n",
      "|User                            |Paper_ID|paper_id|abstract                                                                                                                                                                                                                                                                                                                                                                                                                                                                                                                                                                                                                                                                                                                                                                                                                                                                                                                                                                                                                                                                                                                                                                                                                                                            |\n",
      "+--------------------------------+--------+--------+--------------------------------------------------------------------------------------------------------------------------------------------------------------------------------------------------------------------------------------------------------------------------------------------------------------------------------------------------------------------------------------------------------------------------------------------------------------------------------------------------------------------------------------------------------------------------------------------------------------------------------------------------------------------------------------------------------------------------------------------------------------------------------------------------------------------------------------------------------------------------------------------------------------------------------------------------------------------------------------------------------------------------------------------------------------------------------------------------------------------------------------------------------------------------------------------------------------------------------------------------------------------+\n",
      "|54daa5d96cafa229a801ba8dd7a24e57|80546   |80546   |the genetic code has been regarded as arbitrary in the sense that the codon-amino acid assignments could be different than they actually are. this general idea has been spelled out differently by previous, often rather implicit accounts of arbitrariness. they have drawn on the frozen accident theory, on evolutionary contingency, on alternative causal pathways, and on the absence of direct stereochemical interactions between codons and amino acids. it has also been suggested that the arbitrariness of the genetic code justifies attributing semantic information to macromolecules, notably to {dna}. i argue that these accounts of arbitrariness are unsatisfactory. i propose that the code is arbitrary in the sense of jacques monod's concept of chemical arbitrariness: the genetic code is arbitrary in that any codon requires certain chemical and structural properties to specify a particular amino acid, but these properties are not required in virtue of a principle of chemistry. this notion of arbitrariness is compatible with several recent hypotheses about code evolution. i maintain that the code's chemical arbitrariness is neither sufficient nor necessary for attributing semantic information to nucleic acids.|\n",
      "|14b532ec70ec6d5ad633792b9c800919|80546   |80546   |the genetic code has been regarded as arbitrary in the sense that the codon-amino acid assignments could be different than they actually are. this general idea has been spelled out differently by previous, often rather implicit accounts of arbitrariness. they have drawn on the frozen accident theory, on evolutionary contingency, on alternative causal pathways, and on the absence of direct stereochemical interactions between codons and amino acids. it has also been suggested that the arbitrariness of the genetic code justifies attributing semantic information to macromolecules, notably to {dna}. i argue that these accounts of arbitrariness are unsatisfactory. i propose that the code is arbitrary in the sense of jacques monod's concept of chemical arbitrariness: the genetic code is arbitrary in that any codon requires certain chemical and structural properties to specify a particular amino acid, but these properties are not required in virtue of a principle of chemistry. this notion of arbitrariness is compatible with several recent hypotheses about code evolution. i maintain that the code's chemical arbitrariness is neither sufficient nor necessary for attributing semantic information to nucleic acids.|\n",
      "+--------------------------------+--------+--------+--------------------------------------------------------------------------------------------------------------------------------------------------------------------------------------------------------------------------------------------------------------------------------------------------------------------------------------------------------------------------------------------------------------------------------------------------------------------------------------------------------------------------------------------------------------------------------------------------------------------------------------------------------------------------------------------------------------------------------------------------------------------------------------------------------------------------------------------------------------------------------------------------------------------------------------------------------------------------------------------------------------------------------------------------------------------------------------------------------------------------------------------------------------------------------------------------------------------------------------------------------------------+\n",
      "only showing top 2 rows\n",
      "\n"
     ]
    }
   ],
   "source": [
    "joined = userDF2.join(papersDF, [papersDF.paper_id == userDF2.Paper_ID], \"inner\")\n",
    "joined.show(2, False)"
   ]
  },
  {
   "cell_type": "code",
   "execution_count": 18,
   "metadata": {},
   "outputs": [
    {
     "name": "stdout",
     "output_type": "stream",
     "text": [
      "+--------------------------------+--------------------------------------------------------------------------------------------------------------------------------------------------------------------------------------------------------------------------------------------------------------------------------------------------------------------------------------------------------------------------------------------------------------------------------------------------------------------------------------------------------------------------------------------------------------------------------------------------------------------------------------------------------------------------------------------------------------------------------------------------------------------------------------------------------------------------------------------------------------------------------------------------------------------------------------------------------------------------------------------------------------------------------------------------------------------------------------------------------------------------------------------------------------------------------------------------------------------------------------------------------------------+\n",
      "|User                            |abstract                                                                                                                                                                                                                                                                                                                                                                                                                                                                                                                                                                                                                                                                                                                                                                                                                                                                                                                                                                                                                                                                                                                                                                                                                                                            |\n",
      "+--------------------------------+--------------------------------------------------------------------------------------------------------------------------------------------------------------------------------------------------------------------------------------------------------------------------------------------------------------------------------------------------------------------------------------------------------------------------------------------------------------------------------------------------------------------------------------------------------------------------------------------------------------------------------------------------------------------------------------------------------------------------------------------------------------------------------------------------------------------------------------------------------------------------------------------------------------------------------------------------------------------------------------------------------------------------------------------------------------------------------------------------------------------------------------------------------------------------------------------------------------------------------------------------------------------+\n",
      "|54daa5d96cafa229a801ba8dd7a24e57|the genetic code has been regarded as arbitrary in the sense that the codon-amino acid assignments could be different than they actually are. this general idea has been spelled out differently by previous, often rather implicit accounts of arbitrariness. they have drawn on the frozen accident theory, on evolutionary contingency, on alternative causal pathways, and on the absence of direct stereochemical interactions between codons and amino acids. it has also been suggested that the arbitrariness of the genetic code justifies attributing semantic information to macromolecules, notably to {dna}. i argue that these accounts of arbitrariness are unsatisfactory. i propose that the code is arbitrary in the sense of jacques monod's concept of chemical arbitrariness: the genetic code is arbitrary in that any codon requires certain chemical and structural properties to specify a particular amino acid, but these properties are not required in virtue of a principle of chemistry. this notion of arbitrariness is compatible with several recent hypotheses about code evolution. i maintain that the code's chemical arbitrariness is neither sufficient nor necessary for attributing semantic information to nucleic acids.|\n",
      "+--------------------------------+--------------------------------------------------------------------------------------------------------------------------------------------------------------------------------------------------------------------------------------------------------------------------------------------------------------------------------------------------------------------------------------------------------------------------------------------------------------------------------------------------------------------------------------------------------------------------------------------------------------------------------------------------------------------------------------------------------------------------------------------------------------------------------------------------------------------------------------------------------------------------------------------------------------------------------------------------------------------------------------------------------------------------------------------------------------------------------------------------------------------------------------------------------------------------------------------------------------------------------------------------------------------+\n",
      "only showing top 1 row\n",
      "\n"
     ]
    }
   ],
   "source": [
    "# Dropping PaperID columns as we just need to count words of a user.\n",
    "user_abs = joined.drop(\"paper_id\", \"Paper_ID\")\n",
    "user_abs.show(1, False)"
   ]
  },
  {
   "cell_type": "markdown",
   "metadata": {},
   "source": [
    "# Exercise 1.4 with DataFrames ( Basic Analysis )"
   ]
  },
  {
   "cell_type": "code",
   "execution_count": 19,
   "metadata": {},
   "outputs": [
    {
     "name": "stdout",
     "output_type": "stream",
     "text": [
      "Distinct Users: 28416\n",
      "Distinct Items:  172079\n",
      "Total Ratings:  828481\n"
     ]
    }
   ],
   "source": [
    "#Number of Distinct Users.\n",
    "dist_Users = user_abs.select(user_abs.User).distinct().count()\n",
    "print(\"Distinct Users:\",dist_Users)\n",
    "\n",
    "#Distinct Users: 28416\n",
    "\n",
    "dist_items = papersDF.select(papersDF.paper_id).distinct().count()\n",
    "print(\"Distinct Items: \",dist_items)\n",
    "\n",
    "# Distinct Items: 172079\n",
    "\n",
    "#Total Ratings:\n",
    "total_ratings = user_abs.select(user_abs.abstract).count()\n",
    "print(\"Total Ratings: \", total_ratings)\n",
    "\n",
    "#Total Ratings: 828481"
   ]
  },
  {
   "cell_type": "code",
   "execution_count": 20,
   "metadata": {},
   "outputs": [
    {
     "name": "stdout",
     "output_type": "stream",
     "text": [
      "+----------+\n",
      "|min(Count)|\n",
      "+----------+\n",
      "|         1|\n",
      "+----------+\n",
      "\n",
      "+----------+\n",
      "|max(Count)|\n",
      "+----------+\n",
      "|      1922|\n",
      "+----------+\n",
      "\n",
      "+------------------+\n",
      "|        avg(Count)|\n",
      "+------------------+\n",
      "|29.155440596846848|\n",
      "+------------------+\n",
      "\n",
      "+-----------------+\n",
      "|    stddev(Count)|\n",
      "+-----------------+\n",
      "|81.17660451011595|\n",
      "+-----------------+\n",
      "\n"
     ]
    }
   ],
   "source": [
    "# Minimum number of Ratings a user has given.\n",
    "rat_user = userDF.select(userDF.PapersID).withColumn(\"Count\", size(userDF.PapersID))\n",
    "\n",
    "#Minimum\n",
    "rat_user.agg({\"Count\": 'min'}).show()\n",
    "\n",
    "#Maximum\n",
    "rat_user.agg({\"Count\": 'max'}).show()\n",
    "\n",
    "#Average\n",
    "rat_user.agg({\"Count\": 'avg'}).show()\n",
    "\n",
    "#Std\n",
    "rat_user.agg({\"Count\": 'std'}).show()\n"
   ]
  },
  {
   "cell_type": "code",
   "execution_count": 21,
   "metadata": {},
   "outputs": [
    {
     "name": "stdout",
     "output_type": "stream",
     "text": [
      "+----------+\n",
      "|min(Count)|\n",
      "+----------+\n",
      "|         3|\n",
      "+----------+\n",
      "\n",
      "+----------+\n",
      "|max(Count)|\n",
      "+----------+\n",
      "|       924|\n",
      "+----------+\n",
      "\n",
      "+----------------+\n",
      "|      avg(Count)|\n",
      "+----------------+\n",
      "|4.81453867119172|\n",
      "+----------------+\n",
      "\n",
      "+-----------------+\n",
      "|    stddev(Count)|\n",
      "+-----------------+\n",
      "|5.477818208917285|\n",
      "+-----------------+\n",
      "\n"
     ]
    }
   ],
   "source": [
    "# Minimum rating an Item has received\n",
    "#min_rat_item = userDF2.select(userDF2.Paper_ID).withColumn(\"Count\", )\n",
    "\n",
    "min_rat_items = userDF2.groupBy(\"Paper_ID\").count()\n",
    "\n",
    "#Minimum\n",
    "min_rat_items.agg({\"Count\": 'min'}).show()\n",
    "\n",
    "#Maximum\n",
    "min_rat_items.agg({\"Count\": 'max'}).show()\n",
    "\n",
    "#Average\n",
    "min_rat_items.agg({\"Count\": 'avg'}).show()\n",
    "\n",
    "# Standard Deviation\n",
    "min_rat_items.agg({\"Count\": \"std\"}).show()\n",
    "#5.477818208917285"
   ]
  },
  {
   "cell_type": "code",
   "execution_count": null,
   "metadata": {},
   "outputs": [],
   "source": []
  }
 ],
 "metadata": {
  "kernelspec": {
   "display_name": "Python 3",
   "language": "python",
   "name": "python3"
  },
  "language_info": {
   "codemirror_mode": {
    "name": "ipython",
    "version": 3
   },
   "file_extension": ".py",
   "mimetype": "text/x-python",
   "name": "python",
   "nbconvert_exporter": "python",
   "pygments_lexer": "ipython3",
   "version": "3.7.6"
  }
 },
 "nbformat": 4,
 "nbformat_minor": 4
}
